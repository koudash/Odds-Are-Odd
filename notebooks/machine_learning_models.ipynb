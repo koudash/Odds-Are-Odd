{
 "cells": [
  {
   "cell_type": "code",
   "execution_count": 1,
   "metadata": {},
   "outputs": [],
   "source": [
    "import pandas as pd\n",
    "import numpy as np\n",
    "from scipy import stats\n",
    "import matplotlib.pyplot as plt"
   ]
  },
  {
   "cell_type": "code",
   "execution_count": 2,
   "metadata": {},
   "outputs": [],
   "source": [
    "# Dict for leagues\n",
    "league_dict = {\n",
    "    # Name of leagues\n",
    "    \"league\": [\"PremierLeague\", \"Serie-A\", \"MLS\", \"LaLiga\", \"Bundesliga\", \"Ligue1\"],\n",
    "    # Limit of odds time limit in minutes towards start of the match as determined in Tableau\n",
    "    \"odds_limit\" : [30240, 20160, 10080, 20160, 30240, 20160]\n",
    "}\n",
    "\n",
    "# List for companies\n",
    "company_list = [\"Bet365\", \"WilliamHill\", \"Bwin\", \"12Bet\"]"
   ]
  },
  {
   "cell_type": "code",
   "execution_count": 3,
   "metadata": {},
   "outputs": [],
   "source": [
    "# To concatenate with league name for csv file to be read\n",
    "csv_concat = \"_S2018-2019.csv\""
   ]
  },
  {
   "cell_type": "code",
   "execution_count": 4,
   "metadata": {},
   "outputs": [],
   "source": [
    "# .......... FUNCTION TO BUILD CLASSIFIER FOR NEURAL NETWORK MODEL .......... #\n",
    "def build_classifier(optimizer):\n",
    "    classifier = Sequential()\n",
    "\n",
    "    # Hidden layer\n",
    "    classifier.add(Dense(units=3,     # Unit determination see below\n",
    "                         activation=\"relu\",\n",
    "                         input_dim=len(feature_dict[f])                         \n",
    "                        ))\n",
    "    # Output layer\n",
    "    classifier.add(Dense(units=3,     # Output\n",
    "                         activation=\"softmax\"\n",
    "                        ))\n",
    "    # Compile the neural work\n",
    "    classifier.compile(\n",
    "        optimizer=optimizer,\n",
    "        loss=\"categorical_crossentropy\",\n",
    "        metrics=[\"accuracy\"]\n",
    "    )\n",
    "    \n",
    "    return classifier\n",
    "# .......... FUNCTION ENDS .......... #\n",
    "\n",
    "'''\n",
    "NUMBER OF HIDDEN NEURONS IN NEURAL NETWORK MODEL\n",
    "\n",
    "According to the ref:\n",
    "https://stats.stackexchange.com/questions/181/how-to-choose-the-number-of-hidden-layers-and-nodes-in-a-feedforward-neural-netw\n",
    "1. Layer of hidden nodes is set to 1\n",
    "2. Number of input neurons is the length of features (4)\n",
    "3. Number of output neurons is 3\n",
    "4. Number of hidden neurons (hn) is supposed to be selected between 3 (output) and 4 (input), exclusive\n",
    "\n",
    "In this study, the unit is set as 3\n",
    "'''"
   ]
  },
  {
   "cell_type": "code",
   "execution_count": 5,
   "metadata": {
    "collapsed": true
   },
   "outputs": [
    {
     "name": "stderr",
     "output_type": "stream",
     "text": [
      "Using TensorFlow backend.\n",
      "C:\\Users\\kouda\\Anaconda3\\lib\\site-packages\\sklearn\\preprocessing\\data.py:323: DataConversionWarning: Data with input dtype int64, float64 were all converted to float64 by MinMaxScaler.\n",
      "  return self.partial_fit(X, y)\n"
     ]
    },
    {
     "name": "stdout",
     "output_type": "stream",
     "text": [
      "****************************************************************************************************\n",
      "Current iterating: PremierLeague|Bet365|target.ori|f4|RF\n",
      "PremierLeague|Bet365|target.ori|f4|RF DONE!!!\n",
      "\n",
      "****************************************************************************************************\n",
      "Current iterating: PremierLeague|Bet365|target.ori|f4|SVM\n"
     ]
    },
    {
     "name": "stderr",
     "output_type": "stream",
     "text": [
      "C:\\Users\\kouda\\Anaconda3\\lib\\site-packages\\sklearn\\metrics\\classification.py:1143: UndefinedMetricWarning: Precision and F-score are ill-defined and being set to 0.0 in labels with no predicted samples.\n",
      "  'precision', 'predicted', average, warn_for)\n"
     ]
    },
    {
     "name": "stdout",
     "output_type": "stream",
     "text": [
      "PremierLeague|Bet365|target.ori|f4|SVM DONE!!!\n",
      "\n",
      "****************************************************************************************************\n",
      "Current iterating: PremierLeague|Bet365|target.ori|f4|KNN\n"
     ]
    },
    {
     "name": "stderr",
     "output_type": "stream",
     "text": [
      "WARNING: Logging before flag parsing goes to stderr.\n",
      "W0729 23:35:28.432992  7324 deprecation.py:506] From C:\\Users\\kouda\\Anaconda3\\lib\\site-packages\\tensorflow\\python\\ops\\init_ops.py:1251: calling VarianceScaling.__init__ (from tensorflow.python.ops.init_ops) with dtype is deprecated and will be removed in a future version.\n",
      "Instructions for updating:\n",
      "Call initializer instance with the dtype argument instead of passing it to the constructor\n"
     ]
    },
    {
     "name": "stdout",
     "output_type": "stream",
     "text": [
      "PremierLeague|Bet365|target.ori|f4|KNN DONE!!!\n",
      "\n",
      "****************************************************************************************************\n",
      "Current iterating: PremierLeague|Bet365|target.ori|f4|NN\n"
     ]
    },
    {
     "name": "stderr",
     "output_type": "stream",
     "text": [
      "C:\\Users\\kouda\\Anaconda3\\lib\\site-packages\\sklearn\\metrics\\classification.py:1143: UndefinedMetricWarning: Precision and F-score are ill-defined and being set to 0.0 in labels with no predicted samples.\n",
      "  'precision', 'predicted', average, warn_for)\n",
      "C:\\Users\\kouda\\Anaconda3\\lib\\site-packages\\sklearn\\preprocessing\\data.py:323: DataConversionWarning: Data with input dtype int64, float64 were all converted to float64 by MinMaxScaler.\n",
      "  return self.partial_fit(X, y)\n"
     ]
    },
    {
     "name": "stdout",
     "output_type": "stream",
     "text": [
      "PremierLeague|Bet365|target.ori|f4|NN DONE!!!\n",
      "\n",
      "****************************************************************************************************\n",
      "Current iterating: PremierLeague|Bet365|target.ori|f3|RF\n",
      "PremierLeague|Bet365|target.ori|f3|RF DONE!!!\n",
      "\n",
      "****************************************************************************************************\n",
      "Current iterating: PremierLeague|Bet365|target.ori|f3|SVM\n"
     ]
    },
    {
     "name": "stderr",
     "output_type": "stream",
     "text": [
      "C:\\Users\\kouda\\Anaconda3\\lib\\site-packages\\sklearn\\metrics\\classification.py:1143: UndefinedMetricWarning: Precision and F-score are ill-defined and being set to 0.0 in labels with no predicted samples.\n",
      "  'precision', 'predicted', average, warn_for)\n"
     ]
    },
    {
     "name": "stdout",
     "output_type": "stream",
     "text": [
      "PremierLeague|Bet365|target.ori|f3|SVM DONE!!!\n",
      "\n",
      "****************************************************************************************************\n",
      "Current iterating: PremierLeague|Bet365|target.ori|f3|KNN\n",
      "PremierLeague|Bet365|target.ori|f3|KNN DONE!!!\n",
      "\n",
      "****************************************************************************************************\n",
      "Current iterating: PremierLeague|Bet365|target.ori|f3|NN\n"
     ]
    },
    {
     "name": "stderr",
     "output_type": "stream",
     "text": [
      "C:\\Users\\kouda\\Anaconda3\\lib\\site-packages\\sklearn\\metrics\\classification.py:1143: UndefinedMetricWarning: Precision and F-score are ill-defined and being set to 0.0 in labels with no predicted samples.\n",
      "  'precision', 'predicted', average, warn_for)\n",
      "C:\\Users\\kouda\\Anaconda3\\lib\\site-packages\\sklearn\\preprocessing\\data.py:323: DataConversionWarning: Data with input dtype int64, float64 were all converted to float64 by MinMaxScaler.\n",
      "  return self.partial_fit(X, y)\n"
     ]
    },
    {
     "name": "stdout",
     "output_type": "stream",
     "text": [
      "PremierLeague|Bet365|target.ori|f3|NN DONE!!!\n",
      "\n",
      "****************************************************************************************************\n",
      "Current iterating: PremierLeague|Bet365|target.alt|f4|RF\n",
      "PremierLeague|Bet365|target.alt|f4|RF DONE!!!\n",
      "\n",
      "****************************************************************************************************\n",
      "Current iterating: PremierLeague|Bet365|target.alt|f4|SVM\n"
     ]
    },
    {
     "name": "stderr",
     "output_type": "stream",
     "text": [
      "C:\\Users\\kouda\\Anaconda3\\lib\\site-packages\\sklearn\\metrics\\classification.py:1143: UndefinedMetricWarning: Precision and F-score are ill-defined and being set to 0.0 in labels with no predicted samples.\n",
      "  'precision', 'predicted', average, warn_for)\n"
     ]
    },
    {
     "name": "stdout",
     "output_type": "stream",
     "text": [
      "PremierLeague|Bet365|target.alt|f4|SVM DONE!!!\n",
      "\n",
      "****************************************************************************************************\n",
      "Current iterating: PremierLeague|Bet365|target.alt|f4|KNN\n",
      "PremierLeague|Bet365|target.alt|f4|KNN DONE!!!\n",
      "\n",
      "****************************************************************************************************\n",
      "Current iterating: PremierLeague|Bet365|target.alt|f4|NN\n",
      "PremierLeague|Bet365|target.alt|f4|NN DONE!!!\n",
      "\n",
      "****************************************************************************************************\n",
      "Current iterating: PremierLeague|Bet365|target.alt|f3|RF\n"
     ]
    },
    {
     "name": "stderr",
     "output_type": "stream",
     "text": [
      "C:\\Users\\kouda\\Anaconda3\\lib\\site-packages\\sklearn\\preprocessing\\data.py:323: DataConversionWarning: Data with input dtype int64, float64 were all converted to float64 by MinMaxScaler.\n",
      "  return self.partial_fit(X, y)\n"
     ]
    },
    {
     "name": "stdout",
     "output_type": "stream",
     "text": [
      "PremierLeague|Bet365|target.alt|f3|RF DONE!!!\n",
      "\n",
      "****************************************************************************************************\n",
      "Current iterating: PremierLeague|Bet365|target.alt|f3|SVM\n"
     ]
    },
    {
     "name": "stderr",
     "output_type": "stream",
     "text": [
      "C:\\Users\\kouda\\Anaconda3\\lib\\site-packages\\sklearn\\metrics\\classification.py:1143: UndefinedMetricWarning: Precision and F-score are ill-defined and being set to 0.0 in labels with no predicted samples.\n",
      "  'precision', 'predicted', average, warn_for)\n"
     ]
    },
    {
     "name": "stdout",
     "output_type": "stream",
     "text": [
      "PremierLeague|Bet365|target.alt|f3|SVM DONE!!!\n",
      "\n",
      "****************************************************************************************************\n",
      "Current iterating: PremierLeague|Bet365|target.alt|f3|KNN\n",
      "PremierLeague|Bet365|target.alt|f3|KNN DONE!!!\n",
      "\n",
      "****************************************************************************************************\n",
      "Current iterating: PremierLeague|Bet365|target.alt|f3|NN\n"
     ]
    },
    {
     "name": "stderr",
     "output_type": "stream",
     "text": [
      "C:\\Users\\kouda\\Anaconda3\\lib\\site-packages\\sklearn\\metrics\\classification.py:1143: UndefinedMetricWarning: Precision and F-score are ill-defined and being set to 0.0 in labels with no predicted samples.\n",
      "  'precision', 'predicted', average, warn_for)\n",
      "C:\\Users\\kouda\\Anaconda3\\lib\\site-packages\\sklearn\\preprocessing\\data.py:323: DataConversionWarning: Data with input dtype int64, float64 were all converted to float64 by MinMaxScaler.\n",
      "  return self.partial_fit(X, y)\n"
     ]
    },
    {
     "name": "stdout",
     "output_type": "stream",
     "text": [
      "PremierLeague|Bet365|target.alt|f3|NN DONE!!!\n",
      "\n",
      "****************************************************************************************************\n",
      "Current iterating: PremierLeague|WilliamHill|target.ori|f4|RF\n",
      "PremierLeague|WilliamHill|target.ori|f4|RF DONE!!!\n",
      "\n",
      "****************************************************************************************************\n",
      "Current iterating: PremierLeague|WilliamHill|target.ori|f4|SVM\n"
     ]
    },
    {
     "name": "stderr",
     "output_type": "stream",
     "text": [
      "C:\\Users\\kouda\\Anaconda3\\lib\\site-packages\\sklearn\\metrics\\classification.py:1143: UndefinedMetricWarning: Precision and F-score are ill-defined and being set to 0.0 in labels with no predicted samples.\n",
      "  'precision', 'predicted', average, warn_for)\n"
     ]
    },
    {
     "name": "stdout",
     "output_type": "stream",
     "text": [
      "PremierLeague|WilliamHill|target.ori|f4|SVM DONE!!!\n",
      "\n",
      "****************************************************************************************************\n",
      "Current iterating: PremierLeague|WilliamHill|target.ori|f4|KNN\n",
      "PremierLeague|WilliamHill|target.ori|f4|KNN DONE!!!\n",
      "\n",
      "****************************************************************************************************\n",
      "Current iterating: PremierLeague|WilliamHill|target.ori|f4|NN\n"
     ]
    },
    {
     "name": "stderr",
     "output_type": "stream",
     "text": [
      "C:\\Users\\kouda\\Anaconda3\\lib\\site-packages\\sklearn\\metrics\\classification.py:1143: UndefinedMetricWarning: Precision and F-score are ill-defined and being set to 0.0 in labels with no predicted samples.\n",
      "  'precision', 'predicted', average, warn_for)\n",
      "C:\\Users\\kouda\\Anaconda3\\lib\\site-packages\\sklearn\\preprocessing\\data.py:323: DataConversionWarning: Data with input dtype int64, float64 were all converted to float64 by MinMaxScaler.\n",
      "  return self.partial_fit(X, y)\n"
     ]
    },
    {
     "name": "stdout",
     "output_type": "stream",
     "text": [
      "PremierLeague|WilliamHill|target.ori|f4|NN DONE!!!\n",
      "\n",
      "****************************************************************************************************\n",
      "Current iterating: PremierLeague|WilliamHill|target.ori|f3|RF\n",
      "PremierLeague|WilliamHill|target.ori|f3|RF DONE!!!\n",
      "\n",
      "****************************************************************************************************\n",
      "Current iterating: PremierLeague|WilliamHill|target.ori|f3|SVM\n"
     ]
    },
    {
     "name": "stderr",
     "output_type": "stream",
     "text": [
      "C:\\Users\\kouda\\Anaconda3\\lib\\site-packages\\sklearn\\metrics\\classification.py:1143: UndefinedMetricWarning: Precision and F-score are ill-defined and being set to 0.0 in labels with no predicted samples.\n",
      "  'precision', 'predicted', average, warn_for)\n"
     ]
    },
    {
     "name": "stdout",
     "output_type": "stream",
     "text": [
      "PremierLeague|WilliamHill|target.ori|f3|SVM DONE!!!\n",
      "\n",
      "****************************************************************************************************\n",
      "Current iterating: PremierLeague|WilliamHill|target.ori|f3|KNN\n",
      "PremierLeague|WilliamHill|target.ori|f3|KNN DONE!!!\n",
      "\n",
      "****************************************************************************************************\n",
      "Current iterating: PremierLeague|WilliamHill|target.ori|f3|NN\n"
     ]
    },
    {
     "name": "stderr",
     "output_type": "stream",
     "text": [
      "C:\\Users\\kouda\\Anaconda3\\lib\\site-packages\\sklearn\\metrics\\classification.py:1143: UndefinedMetricWarning: Precision and F-score are ill-defined and being set to 0.0 in labels with no predicted samples.\n",
      "  'precision', 'predicted', average, warn_for)\n",
      "C:\\Users\\kouda\\Anaconda3\\lib\\site-packages\\sklearn\\preprocessing\\data.py:323: DataConversionWarning: Data with input dtype int64, float64 were all converted to float64 by MinMaxScaler.\n",
      "  return self.partial_fit(X, y)\n"
     ]
    },
    {
     "name": "stdout",
     "output_type": "stream",
     "text": [
      "PremierLeague|WilliamHill|target.ori|f3|NN DONE!!!\n",
      "\n",
      "****************************************************************************************************\n",
      "Current iterating: PremierLeague|WilliamHill|target.alt|f4|RF\n",
      "PremierLeague|WilliamHill|target.alt|f4|RF DONE!!!\n",
      "\n",
      "****************************************************************************************************\n",
      "Current iterating: PremierLeague|WilliamHill|target.alt|f4|SVM\n"
     ]
    },
    {
     "name": "stderr",
     "output_type": "stream",
     "text": [
      "C:\\Users\\kouda\\Anaconda3\\lib\\site-packages\\sklearn\\metrics\\classification.py:1143: UndefinedMetricWarning: Precision and F-score are ill-defined and being set to 0.0 in labels with no predicted samples.\n",
      "  'precision', 'predicted', average, warn_for)\n"
     ]
    },
    {
     "name": "stdout",
     "output_type": "stream",
     "text": [
      "PremierLeague|WilliamHill|target.alt|f4|SVM DONE!!!\n",
      "\n",
      "****************************************************************************************************\n",
      "Current iterating: PremierLeague|WilliamHill|target.alt|f4|KNN\n",
      "PremierLeague|WilliamHill|target.alt|f4|KNN DONE!!!\n",
      "\n",
      "****************************************************************************************************\n",
      "Current iterating: PremierLeague|WilliamHill|target.alt|f4|NN\n"
     ]
    },
    {
     "name": "stderr",
     "output_type": "stream",
     "text": [
      "C:\\Users\\kouda\\Anaconda3\\lib\\site-packages\\sklearn\\metrics\\classification.py:1143: UndefinedMetricWarning: Precision and F-score are ill-defined and being set to 0.0 in labels with no predicted samples.\n",
      "  'precision', 'predicted', average, warn_for)\n",
      "C:\\Users\\kouda\\Anaconda3\\lib\\site-packages\\sklearn\\preprocessing\\data.py:323: DataConversionWarning: Data with input dtype int64, float64 were all converted to float64 by MinMaxScaler.\n",
      "  return self.partial_fit(X, y)\n"
     ]
    },
    {
     "name": "stdout",
     "output_type": "stream",
     "text": [
      "PremierLeague|WilliamHill|target.alt|f4|NN DONE!!!\n",
      "\n",
      "****************************************************************************************************\n",
      "Current iterating: PremierLeague|WilliamHill|target.alt|f3|RF\n",
      "PremierLeague|WilliamHill|target.alt|f3|RF DONE!!!\n",
      "\n",
      "****************************************************************************************************\n",
      "Current iterating: PremierLeague|WilliamHill|target.alt|f3|SVM\n"
     ]
    },
    {
     "name": "stderr",
     "output_type": "stream",
     "text": [
      "C:\\Users\\kouda\\Anaconda3\\lib\\site-packages\\sklearn\\metrics\\classification.py:1143: UndefinedMetricWarning: Precision and F-score are ill-defined and being set to 0.0 in labels with no predicted samples.\n",
      "  'precision', 'predicted', average, warn_for)\n"
     ]
    },
    {
     "name": "stdout",
     "output_type": "stream",
     "text": [
      "PremierLeague|WilliamHill|target.alt|f3|SVM DONE!!!\n",
      "\n",
      "****************************************************************************************************\n",
      "Current iterating: PremierLeague|WilliamHill|target.alt|f3|KNN\n",
      "PremierLeague|WilliamHill|target.alt|f3|KNN DONE!!!\n",
      "\n",
      "****************************************************************************************************\n",
      "Current iterating: PremierLeague|WilliamHill|target.alt|f3|NN\n"
     ]
    },
    {
     "name": "stderr",
     "output_type": "stream",
     "text": [
      "C:\\Users\\kouda\\Anaconda3\\lib\\site-packages\\sklearn\\metrics\\classification.py:1143: UndefinedMetricWarning: Precision and F-score are ill-defined and being set to 0.0 in labels with no predicted samples.\n",
      "  'precision', 'predicted', average, warn_for)\n",
      "C:\\Users\\kouda\\Anaconda3\\lib\\site-packages\\sklearn\\preprocessing\\data.py:323: DataConversionWarning: Data with input dtype int64, float64 were all converted to float64 by MinMaxScaler.\n",
      "  return self.partial_fit(X, y)\n"
     ]
    },
    {
     "name": "stdout",
     "output_type": "stream",
     "text": [
      "PremierLeague|WilliamHill|target.alt|f3|NN DONE!!!\n",
      "\n",
      "****************************************************************************************************\n",
      "Current iterating: PremierLeague|Bwin|target.ori|f4|RF\n",
      "PremierLeague|Bwin|target.ori|f4|RF DONE!!!\n",
      "\n",
      "****************************************************************************************************\n",
      "Current iterating: PremierLeague|Bwin|target.ori|f4|SVM\n"
     ]
    },
    {
     "name": "stderr",
     "output_type": "stream",
     "text": [
      "C:\\Users\\kouda\\Anaconda3\\lib\\site-packages\\sklearn\\metrics\\classification.py:1143: UndefinedMetricWarning: Precision and F-score are ill-defined and being set to 0.0 in labels with no predicted samples.\n",
      "  'precision', 'predicted', average, warn_for)\n"
     ]
    },
    {
     "name": "stdout",
     "output_type": "stream",
     "text": [
      "PremierLeague|Bwin|target.ori|f4|SVM DONE!!!\n",
      "\n",
      "****************************************************************************************************\n",
      "Current iterating: PremierLeague|Bwin|target.ori|f4|KNN\n",
      "PremierLeague|Bwin|target.ori|f4|KNN DONE!!!\n",
      "\n",
      "****************************************************************************************************\n",
      "Current iterating: PremierLeague|Bwin|target.ori|f4|NN\n"
     ]
    },
    {
     "name": "stderr",
     "output_type": "stream",
     "text": [
      "C:\\Users\\kouda\\Anaconda3\\lib\\site-packages\\sklearn\\metrics\\classification.py:1143: UndefinedMetricWarning: Precision and F-score are ill-defined and being set to 0.0 in labels with no predicted samples.\n",
      "  'precision', 'predicted', average, warn_for)\n",
      "C:\\Users\\kouda\\Anaconda3\\lib\\site-packages\\sklearn\\preprocessing\\data.py:323: DataConversionWarning: Data with input dtype int64, float64 were all converted to float64 by MinMaxScaler.\n",
      "  return self.partial_fit(X, y)\n"
     ]
    },
    {
     "name": "stdout",
     "output_type": "stream",
     "text": [
      "PremierLeague|Bwin|target.ori|f4|NN DONE!!!\n",
      "\n",
      "****************************************************************************************************\n",
      "Current iterating: PremierLeague|Bwin|target.ori|f3|RF\n",
      "PremierLeague|Bwin|target.ori|f3|RF DONE!!!\n",
      "\n",
      "****************************************************************************************************\n",
      "Current iterating: PremierLeague|Bwin|target.ori|f3|SVM\n"
     ]
    },
    {
     "name": "stderr",
     "output_type": "stream",
     "text": [
      "C:\\Users\\kouda\\Anaconda3\\lib\\site-packages\\sklearn\\metrics\\classification.py:1143: UndefinedMetricWarning: Precision and F-score are ill-defined and being set to 0.0 in labels with no predicted samples.\n",
      "  'precision', 'predicted', average, warn_for)\n"
     ]
    },
    {
     "name": "stdout",
     "output_type": "stream",
     "text": [
      "PremierLeague|Bwin|target.ori|f3|SVM DONE!!!\n",
      "\n",
      "****************************************************************************************************\n",
      "Current iterating: PremierLeague|Bwin|target.ori|f3|KNN\n",
      "PremierLeague|Bwin|target.ori|f3|KNN DONE!!!\n",
      "\n",
      "****************************************************************************************************\n",
      "Current iterating: PremierLeague|Bwin|target.ori|f3|NN\n",
      "PremierLeague|Bwin|target.ori|f3|NN DONE!!!\n",
      "\n",
      "****************************************************************************************************\n",
      "Current iterating: PremierLeague|Bwin|target.alt|f4|RF\n"
     ]
    },
    {
     "name": "stderr",
     "output_type": "stream",
     "text": [
      "C:\\Users\\kouda\\Anaconda3\\lib\\site-packages\\sklearn\\preprocessing\\data.py:323: DataConversionWarning: Data with input dtype int64, float64 were all converted to float64 by MinMaxScaler.\n",
      "  return self.partial_fit(X, y)\n"
     ]
    },
    {
     "name": "stdout",
     "output_type": "stream",
     "text": [
      "PremierLeague|Bwin|target.alt|f4|RF DONE!!!\n",
      "\n",
      "****************************************************************************************************\n",
      "Current iterating: PremierLeague|Bwin|target.alt|f4|SVM\n"
     ]
    },
    {
     "name": "stderr",
     "output_type": "stream",
     "text": [
      "C:\\Users\\kouda\\Anaconda3\\lib\\site-packages\\sklearn\\metrics\\classification.py:1143: UndefinedMetricWarning: Precision and F-score are ill-defined and being set to 0.0 in labels with no predicted samples.\n",
      "  'precision', 'predicted', average, warn_for)\n"
     ]
    },
    {
     "name": "stdout",
     "output_type": "stream",
     "text": [
      "PremierLeague|Bwin|target.alt|f4|SVM DONE!!!\n",
      "\n",
      "****************************************************************************************************\n",
      "Current iterating: PremierLeague|Bwin|target.alt|f4|KNN\n",
      "PremierLeague|Bwin|target.alt|f4|KNN DONE!!!\n",
      "\n",
      "****************************************************************************************************\n",
      "Current iterating: PremierLeague|Bwin|target.alt|f4|NN\n",
      "PremierLeague|Bwin|target.alt|f4|NN DONE!!!\n",
      "\n",
      "****************************************************************************************************\n",
      "Current iterating: PremierLeague|Bwin|target.alt|f3|RF\n"
     ]
    },
    {
     "name": "stderr",
     "output_type": "stream",
     "text": [
      "C:\\Users\\kouda\\Anaconda3\\lib\\site-packages\\sklearn\\preprocessing\\data.py:323: DataConversionWarning: Data with input dtype int64, float64 were all converted to float64 by MinMaxScaler.\n",
      "  return self.partial_fit(X, y)\n"
     ]
    },
    {
     "name": "stdout",
     "output_type": "stream",
     "text": [
      "PremierLeague|Bwin|target.alt|f3|RF DONE!!!\n",
      "\n",
      "****************************************************************************************************\n",
      "Current iterating: PremierLeague|Bwin|target.alt|f3|SVM\n"
     ]
    },
    {
     "name": "stderr",
     "output_type": "stream",
     "text": [
      "C:\\Users\\kouda\\Anaconda3\\lib\\site-packages\\sklearn\\metrics\\classification.py:1143: UndefinedMetricWarning: Precision and F-score are ill-defined and being set to 0.0 in labels with no predicted samples.\n",
      "  'precision', 'predicted', average, warn_for)\n"
     ]
    },
    {
     "name": "stdout",
     "output_type": "stream",
     "text": [
      "PremierLeague|Bwin|target.alt|f3|SVM DONE!!!\n",
      "\n",
      "****************************************************************************************************\n",
      "Current iterating: PremierLeague|Bwin|target.alt|f3|KNN\n",
      "PremierLeague|Bwin|target.alt|f3|KNN DONE!!!\n",
      "\n",
      "****************************************************************************************************\n",
      "Current iterating: PremierLeague|Bwin|target.alt|f3|NN\n"
     ]
    },
    {
     "name": "stderr",
     "output_type": "stream",
     "text": [
      "C:\\Users\\kouda\\Anaconda3\\lib\\site-packages\\sklearn\\metrics\\classification.py:1143: UndefinedMetricWarning: Precision and F-score are ill-defined and being set to 0.0 in labels with no predicted samples.\n",
      "  'precision', 'predicted', average, warn_for)\n",
      "C:\\Users\\kouda\\Anaconda3\\lib\\site-packages\\sklearn\\preprocessing\\data.py:323: DataConversionWarning: Data with input dtype int64, float64 were all converted to float64 by MinMaxScaler.\n",
      "  return self.partial_fit(X, y)\n"
     ]
    },
    {
     "name": "stdout",
     "output_type": "stream",
     "text": [
      "PremierLeague|Bwin|target.alt|f3|NN DONE!!!\n",
      "\n",
      "****************************************************************************************************\n",
      "Current iterating: PremierLeague|12Bet|target.ori|f4|RF\n",
      "PremierLeague|12Bet|target.ori|f4|RF DONE!!!\n",
      "\n",
      "****************************************************************************************************\n",
      "Current iterating: PremierLeague|12Bet|target.ori|f4|SVM\n"
     ]
    },
    {
     "name": "stderr",
     "output_type": "stream",
     "text": [
      "C:\\Users\\kouda\\Anaconda3\\lib\\site-packages\\sklearn\\metrics\\classification.py:1143: UndefinedMetricWarning: Precision and F-score are ill-defined and being set to 0.0 in labels with no predicted samples.\n",
      "  'precision', 'predicted', average, warn_for)\n"
     ]
    },
    {
     "name": "stdout",
     "output_type": "stream",
     "text": [
      "PremierLeague|12Bet|target.ori|f4|SVM DONE!!!\n",
      "\n",
      "****************************************************************************************************\n",
      "Current iterating: PremierLeague|12Bet|target.ori|f4|KNN\n",
      "PremierLeague|12Bet|target.ori|f4|KNN DONE!!!\n",
      "\n",
      "****************************************************************************************************\n",
      "Current iterating: PremierLeague|12Bet|target.ori|f4|NN\n"
     ]
    },
    {
     "name": "stderr",
     "output_type": "stream",
     "text": [
      "C:\\Users\\kouda\\Anaconda3\\lib\\site-packages\\sklearn\\metrics\\classification.py:1143: UndefinedMetricWarning: Precision and F-score are ill-defined and being set to 0.0 in labels with no predicted samples.\n",
      "  'precision', 'predicted', average, warn_for)\n"
     ]
    },
    {
     "name": "stdout",
     "output_type": "stream",
     "text": [
      "PremierLeague|12Bet|target.ori|f4|NN DONE!!!\n",
      "\n",
      "****************************************************************************************************\n",
      "Current iterating: PremierLeague|12Bet|target.ori|f3|RF\n"
     ]
    },
    {
     "name": "stderr",
     "output_type": "stream",
     "text": [
      "C:\\Users\\kouda\\Anaconda3\\lib\\site-packages\\sklearn\\preprocessing\\data.py:323: DataConversionWarning: Data with input dtype int64, float64 were all converted to float64 by MinMaxScaler.\n",
      "  return self.partial_fit(X, y)\n"
     ]
    },
    {
     "name": "stdout",
     "output_type": "stream",
     "text": [
      "PremierLeague|12Bet|target.ori|f3|RF DONE!!!\n",
      "\n",
      "****************************************************************************************************\n",
      "Current iterating: PremierLeague|12Bet|target.ori|f3|SVM\n"
     ]
    },
    {
     "name": "stderr",
     "output_type": "stream",
     "text": [
      "C:\\Users\\kouda\\Anaconda3\\lib\\site-packages\\sklearn\\metrics\\classification.py:1143: UndefinedMetricWarning: Precision and F-score are ill-defined and being set to 0.0 in labels with no predicted samples.\n",
      "  'precision', 'predicted', average, warn_for)\n"
     ]
    },
    {
     "name": "stdout",
     "output_type": "stream",
     "text": [
      "PremierLeague|12Bet|target.ori|f3|SVM DONE!!!\n",
      "\n",
      "****************************************************************************************************\n",
      "Current iterating: PremierLeague|12Bet|target.ori|f3|KNN\n",
      "PremierLeague|12Bet|target.ori|f3|KNN DONE!!!\n",
      "\n",
      "****************************************************************************************************\n",
      "Current iterating: PremierLeague|12Bet|target.ori|f3|NN\n"
     ]
    },
    {
     "name": "stderr",
     "output_type": "stream",
     "text": [
      "C:\\Users\\kouda\\Anaconda3\\lib\\site-packages\\sklearn\\metrics\\classification.py:1143: UndefinedMetricWarning: Precision and F-score are ill-defined and being set to 0.0 in labels with no predicted samples.\n",
      "  'precision', 'predicted', average, warn_for)\n"
     ]
    },
    {
     "name": "stdout",
     "output_type": "stream",
     "text": [
      "PremierLeague|12Bet|target.ori|f3|NN DONE!!!\n",
      "\n",
      "****************************************************************************************************\n",
      "Current iterating: PremierLeague|12Bet|target.alt|f4|RF\n"
     ]
    },
    {
     "name": "stderr",
     "output_type": "stream",
     "text": [
      "C:\\Users\\kouda\\Anaconda3\\lib\\site-packages\\sklearn\\preprocessing\\data.py:323: DataConversionWarning: Data with input dtype int64, float64 were all converted to float64 by MinMaxScaler.\n",
      "  return self.partial_fit(X, y)\n"
     ]
    },
    {
     "name": "stdout",
     "output_type": "stream",
     "text": [
      "PremierLeague|12Bet|target.alt|f4|RF DONE!!!\n",
      "\n",
      "****************************************************************************************************\n",
      "Current iterating: PremierLeague|12Bet|target.alt|f4|SVM\n"
     ]
    },
    {
     "name": "stderr",
     "output_type": "stream",
     "text": [
      "C:\\Users\\kouda\\Anaconda3\\lib\\site-packages\\sklearn\\metrics\\classification.py:1143: UndefinedMetricWarning: Precision and F-score are ill-defined and being set to 0.0 in labels with no predicted samples.\n",
      "  'precision', 'predicted', average, warn_for)\n"
     ]
    },
    {
     "name": "stdout",
     "output_type": "stream",
     "text": [
      "PremierLeague|12Bet|target.alt|f4|SVM DONE!!!\n",
      "\n",
      "****************************************************************************************************\n",
      "Current iterating: PremierLeague|12Bet|target.alt|f4|KNN\n",
      "PremierLeague|12Bet|target.alt|f4|KNN DONE!!!\n",
      "\n",
      "****************************************************************************************************\n",
      "Current iterating: PremierLeague|12Bet|target.alt|f4|NN\n"
     ]
    },
    {
     "name": "stderr",
     "output_type": "stream",
     "text": [
      "C:\\Users\\kouda\\Anaconda3\\lib\\site-packages\\sklearn\\metrics\\classification.py:1143: UndefinedMetricWarning: Precision and F-score are ill-defined and being set to 0.0 in labels with no predicted samples.\n",
      "  'precision', 'predicted', average, warn_for)\n",
      "C:\\Users\\kouda\\Anaconda3\\lib\\site-packages\\sklearn\\preprocessing\\data.py:323: DataConversionWarning: Data with input dtype int64, float64 were all converted to float64 by MinMaxScaler.\n",
      "  return self.partial_fit(X, y)\n"
     ]
    },
    {
     "name": "stdout",
     "output_type": "stream",
     "text": [
      "PremierLeague|12Bet|target.alt|f4|NN DONE!!!\n",
      "\n",
      "****************************************************************************************************\n",
      "Current iterating: PremierLeague|12Bet|target.alt|f3|RF\n",
      "PremierLeague|12Bet|target.alt|f3|RF DONE!!!\n",
      "\n",
      "****************************************************************************************************\n",
      "Current iterating: PremierLeague|12Bet|target.alt|f3|SVM\n"
     ]
    },
    {
     "name": "stderr",
     "output_type": "stream",
     "text": [
      "C:\\Users\\kouda\\Anaconda3\\lib\\site-packages\\sklearn\\metrics\\classification.py:1143: UndefinedMetricWarning: Precision and F-score are ill-defined and being set to 0.0 in labels with no predicted samples.\n",
      "  'precision', 'predicted', average, warn_for)\n"
     ]
    },
    {
     "name": "stdout",
     "output_type": "stream",
     "text": [
      "PremierLeague|12Bet|target.alt|f3|SVM DONE!!!\n",
      "\n",
      "****************************************************************************************************\n",
      "Current iterating: PremierLeague|12Bet|target.alt|f3|KNN\n",
      "PremierLeague|12Bet|target.alt|f3|KNN DONE!!!\n",
      "\n",
      "****************************************************************************************************\n",
      "Current iterating: PremierLeague|12Bet|target.alt|f3|NN\n"
     ]
    },
    {
     "name": "stderr",
     "output_type": "stream",
     "text": [
      "C:\\Users\\kouda\\Anaconda3\\lib\\site-packages\\sklearn\\metrics\\classification.py:1143: UndefinedMetricWarning: Precision and F-score are ill-defined and being set to 0.0 in labels with no predicted samples.\n",
      "  'precision', 'predicted', average, warn_for)\n"
     ]
    },
    {
     "name": "stdout",
     "output_type": "stream",
     "text": [
      "PremierLeague|12Bet|target.alt|f3|NN DONE!!!\n",
      "\n"
     ]
    },
    {
     "name": "stderr",
     "output_type": "stream",
     "text": [
      "C:\\Users\\kouda\\Anaconda3\\lib\\site-packages\\sklearn\\preprocessing\\data.py:323: DataConversionWarning: Data with input dtype int64, float64 were all converted to float64 by MinMaxScaler.\n",
      "  return self.partial_fit(X, y)\n"
     ]
    },
    {
     "name": "stdout",
     "output_type": "stream",
     "text": [
      "****************************************************************************************************\n",
      "Current iterating: Serie-A|Bet365|target.ori|f4|RF\n",
      "Serie-A|Bet365|target.ori|f4|RF DONE!!!\n",
      "\n",
      "****************************************************************************************************\n",
      "Current iterating: Serie-A|Bet365|target.ori|f4|SVM\n",
      "Serie-A|Bet365|target.ori|f4|SVM DONE!!!\n",
      "\n",
      "****************************************************************************************************\n",
      "Current iterating: Serie-A|Bet365|target.ori|f4|KNN\n",
      "Serie-A|Bet365|target.ori|f4|KNN DONE!!!\n",
      "\n",
      "****************************************************************************************************\n",
      "Current iterating: Serie-A|Bet365|target.ori|f4|NN\n"
     ]
    },
    {
     "name": "stderr",
     "output_type": "stream",
     "text": [
      "C:\\Users\\kouda\\Anaconda3\\lib\\site-packages\\sklearn\\metrics\\classification.py:1143: UndefinedMetricWarning: Precision and F-score are ill-defined and being set to 0.0 in labels with no predicted samples.\n",
      "  'precision', 'predicted', average, warn_for)\n",
      "C:\\Users\\kouda\\Anaconda3\\lib\\site-packages\\sklearn\\preprocessing\\data.py:323: DataConversionWarning: Data with input dtype int64, float64 were all converted to float64 by MinMaxScaler.\n",
      "  return self.partial_fit(X, y)\n"
     ]
    },
    {
     "name": "stdout",
     "output_type": "stream",
     "text": [
      "Serie-A|Bet365|target.ori|f4|NN DONE!!!\n",
      "\n",
      "****************************************************************************************************\n",
      "Current iterating: Serie-A|Bet365|target.ori|f3|RF\n",
      "Serie-A|Bet365|target.ori|f3|RF DONE!!!\n",
      "\n",
      "****************************************************************************************************\n",
      "Current iterating: Serie-A|Bet365|target.ori|f3|SVM\n",
      "Serie-A|Bet365|target.ori|f3|SVM DONE!!!\n",
      "\n",
      "****************************************************************************************************\n",
      "Current iterating: Serie-A|Bet365|target.ori|f3|KNN\n",
      "Serie-A|Bet365|target.ori|f3|KNN DONE!!!\n",
      "\n",
      "****************************************************************************************************\n",
      "Current iterating: Serie-A|Bet365|target.ori|f3|NN\n"
     ]
    },
    {
     "name": "stderr",
     "output_type": "stream",
     "text": [
      "C:\\Users\\kouda\\Anaconda3\\lib\\site-packages\\sklearn\\metrics\\classification.py:1143: UndefinedMetricWarning: Precision and F-score are ill-defined and being set to 0.0 in labels with no predicted samples.\n",
      "  'precision', 'predicted', average, warn_for)\n",
      "C:\\Users\\kouda\\Anaconda3\\lib\\site-packages\\sklearn\\preprocessing\\data.py:323: DataConversionWarning: Data with input dtype int64, float64 were all converted to float64 by MinMaxScaler.\n",
      "  return self.partial_fit(X, y)\n"
     ]
    },
    {
     "name": "stdout",
     "output_type": "stream",
     "text": [
      "Serie-A|Bet365|target.ori|f3|NN DONE!!!\n",
      "\n",
      "****************************************************************************************************\n",
      "Current iterating: Serie-A|Bet365|target.alt|f4|RF\n",
      "Serie-A|Bet365|target.alt|f4|RF DONE!!!\n",
      "\n",
      "****************************************************************************************************\n",
      "Current iterating: Serie-A|Bet365|target.alt|f4|SVM\n",
      "Serie-A|Bet365|target.alt|f4|SVM DONE!!!\n",
      "\n",
      "****************************************************************************************************\n",
      "Current iterating: Serie-A|Bet365|target.alt|f4|KNN\n",
      "Serie-A|Bet365|target.alt|f4|KNN DONE!!!\n",
      "\n",
      "****************************************************************************************************\n",
      "Current iterating: Serie-A|Bet365|target.alt|f4|NN\n"
     ]
    },
    {
     "name": "stderr",
     "output_type": "stream",
     "text": [
      "C:\\Users\\kouda\\Anaconda3\\lib\\site-packages\\sklearn\\metrics\\classification.py:1143: UndefinedMetricWarning: Precision and F-score are ill-defined and being set to 0.0 in labels with no predicted samples.\n",
      "  'precision', 'predicted', average, warn_for)\n",
      "C:\\Users\\kouda\\Anaconda3\\lib\\site-packages\\sklearn\\preprocessing\\data.py:323: DataConversionWarning: Data with input dtype int64, float64 were all converted to float64 by MinMaxScaler.\n",
      "  return self.partial_fit(X, y)\n"
     ]
    },
    {
     "name": "stdout",
     "output_type": "stream",
     "text": [
      "Serie-A|Bet365|target.alt|f4|NN DONE!!!\n",
      "\n",
      "****************************************************************************************************\n",
      "Current iterating: Serie-A|Bet365|target.alt|f3|RF\n",
      "Serie-A|Bet365|target.alt|f3|RF DONE!!!\n",
      "\n",
      "****************************************************************************************************\n",
      "Current iterating: Serie-A|Bet365|target.alt|f3|SVM\n",
      "Serie-A|Bet365|target.alt|f3|SVM DONE!!!\n",
      "\n",
      "****************************************************************************************************\n",
      "Current iterating: Serie-A|Bet365|target.alt|f3|KNN\n",
      "Serie-A|Bet365|target.alt|f3|KNN DONE!!!\n",
      "\n",
      "****************************************************************************************************\n",
      "Current iterating: Serie-A|Bet365|target.alt|f3|NN\n"
     ]
    },
    {
     "name": "stderr",
     "output_type": "stream",
     "text": [
      "C:\\Users\\kouda\\Anaconda3\\lib\\site-packages\\sklearn\\metrics\\classification.py:1143: UndefinedMetricWarning: Precision and F-score are ill-defined and being set to 0.0 in labels with no predicted samples.\n",
      "  'precision', 'predicted', average, warn_for)\n",
      "C:\\Users\\kouda\\Anaconda3\\lib\\site-packages\\sklearn\\preprocessing\\data.py:323: DataConversionWarning: Data with input dtype int64, float64 were all converted to float64 by MinMaxScaler.\n",
      "  return self.partial_fit(X, y)\n"
     ]
    },
    {
     "name": "stdout",
     "output_type": "stream",
     "text": [
      "Serie-A|Bet365|target.alt|f3|NN DONE!!!\n",
      "\n",
      "****************************************************************************************************\n",
      "Current iterating: Serie-A|WilliamHill|target.ori|f4|RF\n",
      "Serie-A|WilliamHill|target.ori|f4|RF DONE!!!\n",
      "\n",
      "****************************************************************************************************\n",
      "Current iterating: Serie-A|WilliamHill|target.ori|f4|SVM\n",
      "Serie-A|WilliamHill|target.ori|f4|SVM DONE!!!\n",
      "\n",
      "****************************************************************************************************\n",
      "Current iterating: Serie-A|WilliamHill|target.ori|f4|KNN\n",
      "Serie-A|WilliamHill|target.ori|f4|KNN DONE!!!\n",
      "\n",
      "****************************************************************************************************\n",
      "Current iterating: Serie-A|WilliamHill|target.ori|f4|NN\n"
     ]
    },
    {
     "name": "stderr",
     "output_type": "stream",
     "text": [
      "C:\\Users\\kouda\\Anaconda3\\lib\\site-packages\\sklearn\\metrics\\classification.py:1143: UndefinedMetricWarning: Precision and F-score are ill-defined and being set to 0.0 in labels with no predicted samples.\n",
      "  'precision', 'predicted', average, warn_for)\n",
      "C:\\Users\\kouda\\Anaconda3\\lib\\site-packages\\sklearn\\preprocessing\\data.py:323: DataConversionWarning: Data with input dtype int64, float64 were all converted to float64 by MinMaxScaler.\n",
      "  return self.partial_fit(X, y)\n"
     ]
    },
    {
     "name": "stdout",
     "output_type": "stream",
     "text": [
      "Serie-A|WilliamHill|target.ori|f4|NN DONE!!!\n",
      "\n",
      "****************************************************************************************************\n",
      "Current iterating: Serie-A|WilliamHill|target.ori|f3|RF\n",
      "Serie-A|WilliamHill|target.ori|f3|RF DONE!!!\n",
      "\n",
      "****************************************************************************************************\n",
      "Current iterating: Serie-A|WilliamHill|target.ori|f3|SVM\n",
      "Serie-A|WilliamHill|target.ori|f3|SVM DONE!!!\n",
      "\n",
      "****************************************************************************************************\n",
      "Current iterating: Serie-A|WilliamHill|target.ori|f3|KNN\n",
      "Serie-A|WilliamHill|target.ori|f3|KNN DONE!!!\n",
      "\n",
      "****************************************************************************************************\n",
      "Current iterating: Serie-A|WilliamHill|target.ori|f3|NN\n"
     ]
    },
    {
     "name": "stderr",
     "output_type": "stream",
     "text": [
      "C:\\Users\\kouda\\Anaconda3\\lib\\site-packages\\sklearn\\metrics\\classification.py:1143: UndefinedMetricWarning: Precision and F-score are ill-defined and being set to 0.0 in labels with no predicted samples.\n",
      "  'precision', 'predicted', average, warn_for)\n",
      "C:\\Users\\kouda\\Anaconda3\\lib\\site-packages\\sklearn\\preprocessing\\data.py:323: DataConversionWarning: Data with input dtype int64, float64 were all converted to float64 by MinMaxScaler.\n",
      "  return self.partial_fit(X, y)\n"
     ]
    },
    {
     "name": "stdout",
     "output_type": "stream",
     "text": [
      "Serie-A|WilliamHill|target.ori|f3|NN DONE!!!\n",
      "\n",
      "****************************************************************************************************\n",
      "Current iterating: Serie-A|WilliamHill|target.alt|f4|RF\n",
      "Serie-A|WilliamHill|target.alt|f4|RF DONE!!!\n",
      "\n",
      "****************************************************************************************************\n",
      "Current iterating: Serie-A|WilliamHill|target.alt|f4|SVM\n",
      "Serie-A|WilliamHill|target.alt|f4|SVM DONE!!!\n",
      "\n",
      "****************************************************************************************************\n",
      "Current iterating: Serie-A|WilliamHill|target.alt|f4|KNN\n",
      "Serie-A|WilliamHill|target.alt|f4|KNN DONE!!!\n",
      "\n",
      "****************************************************************************************************\n",
      "Current iterating: Serie-A|WilliamHill|target.alt|f4|NN\n"
     ]
    },
    {
     "name": "stderr",
     "output_type": "stream",
     "text": [
      "C:\\Users\\kouda\\Anaconda3\\lib\\site-packages\\sklearn\\metrics\\classification.py:1143: UndefinedMetricWarning: Precision and F-score are ill-defined and being set to 0.0 in labels with no predicted samples.\n",
      "  'precision', 'predicted', average, warn_for)\n",
      "C:\\Users\\kouda\\Anaconda3\\lib\\site-packages\\sklearn\\preprocessing\\data.py:323: DataConversionWarning: Data with input dtype int64, float64 were all converted to float64 by MinMaxScaler.\n",
      "  return self.partial_fit(X, y)\n"
     ]
    },
    {
     "name": "stdout",
     "output_type": "stream",
     "text": [
      "Serie-A|WilliamHill|target.alt|f4|NN DONE!!!\n",
      "\n",
      "****************************************************************************************************\n",
      "Current iterating: Serie-A|WilliamHill|target.alt|f3|RF\n",
      "Serie-A|WilliamHill|target.alt|f3|RF DONE!!!\n",
      "\n",
      "****************************************************************************************************\n",
      "Current iterating: Serie-A|WilliamHill|target.alt|f3|SVM\n",
      "Serie-A|WilliamHill|target.alt|f3|SVM DONE!!!\n",
      "\n",
      "****************************************************************************************************\n",
      "Current iterating: Serie-A|WilliamHill|target.alt|f3|KNN\n",
      "Serie-A|WilliamHill|target.alt|f3|KNN DONE!!!\n",
      "\n",
      "****************************************************************************************************\n",
      "Current iterating: Serie-A|WilliamHill|target.alt|f3|NN\n"
     ]
    },
    {
     "name": "stderr",
     "output_type": "stream",
     "text": [
      "C:\\Users\\kouda\\Anaconda3\\lib\\site-packages\\sklearn\\metrics\\classification.py:1143: UndefinedMetricWarning: Precision and F-score are ill-defined and being set to 0.0 in labels with no predicted samples.\n",
      "  'precision', 'predicted', average, warn_for)\n",
      "C:\\Users\\kouda\\Anaconda3\\lib\\site-packages\\sklearn\\preprocessing\\data.py:323: DataConversionWarning: Data with input dtype int64, float64 were all converted to float64 by MinMaxScaler.\n",
      "  return self.partial_fit(X, y)\n"
     ]
    },
    {
     "name": "stdout",
     "output_type": "stream",
     "text": [
      "Serie-A|WilliamHill|target.alt|f3|NN DONE!!!\n",
      "\n",
      "****************************************************************************************************\n",
      "Current iterating: Serie-A|Bwin|target.ori|f4|RF\n",
      "Serie-A|Bwin|target.ori|f4|RF DONE!!!\n",
      "\n",
      "****************************************************************************************************\n",
      "Current iterating: Serie-A|Bwin|target.ori|f4|SVM\n",
      "Serie-A|Bwin|target.ori|f4|SVM DONE!!!\n",
      "\n",
      "****************************************************************************************************\n",
      "Current iterating: Serie-A|Bwin|target.ori|f4|KNN\n",
      "Serie-A|Bwin|target.ori|f4|KNN DONE!!!\n",
      "\n",
      "****************************************************************************************************\n",
      "Current iterating: Serie-A|Bwin|target.ori|f4|NN\n"
     ]
    },
    {
     "name": "stderr",
     "output_type": "stream",
     "text": [
      "C:\\Users\\kouda\\Anaconda3\\lib\\site-packages\\sklearn\\metrics\\classification.py:1143: UndefinedMetricWarning: Precision and F-score are ill-defined and being set to 0.0 in labels with no predicted samples.\n",
      "  'precision', 'predicted', average, warn_for)\n",
      "C:\\Users\\kouda\\Anaconda3\\lib\\site-packages\\sklearn\\preprocessing\\data.py:323: DataConversionWarning: Data with input dtype int64, float64 were all converted to float64 by MinMaxScaler.\n",
      "  return self.partial_fit(X, y)\n"
     ]
    },
    {
     "name": "stdout",
     "output_type": "stream",
     "text": [
      "Serie-A|Bwin|target.ori|f4|NN DONE!!!\n",
      "\n",
      "****************************************************************************************************\n",
      "Current iterating: Serie-A|Bwin|target.ori|f3|RF\n",
      "Serie-A|Bwin|target.ori|f3|RF DONE!!!\n",
      "\n",
      "****************************************************************************************************\n",
      "Current iterating: Serie-A|Bwin|target.ori|f3|SVM\n",
      "Serie-A|Bwin|target.ori|f3|SVM DONE!!!\n",
      "\n",
      "****************************************************************************************************\n",
      "Current iterating: Serie-A|Bwin|target.ori|f3|KNN\n",
      "Serie-A|Bwin|target.ori|f3|KNN DONE!!!\n",
      "\n",
      "****************************************************************************************************\n",
      "Current iterating: Serie-A|Bwin|target.ori|f3|NN\n",
      "Serie-A|Bwin|target.ori|f3|NN DONE!!!\n",
      "\n",
      "****************************************************************************************************\n",
      "Current iterating: Serie-A|Bwin|target.alt|f4|RF\n"
     ]
    },
    {
     "name": "stderr",
     "output_type": "stream",
     "text": [
      "C:\\Users\\kouda\\Anaconda3\\lib\\site-packages\\sklearn\\preprocessing\\data.py:323: DataConversionWarning: Data with input dtype int64, float64 were all converted to float64 by MinMaxScaler.\n",
      "  return self.partial_fit(X, y)\n"
     ]
    },
    {
     "name": "stdout",
     "output_type": "stream",
     "text": [
      "Serie-A|Bwin|target.alt|f4|RF DONE!!!\n",
      "\n",
      "****************************************************************************************************\n",
      "Current iterating: Serie-A|Bwin|target.alt|f4|SVM\n",
      "Serie-A|Bwin|target.alt|f4|SVM DONE!!!\n",
      "\n",
      "****************************************************************************************************\n",
      "Current iterating: Serie-A|Bwin|target.alt|f4|KNN\n",
      "Serie-A|Bwin|target.alt|f4|KNN DONE!!!\n",
      "\n",
      "****************************************************************************************************\n",
      "Current iterating: Serie-A|Bwin|target.alt|f4|NN\n"
     ]
    },
    {
     "name": "stderr",
     "output_type": "stream",
     "text": [
      "C:\\Users\\kouda\\Anaconda3\\lib\\site-packages\\sklearn\\metrics\\classification.py:1143: UndefinedMetricWarning: Precision and F-score are ill-defined and being set to 0.0 in labels with no predicted samples.\n",
      "  'precision', 'predicted', average, warn_for)\n",
      "C:\\Users\\kouda\\Anaconda3\\lib\\site-packages\\sklearn\\preprocessing\\data.py:323: DataConversionWarning: Data with input dtype int64, float64 were all converted to float64 by MinMaxScaler.\n",
      "  return self.partial_fit(X, y)\n"
     ]
    },
    {
     "name": "stdout",
     "output_type": "stream",
     "text": [
      "Serie-A|Bwin|target.alt|f4|NN DONE!!!\n",
      "\n",
      "****************************************************************************************************\n",
      "Current iterating: Serie-A|Bwin|target.alt|f3|RF\n",
      "Serie-A|Bwin|target.alt|f3|RF DONE!!!\n",
      "\n",
      "****************************************************************************************************\n",
      "Current iterating: Serie-A|Bwin|target.alt|f3|SVM\n",
      "Serie-A|Bwin|target.alt|f3|SVM DONE!!!\n",
      "\n",
      "****************************************************************************************************\n",
      "Current iterating: Serie-A|Bwin|target.alt|f3|KNN\n",
      "Serie-A|Bwin|target.alt|f3|KNN DONE!!!\n",
      "\n",
      "****************************************************************************************************\n",
      "Current iterating: Serie-A|Bwin|target.alt|f3|NN\n",
      "Serie-A|Bwin|target.alt|f3|NN DONE!!!\n",
      "\n",
      "****************************************************************************************************\n",
      "Current iterating: Serie-A|12Bet|target.ori|f4|RF\n"
     ]
    },
    {
     "name": "stderr",
     "output_type": "stream",
     "text": [
      "C:\\Users\\kouda\\Anaconda3\\lib\\site-packages\\sklearn\\preprocessing\\data.py:323: DataConversionWarning: Data with input dtype int64, float64 were all converted to float64 by MinMaxScaler.\n",
      "  return self.partial_fit(X, y)\n"
     ]
    },
    {
     "name": "stdout",
     "output_type": "stream",
     "text": [
      "Serie-A|12Bet|target.ori|f4|RF DONE!!!\n",
      "\n",
      "****************************************************************************************************\n",
      "Current iterating: Serie-A|12Bet|target.ori|f4|SVM\n",
      "Serie-A|12Bet|target.ori|f4|SVM DONE!!!\n",
      "\n",
      "****************************************************************************************************\n",
      "Current iterating: Serie-A|12Bet|target.ori|f4|KNN\n",
      "Serie-A|12Bet|target.ori|f4|KNN DONE!!!\n",
      "\n",
      "****************************************************************************************************\n",
      "Current iterating: Serie-A|12Bet|target.ori|f4|NN\n",
      "Serie-A|12Bet|target.ori|f4|NN DONE!!!\n",
      "\n",
      "****************************************************************************************************\n",
      "Current iterating: Serie-A|12Bet|target.ori|f3|RF\n"
     ]
    },
    {
     "name": "stderr",
     "output_type": "stream",
     "text": [
      "C:\\Users\\kouda\\Anaconda3\\lib\\site-packages\\sklearn\\preprocessing\\data.py:323: DataConversionWarning: Data with input dtype int64, float64 were all converted to float64 by MinMaxScaler.\n",
      "  return self.partial_fit(X, y)\n"
     ]
    },
    {
     "name": "stdout",
     "output_type": "stream",
     "text": [
      "Serie-A|12Bet|target.ori|f3|RF DONE!!!\n",
      "\n",
      "****************************************************************************************************\n",
      "Current iterating: Serie-A|12Bet|target.ori|f3|SVM\n",
      "Serie-A|12Bet|target.ori|f3|SVM DONE!!!\n",
      "\n",
      "****************************************************************************************************\n",
      "Current iterating: Serie-A|12Bet|target.ori|f3|KNN\n",
      "Serie-A|12Bet|target.ori|f3|KNN DONE!!!\n",
      "\n",
      "****************************************************************************************************\n",
      "Current iterating: Serie-A|12Bet|target.ori|f3|NN\n"
     ]
    },
    {
     "name": "stderr",
     "output_type": "stream",
     "text": [
      "C:\\Users\\kouda\\Anaconda3\\lib\\site-packages\\sklearn\\metrics\\classification.py:1143: UndefinedMetricWarning: Precision and F-score are ill-defined and being set to 0.0 in labels with no predicted samples.\n",
      "  'precision', 'predicted', average, warn_for)\n",
      "C:\\Users\\kouda\\Anaconda3\\lib\\site-packages\\sklearn\\preprocessing\\data.py:323: DataConversionWarning: Data with input dtype int64, float64 were all converted to float64 by MinMaxScaler.\n",
      "  return self.partial_fit(X, y)\n"
     ]
    },
    {
     "name": "stdout",
     "output_type": "stream",
     "text": [
      "Serie-A|12Bet|target.ori|f3|NN DONE!!!\n",
      "\n",
      "****************************************************************************************************\n",
      "Current iterating: Serie-A|12Bet|target.alt|f4|RF\n",
      "Serie-A|12Bet|target.alt|f4|RF DONE!!!\n",
      "\n",
      "****************************************************************************************************\n",
      "Current iterating: Serie-A|12Bet|target.alt|f4|SVM\n",
      "Serie-A|12Bet|target.alt|f4|SVM DONE!!!\n",
      "\n",
      "****************************************************************************************************\n",
      "Current iterating: Serie-A|12Bet|target.alt|f4|KNN\n",
      "Serie-A|12Bet|target.alt|f4|KNN DONE!!!\n",
      "\n",
      "****************************************************************************************************\n",
      "Current iterating: Serie-A|12Bet|target.alt|f4|NN\n"
     ]
    },
    {
     "name": "stderr",
     "output_type": "stream",
     "text": [
      "C:\\Users\\kouda\\Anaconda3\\lib\\site-packages\\sklearn\\metrics\\classification.py:1143: UndefinedMetricWarning: Precision and F-score are ill-defined and being set to 0.0 in labels with no predicted samples.\n",
      "  'precision', 'predicted', average, warn_for)\n",
      "C:\\Users\\kouda\\Anaconda3\\lib\\site-packages\\sklearn\\preprocessing\\data.py:323: DataConversionWarning: Data with input dtype int64, float64 were all converted to float64 by MinMaxScaler.\n",
      "  return self.partial_fit(X, y)\n"
     ]
    },
    {
     "name": "stdout",
     "output_type": "stream",
     "text": [
      "Serie-A|12Bet|target.alt|f4|NN DONE!!!\n",
      "\n",
      "****************************************************************************************************\n",
      "Current iterating: Serie-A|12Bet|target.alt|f3|RF\n",
      "Serie-A|12Bet|target.alt|f3|RF DONE!!!\n",
      "\n",
      "****************************************************************************************************\n",
      "Current iterating: Serie-A|12Bet|target.alt|f3|SVM\n",
      "Serie-A|12Bet|target.alt|f3|SVM DONE!!!\n",
      "\n",
      "****************************************************************************************************\n",
      "Current iterating: Serie-A|12Bet|target.alt|f3|KNN\n",
      "Serie-A|12Bet|target.alt|f3|KNN DONE!!!\n",
      "\n",
      "****************************************************************************************************\n",
      "Current iterating: Serie-A|12Bet|target.alt|f3|NN\n"
     ]
    },
    {
     "name": "stderr",
     "output_type": "stream",
     "text": [
      "C:\\Users\\kouda\\Anaconda3\\lib\\site-packages\\sklearn\\metrics\\classification.py:1143: UndefinedMetricWarning: Precision and F-score are ill-defined and being set to 0.0 in labels with no predicted samples.\n",
      "  'precision', 'predicted', average, warn_for)\n"
     ]
    },
    {
     "name": "stdout",
     "output_type": "stream",
     "text": [
      "Serie-A|12Bet|target.alt|f3|NN DONE!!!\n",
      "\n",
      "****************************************************************************************************\n",
      "Current iterating: MLS|Bet365|target.ori|f4|RF\n",
      "MLS|Bet365|target.ori|f4|RF DONE!!!\n",
      "\n",
      "****************************************************************************************************\n",
      "Current iterating: MLS|Bet365|target.ori|f4|SVM\n"
     ]
    },
    {
     "name": "stderr",
     "output_type": "stream",
     "text": [
      "C:\\Users\\kouda\\Anaconda3\\lib\\site-packages\\sklearn\\metrics\\classification.py:1143: UndefinedMetricWarning: Precision and F-score are ill-defined and being set to 0.0 in labels with no predicted samples.\n",
      "  'precision', 'predicted', average, warn_for)\n"
     ]
    },
    {
     "name": "stdout",
     "output_type": "stream",
     "text": [
      "MLS|Bet365|target.ori|f4|SVM DONE!!!\n",
      "\n",
      "****************************************************************************************************\n",
      "Current iterating: MLS|Bet365|target.ori|f4|KNN\n",
      "MLS|Bet365|target.ori|f4|KNN DONE!!!\n",
      "\n",
      "****************************************************************************************************\n",
      "Current iterating: MLS|Bet365|target.ori|f4|NN\n"
     ]
    },
    {
     "name": "stderr",
     "output_type": "stream",
     "text": [
      "C:\\Users\\kouda\\Anaconda3\\lib\\site-packages\\sklearn\\metrics\\classification.py:1143: UndefinedMetricWarning: Precision and F-score are ill-defined and being set to 0.0 in labels with no predicted samples.\n",
      "  'precision', 'predicted', average, warn_for)\n"
     ]
    },
    {
     "name": "stdout",
     "output_type": "stream",
     "text": [
      "MLS|Bet365|target.ori|f4|NN DONE!!!\n",
      "\n",
      "****************************************************************************************************\n",
      "Current iterating: MLS|Bet365|target.ori|f3|RF\n",
      "MLS|Bet365|target.ori|f3|RF DONE!!!\n",
      "\n",
      "****************************************************************************************************\n",
      "Current iterating: MLS|Bet365|target.ori|f3|SVM\n"
     ]
    },
    {
     "name": "stderr",
     "output_type": "stream",
     "text": [
      "C:\\Users\\kouda\\Anaconda3\\lib\\site-packages\\sklearn\\metrics\\classification.py:1143: UndefinedMetricWarning: Precision and F-score are ill-defined and being set to 0.0 in labels with no predicted samples.\n",
      "  'precision', 'predicted', average, warn_for)\n"
     ]
    },
    {
     "name": "stdout",
     "output_type": "stream",
     "text": [
      "MLS|Bet365|target.ori|f3|SVM DONE!!!\n",
      "\n",
      "****************************************************************************************************\n",
      "Current iterating: MLS|Bet365|target.ori|f3|KNN\n",
      "MLS|Bet365|target.ori|f3|KNN DONE!!!\n",
      "\n",
      "****************************************************************************************************\n",
      "Current iterating: MLS|Bet365|target.ori|f3|NN\n"
     ]
    },
    {
     "name": "stderr",
     "output_type": "stream",
     "text": [
      "C:\\Users\\kouda\\Anaconda3\\lib\\site-packages\\sklearn\\metrics\\classification.py:1143: UndefinedMetricWarning: Precision and F-score are ill-defined and being set to 0.0 in labels with no predicted samples.\n",
      "  'precision', 'predicted', average, warn_for)\n"
     ]
    },
    {
     "name": "stdout",
     "output_type": "stream",
     "text": [
      "MLS|Bet365|target.ori|f3|NN DONE!!!\n",
      "\n",
      "****************************************************************************************************\n",
      "Current iterating: MLS|Bet365|target.alt|f4|RF\n",
      "MLS|Bet365|target.alt|f4|RF DONE!!!\n",
      "\n",
      "****************************************************************************************************\n",
      "Current iterating: MLS|Bet365|target.alt|f4|SVM\n"
     ]
    },
    {
     "name": "stderr",
     "output_type": "stream",
     "text": [
      "C:\\Users\\kouda\\Anaconda3\\lib\\site-packages\\sklearn\\metrics\\classification.py:1143: UndefinedMetricWarning: Precision and F-score are ill-defined and being set to 0.0 in labels with no predicted samples.\n",
      "  'precision', 'predicted', average, warn_for)\n"
     ]
    },
    {
     "name": "stdout",
     "output_type": "stream",
     "text": [
      "MLS|Bet365|target.alt|f4|SVM DONE!!!\n",
      "\n",
      "****************************************************************************************************\n",
      "Current iterating: MLS|Bet365|target.alt|f4|KNN\n",
      "MLS|Bet365|target.alt|f4|KNN DONE!!!\n",
      "\n",
      "****************************************************************************************************\n",
      "Current iterating: MLS|Bet365|target.alt|f4|NN\n"
     ]
    },
    {
     "name": "stderr",
     "output_type": "stream",
     "text": [
      "C:\\Users\\kouda\\Anaconda3\\lib\\site-packages\\sklearn\\metrics\\classification.py:1143: UndefinedMetricWarning: Precision and F-score are ill-defined and being set to 0.0 in labels with no predicted samples.\n",
      "  'precision', 'predicted', average, warn_for)\n"
     ]
    },
    {
     "name": "stdout",
     "output_type": "stream",
     "text": [
      "MLS|Bet365|target.alt|f4|NN DONE!!!\n",
      "\n",
      "****************************************************************************************************\n",
      "Current iterating: MLS|Bet365|target.alt|f3|RF\n",
      "MLS|Bet365|target.alt|f3|RF DONE!!!\n",
      "\n",
      "****************************************************************************************************\n",
      "Current iterating: MLS|Bet365|target.alt|f3|SVM\n"
     ]
    },
    {
     "name": "stderr",
     "output_type": "stream",
     "text": [
      "C:\\Users\\kouda\\Anaconda3\\lib\\site-packages\\sklearn\\metrics\\classification.py:1143: UndefinedMetricWarning: Precision and F-score are ill-defined and being set to 0.0 in labels with no predicted samples.\n",
      "  'precision', 'predicted', average, warn_for)\n"
     ]
    },
    {
     "name": "stdout",
     "output_type": "stream",
     "text": [
      "MLS|Bet365|target.alt|f3|SVM DONE!!!\n",
      "\n",
      "****************************************************************************************************\n",
      "Current iterating: MLS|Bet365|target.alt|f3|KNN\n",
      "MLS|Bet365|target.alt|f3|KNN DONE!!!\n",
      "\n",
      "****************************************************************************************************\n",
      "Current iterating: MLS|Bet365|target.alt|f3|NN\n"
     ]
    },
    {
     "name": "stderr",
     "output_type": "stream",
     "text": [
      "C:\\Users\\kouda\\Anaconda3\\lib\\site-packages\\sklearn\\metrics\\classification.py:1143: UndefinedMetricWarning: Precision and F-score are ill-defined and being set to 0.0 in labels with no predicted samples.\n",
      "  'precision', 'predicted', average, warn_for)\n"
     ]
    },
    {
     "name": "stdout",
     "output_type": "stream",
     "text": [
      "MLS|Bet365|target.alt|f3|NN DONE!!!\n",
      "\n",
      "****************************************************************************************************\n",
      "Current iterating: MLS|WilliamHill|target.ori|f4|RF\n",
      "MLS|WilliamHill|target.ori|f4|RF DONE!!!\n",
      "\n",
      "****************************************************************************************************\n",
      "Current iterating: MLS|WilliamHill|target.ori|f4|SVM\n"
     ]
    },
    {
     "name": "stderr",
     "output_type": "stream",
     "text": [
      "C:\\Users\\kouda\\Anaconda3\\lib\\site-packages\\sklearn\\metrics\\classification.py:1143: UndefinedMetricWarning: Precision and F-score are ill-defined and being set to 0.0 in labels with no predicted samples.\n",
      "  'precision', 'predicted', average, warn_for)\n"
     ]
    },
    {
     "name": "stdout",
     "output_type": "stream",
     "text": [
      "MLS|WilliamHill|target.ori|f4|SVM DONE!!!\n",
      "\n",
      "****************************************************************************************************\n",
      "Current iterating: MLS|WilliamHill|target.ori|f4|KNN\n",
      "MLS|WilliamHill|target.ori|f4|KNN DONE!!!\n",
      "\n",
      "****************************************************************************************************\n",
      "Current iterating: MLS|WilliamHill|target.ori|f4|NN\n"
     ]
    },
    {
     "name": "stderr",
     "output_type": "stream",
     "text": [
      "C:\\Users\\kouda\\Anaconda3\\lib\\site-packages\\sklearn\\metrics\\classification.py:1143: UndefinedMetricWarning: Precision and F-score are ill-defined and being set to 0.0 in labels with no predicted samples.\n",
      "  'precision', 'predicted', average, warn_for)\n"
     ]
    },
    {
     "name": "stdout",
     "output_type": "stream",
     "text": [
      "MLS|WilliamHill|target.ori|f4|NN DONE!!!\n",
      "\n",
      "****************************************************************************************************\n",
      "Current iterating: MLS|WilliamHill|target.ori|f3|RF\n",
      "MLS|WilliamHill|target.ori|f3|RF DONE!!!\n",
      "\n",
      "****************************************************************************************************\n",
      "Current iterating: MLS|WilliamHill|target.ori|f3|SVM\n"
     ]
    },
    {
     "name": "stderr",
     "output_type": "stream",
     "text": [
      "C:\\Users\\kouda\\Anaconda3\\lib\\site-packages\\sklearn\\metrics\\classification.py:1143: UndefinedMetricWarning: Precision and F-score are ill-defined and being set to 0.0 in labels with no predicted samples.\n",
      "  'precision', 'predicted', average, warn_for)\n"
     ]
    },
    {
     "name": "stdout",
     "output_type": "stream",
     "text": [
      "MLS|WilliamHill|target.ori|f3|SVM DONE!!!\n",
      "\n",
      "****************************************************************************************************\n",
      "Current iterating: MLS|WilliamHill|target.ori|f3|KNN\n",
      "MLS|WilliamHill|target.ori|f3|KNN DONE!!!\n",
      "\n",
      "****************************************************************************************************\n",
      "Current iterating: MLS|WilliamHill|target.ori|f3|NN\n"
     ]
    },
    {
     "name": "stderr",
     "output_type": "stream",
     "text": [
      "C:\\Users\\kouda\\Anaconda3\\lib\\site-packages\\sklearn\\metrics\\classification.py:1143: UndefinedMetricWarning: Precision and F-score are ill-defined and being set to 0.0 in labels with no predicted samples.\n",
      "  'precision', 'predicted', average, warn_for)\n"
     ]
    },
    {
     "name": "stdout",
     "output_type": "stream",
     "text": [
      "MLS|WilliamHill|target.ori|f3|NN DONE!!!\n",
      "\n",
      "****************************************************************************************************\n",
      "Current iterating: MLS|WilliamHill|target.alt|f4|RF\n",
      "MLS|WilliamHill|target.alt|f4|RF DONE!!!\n",
      "\n",
      "****************************************************************************************************\n",
      "Current iterating: MLS|WilliamHill|target.alt|f4|SVM\n"
     ]
    },
    {
     "name": "stderr",
     "output_type": "stream",
     "text": [
      "C:\\Users\\kouda\\Anaconda3\\lib\\site-packages\\sklearn\\metrics\\classification.py:1143: UndefinedMetricWarning: Precision and F-score are ill-defined and being set to 0.0 in labels with no predicted samples.\n",
      "  'precision', 'predicted', average, warn_for)\n"
     ]
    },
    {
     "name": "stdout",
     "output_type": "stream",
     "text": [
      "MLS|WilliamHill|target.alt|f4|SVM DONE!!!\n",
      "\n",
      "****************************************************************************************************\n",
      "Current iterating: MLS|WilliamHill|target.alt|f4|KNN\n",
      "MLS|WilliamHill|target.alt|f4|KNN DONE!!!\n",
      "\n",
      "****************************************************************************************************\n",
      "Current iterating: MLS|WilliamHill|target.alt|f4|NN\n"
     ]
    },
    {
     "name": "stderr",
     "output_type": "stream",
     "text": [
      "C:\\Users\\kouda\\Anaconda3\\lib\\site-packages\\sklearn\\metrics\\classification.py:1143: UndefinedMetricWarning: Precision and F-score are ill-defined and being set to 0.0 in labels with no predicted samples.\n",
      "  'precision', 'predicted', average, warn_for)\n"
     ]
    },
    {
     "name": "stdout",
     "output_type": "stream",
     "text": [
      "MLS|WilliamHill|target.alt|f4|NN DONE!!!\n",
      "\n",
      "****************************************************************************************************\n",
      "Current iterating: MLS|WilliamHill|target.alt|f3|RF\n",
      "MLS|WilliamHill|target.alt|f3|RF DONE!!!\n",
      "\n",
      "****************************************************************************************************\n",
      "Current iterating: MLS|WilliamHill|target.alt|f3|SVM\n"
     ]
    },
    {
     "name": "stderr",
     "output_type": "stream",
     "text": [
      "C:\\Users\\kouda\\Anaconda3\\lib\\site-packages\\sklearn\\metrics\\classification.py:1143: UndefinedMetricWarning: Precision and F-score are ill-defined and being set to 0.0 in labels with no predicted samples.\n",
      "  'precision', 'predicted', average, warn_for)\n"
     ]
    },
    {
     "name": "stdout",
     "output_type": "stream",
     "text": [
      "MLS|WilliamHill|target.alt|f3|SVM DONE!!!\n",
      "\n",
      "****************************************************************************************************\n",
      "Current iterating: MLS|WilliamHill|target.alt|f3|KNN\n",
      "MLS|WilliamHill|target.alt|f3|KNN DONE!!!\n",
      "\n",
      "****************************************************************************************************\n",
      "Current iterating: MLS|WilliamHill|target.alt|f3|NN\n"
     ]
    },
    {
     "name": "stderr",
     "output_type": "stream",
     "text": [
      "C:\\Users\\kouda\\Anaconda3\\lib\\site-packages\\sklearn\\metrics\\classification.py:1143: UndefinedMetricWarning: Precision and F-score are ill-defined and being set to 0.0 in labels with no predicted samples.\n",
      "  'precision', 'predicted', average, warn_for)\n"
     ]
    },
    {
     "name": "stdout",
     "output_type": "stream",
     "text": [
      "MLS|WilliamHill|target.alt|f3|NN DONE!!!\n",
      "\n",
      "****************************************************************************************************\n",
      "Current iterating: MLS|Bwin|target.ori|f4|RF\n",
      "MLS|Bwin|target.ori|f4|RF DONE!!!\n",
      "\n",
      "****************************************************************************************************\n",
      "Current iterating: MLS|Bwin|target.ori|f4|SVM\n"
     ]
    },
    {
     "name": "stderr",
     "output_type": "stream",
     "text": [
      "C:\\Users\\kouda\\Anaconda3\\lib\\site-packages\\sklearn\\metrics\\classification.py:1143: UndefinedMetricWarning: Precision and F-score are ill-defined and being set to 0.0 in labels with no predicted samples.\n",
      "  'precision', 'predicted', average, warn_for)\n"
     ]
    },
    {
     "name": "stdout",
     "output_type": "stream",
     "text": [
      "MLS|Bwin|target.ori|f4|SVM DONE!!!\n",
      "\n",
      "****************************************************************************************************\n",
      "Current iterating: MLS|Bwin|target.ori|f4|KNN\n",
      "MLS|Bwin|target.ori|f4|KNN DONE!!!\n",
      "\n",
      "****************************************************************************************************\n",
      "Current iterating: MLS|Bwin|target.ori|f4|NN\n",
      "MLS|Bwin|target.ori|f4|NN DONE!!!\n",
      "\n",
      "****************************************************************************************************\n",
      "Current iterating: MLS|Bwin|target.ori|f3|RF\n",
      "MLS|Bwin|target.ori|f3|RF DONE!!!\n",
      "\n",
      "****************************************************************************************************\n",
      "Current iterating: MLS|Bwin|target.ori|f3|SVM\n"
     ]
    },
    {
     "name": "stderr",
     "output_type": "stream",
     "text": [
      "C:\\Users\\kouda\\Anaconda3\\lib\\site-packages\\sklearn\\metrics\\classification.py:1143: UndefinedMetricWarning: Precision and F-score are ill-defined and being set to 0.0 in labels with no predicted samples.\n",
      "  'precision', 'predicted', average, warn_for)\n"
     ]
    },
    {
     "name": "stdout",
     "output_type": "stream",
     "text": [
      "MLS|Bwin|target.ori|f3|SVM DONE!!!\n",
      "\n",
      "****************************************************************************************************\n",
      "Current iterating: MLS|Bwin|target.ori|f3|KNN\n",
      "MLS|Bwin|target.ori|f3|KNN DONE!!!\n",
      "\n",
      "****************************************************************************************************\n",
      "Current iterating: MLS|Bwin|target.ori|f3|NN\n"
     ]
    },
    {
     "name": "stderr",
     "output_type": "stream",
     "text": [
      "C:\\Users\\kouda\\Anaconda3\\lib\\site-packages\\sklearn\\model_selection\\_search.py:841: DeprecationWarning: The default of the `iid` parameter will change from True to False in version 0.22 and will be removed in 0.24. This will change numeric results when test-set sizes are unequal.\n",
      "  DeprecationWarning)\n",
      "C:\\Users\\kouda\\Anaconda3\\lib\\site-packages\\sklearn\\metrics\\classification.py:1143: UndefinedMetricWarning: Precision and F-score are ill-defined and being set to 0.0 in labels with no predicted samples.\n",
      "  'precision', 'predicted', average, warn_for)\n"
     ]
    },
    {
     "name": "stdout",
     "output_type": "stream",
     "text": [
      "MLS|Bwin|target.ori|f3|NN DONE!!!\n",
      "\n",
      "****************************************************************************************************\n",
      "Current iterating: MLS|Bwin|target.alt|f4|RF\n",
      "MLS|Bwin|target.alt|f4|RF DONE!!!\n",
      "\n",
      "****************************************************************************************************\n",
      "Current iterating: MLS|Bwin|target.alt|f4|SVM\n"
     ]
    },
    {
     "name": "stderr",
     "output_type": "stream",
     "text": [
      "C:\\Users\\kouda\\Anaconda3\\lib\\site-packages\\sklearn\\metrics\\classification.py:1143: UndefinedMetricWarning: Precision and F-score are ill-defined and being set to 0.0 in labels with no predicted samples.\n",
      "  'precision', 'predicted', average, warn_for)\n"
     ]
    },
    {
     "name": "stdout",
     "output_type": "stream",
     "text": [
      "MLS|Bwin|target.alt|f4|SVM DONE!!!\n",
      "\n",
      "****************************************************************************************************\n",
      "Current iterating: MLS|Bwin|target.alt|f4|KNN\n",
      "MLS|Bwin|target.alt|f4|KNN DONE!!!\n",
      "\n",
      "****************************************************************************************************\n",
      "Current iterating: MLS|Bwin|target.alt|f4|NN\n",
      "MLS|Bwin|target.alt|f4|NN DONE!!!\n",
      "\n",
      "****************************************************************************************************\n",
      "Current iterating: MLS|Bwin|target.alt|f3|RF\n",
      "MLS|Bwin|target.alt|f3|RF DONE!!!\n",
      "\n",
      "****************************************************************************************************\n",
      "Current iterating: MLS|Bwin|target.alt|f3|SVM\n"
     ]
    },
    {
     "name": "stderr",
     "output_type": "stream",
     "text": [
      "C:\\Users\\kouda\\Anaconda3\\lib\\site-packages\\sklearn\\metrics\\classification.py:1143: UndefinedMetricWarning: Precision and F-score are ill-defined and being set to 0.0 in labels with no predicted samples.\n",
      "  'precision', 'predicted', average, warn_for)\n"
     ]
    },
    {
     "name": "stdout",
     "output_type": "stream",
     "text": [
      "MLS|Bwin|target.alt|f3|SVM DONE!!!\n",
      "\n",
      "****************************************************************************************************\n",
      "Current iterating: MLS|Bwin|target.alt|f3|KNN\n",
      "MLS|Bwin|target.alt|f3|KNN DONE!!!\n",
      "\n",
      "****************************************************************************************************\n",
      "Current iterating: MLS|Bwin|target.alt|f3|NN\n"
     ]
    },
    {
     "name": "stderr",
     "output_type": "stream",
     "text": [
      "C:\\Users\\kouda\\Anaconda3\\lib\\site-packages\\sklearn\\metrics\\classification.py:1143: UndefinedMetricWarning: Precision and F-score are ill-defined and being set to 0.0 in labels with no predicted samples.\n",
      "  'precision', 'predicted', average, warn_for)\n"
     ]
    },
    {
     "name": "stdout",
     "output_type": "stream",
     "text": [
      "MLS|Bwin|target.alt|f3|NN DONE!!!\n",
      "\n",
      "****************************************************************************************************\n",
      "Current iterating: MLS|12Bet|target.ori|f4|RF\n",
      "MLS|12Bet|target.ori|f4|RF DONE!!!\n",
      "\n",
      "****************************************************************************************************\n",
      "Current iterating: MLS|12Bet|target.ori|f4|SVM\n"
     ]
    },
    {
     "name": "stderr",
     "output_type": "stream",
     "text": [
      "C:\\Users\\kouda\\Anaconda3\\lib\\site-packages\\sklearn\\metrics\\classification.py:1143: UndefinedMetricWarning: Precision and F-score are ill-defined and being set to 0.0 in labels with no predicted samples.\n",
      "  'precision', 'predicted', average, warn_for)\n"
     ]
    },
    {
     "name": "stdout",
     "output_type": "stream",
     "text": [
      "MLS|12Bet|target.ori|f4|SVM DONE!!!\n",
      "\n",
      "****************************************************************************************************\n",
      "Current iterating: MLS|12Bet|target.ori|f4|KNN\n",
      "MLS|12Bet|target.ori|f4|KNN DONE!!!\n",
      "\n",
      "****************************************************************************************************\n",
      "Current iterating: MLS|12Bet|target.ori|f4|NN\n"
     ]
    },
    {
     "name": "stderr",
     "output_type": "stream",
     "text": [
      "C:\\Users\\kouda\\Anaconda3\\lib\\site-packages\\sklearn\\metrics\\classification.py:1143: UndefinedMetricWarning: Precision and F-score are ill-defined and being set to 0.0 in labels with no predicted samples.\n",
      "  'precision', 'predicted', average, warn_for)\n"
     ]
    },
    {
     "name": "stdout",
     "output_type": "stream",
     "text": [
      "MLS|12Bet|target.ori|f4|NN DONE!!!\n",
      "\n",
      "****************************************************************************************************\n",
      "Current iterating: MLS|12Bet|target.ori|f3|RF\n",
      "MLS|12Bet|target.ori|f3|RF DONE!!!\n",
      "\n",
      "****************************************************************************************************\n",
      "Current iterating: MLS|12Bet|target.ori|f3|SVM\n"
     ]
    },
    {
     "name": "stderr",
     "output_type": "stream",
     "text": [
      "C:\\Users\\kouda\\Anaconda3\\lib\\site-packages\\sklearn\\metrics\\classification.py:1143: UndefinedMetricWarning: Precision and F-score are ill-defined and being set to 0.0 in labels with no predicted samples.\n",
      "  'precision', 'predicted', average, warn_for)\n"
     ]
    },
    {
     "name": "stdout",
     "output_type": "stream",
     "text": [
      "MLS|12Bet|target.ori|f3|SVM DONE!!!\n",
      "\n",
      "****************************************************************************************************\n",
      "Current iterating: MLS|12Bet|target.ori|f3|KNN\n",
      "MLS|12Bet|target.ori|f3|KNN DONE!!!\n",
      "\n",
      "****************************************************************************************************\n",
      "Current iterating: MLS|12Bet|target.ori|f3|NN\n"
     ]
    },
    {
     "name": "stderr",
     "output_type": "stream",
     "text": [
      "C:\\Users\\kouda\\Anaconda3\\lib\\site-packages\\sklearn\\metrics\\classification.py:1143: UndefinedMetricWarning: Precision and F-score are ill-defined and being set to 0.0 in labels with no predicted samples.\n",
      "  'precision', 'predicted', average, warn_for)\n"
     ]
    },
    {
     "name": "stdout",
     "output_type": "stream",
     "text": [
      "MLS|12Bet|target.ori|f3|NN DONE!!!\n",
      "\n",
      "****************************************************************************************************\n",
      "Current iterating: MLS|12Bet|target.alt|f4|RF\n",
      "MLS|12Bet|target.alt|f4|RF DONE!!!\n",
      "\n",
      "****************************************************************************************************\n",
      "Current iterating: MLS|12Bet|target.alt|f4|SVM\n"
     ]
    },
    {
     "name": "stderr",
     "output_type": "stream",
     "text": [
      "C:\\Users\\kouda\\Anaconda3\\lib\\site-packages\\sklearn\\metrics\\classification.py:1143: UndefinedMetricWarning: Precision and F-score are ill-defined and being set to 0.0 in labels with no predicted samples.\n",
      "  'precision', 'predicted', average, warn_for)\n"
     ]
    },
    {
     "name": "stdout",
     "output_type": "stream",
     "text": [
      "MLS|12Bet|target.alt|f4|SVM DONE!!!\n",
      "\n",
      "****************************************************************************************************\n",
      "Current iterating: MLS|12Bet|target.alt|f4|KNN\n",
      "MLS|12Bet|target.alt|f4|KNN DONE!!!\n",
      "\n",
      "****************************************************************************************************\n",
      "Current iterating: MLS|12Bet|target.alt|f4|NN\n"
     ]
    },
    {
     "name": "stderr",
     "output_type": "stream",
     "text": [
      "C:\\Users\\kouda\\Anaconda3\\lib\\site-packages\\sklearn\\metrics\\classification.py:1143: UndefinedMetricWarning: Precision and F-score are ill-defined and being set to 0.0 in labels with no predicted samples.\n",
      "  'precision', 'predicted', average, warn_for)\n"
     ]
    },
    {
     "name": "stdout",
     "output_type": "stream",
     "text": [
      "MLS|12Bet|target.alt|f4|NN DONE!!!\n",
      "\n",
      "****************************************************************************************************\n",
      "Current iterating: MLS|12Bet|target.alt|f3|RF\n",
      "MLS|12Bet|target.alt|f3|RF DONE!!!\n",
      "\n",
      "****************************************************************************************************\n",
      "Current iterating: MLS|12Bet|target.alt|f3|SVM\n"
     ]
    },
    {
     "name": "stderr",
     "output_type": "stream",
     "text": [
      "C:\\Users\\kouda\\Anaconda3\\lib\\site-packages\\sklearn\\metrics\\classification.py:1143: UndefinedMetricWarning: Precision and F-score are ill-defined and being set to 0.0 in labels with no predicted samples.\n",
      "  'precision', 'predicted', average, warn_for)\n"
     ]
    },
    {
     "name": "stdout",
     "output_type": "stream",
     "text": [
      "MLS|12Bet|target.alt|f3|SVM DONE!!!\n",
      "\n",
      "****************************************************************************************************\n",
      "Current iterating: MLS|12Bet|target.alt|f3|KNN\n",
      "MLS|12Bet|target.alt|f3|KNN DONE!!!\n",
      "\n",
      "****************************************************************************************************\n",
      "Current iterating: MLS|12Bet|target.alt|f3|NN\n"
     ]
    },
    {
     "name": "stderr",
     "output_type": "stream",
     "text": [
      "C:\\Users\\kouda\\Anaconda3\\lib\\site-packages\\sklearn\\metrics\\classification.py:1143: UndefinedMetricWarning: Precision and F-score are ill-defined and being set to 0.0 in labels with no predicted samples.\n",
      "  'precision', 'predicted', average, warn_for)\n"
     ]
    },
    {
     "name": "stdout",
     "output_type": "stream",
     "text": [
      "MLS|12Bet|target.alt|f3|NN DONE!!!\n",
      "\n"
     ]
    },
    {
     "name": "stderr",
     "output_type": "stream",
     "text": [
      "C:\\Users\\kouda\\Anaconda3\\lib\\site-packages\\sklearn\\preprocessing\\data.py:323: DataConversionWarning: Data with input dtype int64, float64 were all converted to float64 by MinMaxScaler.\n",
      "  return self.partial_fit(X, y)\n"
     ]
    },
    {
     "name": "stdout",
     "output_type": "stream",
     "text": [
      "****************************************************************************************************\n",
      "Current iterating: LaLiga|Bet365|target.ori|f4|RF\n",
      "LaLiga|Bet365|target.ori|f4|RF DONE!!!\n",
      "\n",
      "****************************************************************************************************\n",
      "Current iterating: LaLiga|Bet365|target.ori|f4|SVM\n",
      "LaLiga|Bet365|target.ori|f4|SVM DONE!!!\n",
      "\n",
      "****************************************************************************************************\n",
      "Current iterating: LaLiga|Bet365|target.ori|f4|KNN\n",
      "LaLiga|Bet365|target.ori|f4|KNN DONE!!!\n",
      "\n",
      "****************************************************************************************************\n",
      "Current iterating: LaLiga|Bet365|target.ori|f4|NN\n"
     ]
    },
    {
     "name": "stderr",
     "output_type": "stream",
     "text": [
      "C:\\Users\\kouda\\Anaconda3\\lib\\site-packages\\sklearn\\metrics\\classification.py:1143: UndefinedMetricWarning: Precision and F-score are ill-defined and being set to 0.0 in labels with no predicted samples.\n",
      "  'precision', 'predicted', average, warn_for)\n",
      "C:\\Users\\kouda\\Anaconda3\\lib\\site-packages\\sklearn\\preprocessing\\data.py:323: DataConversionWarning: Data with input dtype int64, float64 were all converted to float64 by MinMaxScaler.\n",
      "  return self.partial_fit(X, y)\n"
     ]
    },
    {
     "name": "stdout",
     "output_type": "stream",
     "text": [
      "LaLiga|Bet365|target.ori|f4|NN DONE!!!\n",
      "\n",
      "****************************************************************************************************\n",
      "Current iterating: LaLiga|Bet365|target.ori|f3|RF\n",
      "LaLiga|Bet365|target.ori|f3|RF DONE!!!\n",
      "\n",
      "****************************************************************************************************\n",
      "Current iterating: LaLiga|Bet365|target.ori|f3|SVM\n",
      "LaLiga|Bet365|target.ori|f3|SVM DONE!!!\n",
      "\n",
      "****************************************************************************************************\n",
      "Current iterating: LaLiga|Bet365|target.ori|f3|KNN\n",
      "LaLiga|Bet365|target.ori|f3|KNN DONE!!!\n",
      "\n",
      "****************************************************************************************************\n",
      "Current iterating: LaLiga|Bet365|target.ori|f3|NN\n"
     ]
    },
    {
     "name": "stderr",
     "output_type": "stream",
     "text": [
      "C:\\Users\\kouda\\Anaconda3\\lib\\site-packages\\sklearn\\metrics\\classification.py:1143: UndefinedMetricWarning: Precision and F-score are ill-defined and being set to 0.0 in labels with no predicted samples.\n",
      "  'precision', 'predicted', average, warn_for)\n",
      "C:\\Users\\kouda\\Anaconda3\\lib\\site-packages\\sklearn\\preprocessing\\data.py:323: DataConversionWarning: Data with input dtype int64, float64 were all converted to float64 by MinMaxScaler.\n",
      "  return self.partial_fit(X, y)\n"
     ]
    },
    {
     "name": "stdout",
     "output_type": "stream",
     "text": [
      "LaLiga|Bet365|target.ori|f3|NN DONE!!!\n",
      "\n",
      "****************************************************************************************************\n",
      "Current iterating: LaLiga|Bet365|target.alt|f4|RF\n",
      "LaLiga|Bet365|target.alt|f4|RF DONE!!!\n",
      "\n",
      "****************************************************************************************************\n",
      "Current iterating: LaLiga|Bet365|target.alt|f4|SVM\n",
      "LaLiga|Bet365|target.alt|f4|SVM DONE!!!\n",
      "\n",
      "****************************************************************************************************\n",
      "Current iterating: LaLiga|Bet365|target.alt|f4|KNN\n",
      "LaLiga|Bet365|target.alt|f4|KNN DONE!!!\n",
      "\n",
      "****************************************************************************************************\n",
      "Current iterating: LaLiga|Bet365|target.alt|f4|NN\n"
     ]
    },
    {
     "name": "stderr",
     "output_type": "stream",
     "text": [
      "C:\\Users\\kouda\\Anaconda3\\lib\\site-packages\\sklearn\\metrics\\classification.py:1143: UndefinedMetricWarning: Precision and F-score are ill-defined and being set to 0.0 in labels with no predicted samples.\n",
      "  'precision', 'predicted', average, warn_for)\n",
      "C:\\Users\\kouda\\Anaconda3\\lib\\site-packages\\sklearn\\preprocessing\\data.py:323: DataConversionWarning: Data with input dtype int64, float64 were all converted to float64 by MinMaxScaler.\n",
      "  return self.partial_fit(X, y)\n"
     ]
    },
    {
     "name": "stdout",
     "output_type": "stream",
     "text": [
      "LaLiga|Bet365|target.alt|f4|NN DONE!!!\n",
      "\n",
      "****************************************************************************************************\n",
      "Current iterating: LaLiga|Bet365|target.alt|f3|RF\n",
      "LaLiga|Bet365|target.alt|f3|RF DONE!!!\n",
      "\n",
      "****************************************************************************************************\n",
      "Current iterating: LaLiga|Bet365|target.alt|f3|SVM\n",
      "LaLiga|Bet365|target.alt|f3|SVM DONE!!!\n",
      "\n",
      "****************************************************************************************************\n",
      "Current iterating: LaLiga|Bet365|target.alt|f3|KNN\n",
      "LaLiga|Bet365|target.alt|f3|KNN DONE!!!\n",
      "\n",
      "****************************************************************************************************\n",
      "Current iterating: LaLiga|Bet365|target.alt|f3|NN\n"
     ]
    },
    {
     "name": "stderr",
     "output_type": "stream",
     "text": [
      "C:\\Users\\kouda\\Anaconda3\\lib\\site-packages\\sklearn\\metrics\\classification.py:1143: UndefinedMetricWarning: Precision and F-score are ill-defined and being set to 0.0 in labels with no predicted samples.\n",
      "  'precision', 'predicted', average, warn_for)\n",
      "C:\\Users\\kouda\\Anaconda3\\lib\\site-packages\\sklearn\\preprocessing\\data.py:323: DataConversionWarning: Data with input dtype int64, float64 were all converted to float64 by MinMaxScaler.\n",
      "  return self.partial_fit(X, y)\n"
     ]
    },
    {
     "name": "stdout",
     "output_type": "stream",
     "text": [
      "LaLiga|Bet365|target.alt|f3|NN DONE!!!\n",
      "\n",
      "****************************************************************************************************\n",
      "Current iterating: LaLiga|WilliamHill|target.ori|f4|RF\n",
      "LaLiga|WilliamHill|target.ori|f4|RF DONE!!!\n",
      "\n",
      "****************************************************************************************************\n",
      "Current iterating: LaLiga|WilliamHill|target.ori|f4|SVM\n",
      "LaLiga|WilliamHill|target.ori|f4|SVM DONE!!!\n",
      "\n",
      "****************************************************************************************************\n",
      "Current iterating: LaLiga|WilliamHill|target.ori|f4|KNN\n",
      "LaLiga|WilliamHill|target.ori|f4|KNN DONE!!!\n",
      "\n",
      "****************************************************************************************************\n",
      "Current iterating: LaLiga|WilliamHill|target.ori|f4|NN\n"
     ]
    },
    {
     "name": "stderr",
     "output_type": "stream",
     "text": [
      "C:\\Users\\kouda\\Anaconda3\\lib\\site-packages\\sklearn\\metrics\\classification.py:1143: UndefinedMetricWarning: Precision and F-score are ill-defined and being set to 0.0 in labels with no predicted samples.\n",
      "  'precision', 'predicted', average, warn_for)\n",
      "C:\\Users\\kouda\\Anaconda3\\lib\\site-packages\\sklearn\\preprocessing\\data.py:323: DataConversionWarning: Data with input dtype int64, float64 were all converted to float64 by MinMaxScaler.\n",
      "  return self.partial_fit(X, y)\n"
     ]
    },
    {
     "name": "stdout",
     "output_type": "stream",
     "text": [
      "LaLiga|WilliamHill|target.ori|f4|NN DONE!!!\n",
      "\n",
      "****************************************************************************************************\n",
      "Current iterating: LaLiga|WilliamHill|target.ori|f3|RF\n",
      "LaLiga|WilliamHill|target.ori|f3|RF DONE!!!\n",
      "\n",
      "****************************************************************************************************\n",
      "Current iterating: LaLiga|WilliamHill|target.ori|f3|SVM\n",
      "LaLiga|WilliamHill|target.ori|f3|SVM DONE!!!\n",
      "\n",
      "****************************************************************************************************\n",
      "Current iterating: LaLiga|WilliamHill|target.ori|f3|KNN\n",
      "LaLiga|WilliamHill|target.ori|f3|KNN DONE!!!\n",
      "\n",
      "****************************************************************************************************\n",
      "Current iterating: LaLiga|WilliamHill|target.ori|f3|NN\n"
     ]
    },
    {
     "name": "stderr",
     "output_type": "stream",
     "text": [
      "C:\\Users\\kouda\\Anaconda3\\lib\\site-packages\\sklearn\\metrics\\classification.py:1143: UndefinedMetricWarning: Precision and F-score are ill-defined and being set to 0.0 in labels with no predicted samples.\n",
      "  'precision', 'predicted', average, warn_for)\n",
      "C:\\Users\\kouda\\Anaconda3\\lib\\site-packages\\sklearn\\preprocessing\\data.py:323: DataConversionWarning: Data with input dtype int64, float64 were all converted to float64 by MinMaxScaler.\n",
      "  return self.partial_fit(X, y)\n"
     ]
    },
    {
     "name": "stdout",
     "output_type": "stream",
     "text": [
      "LaLiga|WilliamHill|target.ori|f3|NN DONE!!!\n",
      "\n",
      "****************************************************************************************************\n",
      "Current iterating: LaLiga|WilliamHill|target.alt|f4|RF\n",
      "LaLiga|WilliamHill|target.alt|f4|RF DONE!!!\n",
      "\n",
      "****************************************************************************************************\n",
      "Current iterating: LaLiga|WilliamHill|target.alt|f4|SVM\n",
      "LaLiga|WilliamHill|target.alt|f4|SVM DONE!!!\n",
      "\n",
      "****************************************************************************************************\n",
      "Current iterating: LaLiga|WilliamHill|target.alt|f4|KNN\n",
      "LaLiga|WilliamHill|target.alt|f4|KNN DONE!!!\n",
      "\n",
      "****************************************************************************************************\n",
      "Current iterating: LaLiga|WilliamHill|target.alt|f4|NN\n"
     ]
    },
    {
     "name": "stderr",
     "output_type": "stream",
     "text": [
      "C:\\Users\\kouda\\Anaconda3\\lib\\site-packages\\sklearn\\metrics\\classification.py:1143: UndefinedMetricWarning: Precision and F-score are ill-defined and being set to 0.0 in labels with no predicted samples.\n",
      "  'precision', 'predicted', average, warn_for)\n",
      "C:\\Users\\kouda\\Anaconda3\\lib\\site-packages\\sklearn\\preprocessing\\data.py:323: DataConversionWarning: Data with input dtype int64, float64 were all converted to float64 by MinMaxScaler.\n",
      "  return self.partial_fit(X, y)\n"
     ]
    },
    {
     "name": "stdout",
     "output_type": "stream",
     "text": [
      "LaLiga|WilliamHill|target.alt|f4|NN DONE!!!\n",
      "\n",
      "****************************************************************************************************\n",
      "Current iterating: LaLiga|WilliamHill|target.alt|f3|RF\n",
      "LaLiga|WilliamHill|target.alt|f3|RF DONE!!!\n",
      "\n",
      "****************************************************************************************************\n",
      "Current iterating: LaLiga|WilliamHill|target.alt|f3|SVM\n",
      "LaLiga|WilliamHill|target.alt|f3|SVM DONE!!!\n",
      "\n",
      "****************************************************************************************************\n",
      "Current iterating: LaLiga|WilliamHill|target.alt|f3|KNN\n",
      "LaLiga|WilliamHill|target.alt|f3|KNN DONE!!!\n",
      "\n",
      "****************************************************************************************************\n",
      "Current iterating: LaLiga|WilliamHill|target.alt|f3|NN\n"
     ]
    },
    {
     "name": "stderr",
     "output_type": "stream",
     "text": [
      "C:\\Users\\kouda\\Anaconda3\\lib\\site-packages\\sklearn\\metrics\\classification.py:1143: UndefinedMetricWarning: Precision and F-score are ill-defined and being set to 0.0 in labels with no predicted samples.\n",
      "  'precision', 'predicted', average, warn_for)\n",
      "C:\\Users\\kouda\\Anaconda3\\lib\\site-packages\\sklearn\\preprocessing\\data.py:323: DataConversionWarning: Data with input dtype int64, float64 were all converted to float64 by MinMaxScaler.\n",
      "  return self.partial_fit(X, y)\n"
     ]
    },
    {
     "name": "stdout",
     "output_type": "stream",
     "text": [
      "LaLiga|WilliamHill|target.alt|f3|NN DONE!!!\n",
      "\n",
      "****************************************************************************************************\n",
      "Current iterating: LaLiga|Bwin|target.ori|f4|RF\n",
      "LaLiga|Bwin|target.ori|f4|RF DONE!!!\n",
      "\n",
      "****************************************************************************************************\n",
      "Current iterating: LaLiga|Bwin|target.ori|f4|SVM\n",
      "LaLiga|Bwin|target.ori|f4|SVM DONE!!!\n",
      "\n",
      "****************************************************************************************************\n",
      "Current iterating: LaLiga|Bwin|target.ori|f4|KNN\n",
      "LaLiga|Bwin|target.ori|f4|KNN DONE!!!\n",
      "\n",
      "****************************************************************************************************\n",
      "Current iterating: LaLiga|Bwin|target.ori|f4|NN\n"
     ]
    },
    {
     "name": "stderr",
     "output_type": "stream",
     "text": [
      "C:\\Users\\kouda\\Anaconda3\\lib\\site-packages\\sklearn\\metrics\\classification.py:1143: UndefinedMetricWarning: Precision and F-score are ill-defined and being set to 0.0 in labels with no predicted samples.\n",
      "  'precision', 'predicted', average, warn_for)\n",
      "C:\\Users\\kouda\\Anaconda3\\lib\\site-packages\\sklearn\\preprocessing\\data.py:323: DataConversionWarning: Data with input dtype int64, float64 were all converted to float64 by MinMaxScaler.\n",
      "  return self.partial_fit(X, y)\n"
     ]
    },
    {
     "name": "stdout",
     "output_type": "stream",
     "text": [
      "LaLiga|Bwin|target.ori|f4|NN DONE!!!\n",
      "\n",
      "****************************************************************************************************\n",
      "Current iterating: LaLiga|Bwin|target.ori|f3|RF\n",
      "LaLiga|Bwin|target.ori|f3|RF DONE!!!\n",
      "\n",
      "****************************************************************************************************\n",
      "Current iterating: LaLiga|Bwin|target.ori|f3|SVM\n",
      "LaLiga|Bwin|target.ori|f3|SVM DONE!!!\n",
      "\n",
      "****************************************************************************************************\n",
      "Current iterating: LaLiga|Bwin|target.ori|f3|KNN\n",
      "LaLiga|Bwin|target.ori|f3|KNN DONE!!!\n",
      "\n",
      "****************************************************************************************************\n",
      "Current iterating: LaLiga|Bwin|target.ori|f3|NN\n"
     ]
    },
    {
     "name": "stderr",
     "output_type": "stream",
     "text": [
      "C:\\Users\\kouda\\Anaconda3\\lib\\site-packages\\sklearn\\metrics\\classification.py:1143: UndefinedMetricWarning: Precision and F-score are ill-defined and being set to 0.0 in labels with no predicted samples.\n",
      "  'precision', 'predicted', average, warn_for)\n",
      "C:\\Users\\kouda\\Anaconda3\\lib\\site-packages\\sklearn\\preprocessing\\data.py:323: DataConversionWarning: Data with input dtype int64, float64 were all converted to float64 by MinMaxScaler.\n",
      "  return self.partial_fit(X, y)\n"
     ]
    },
    {
     "name": "stdout",
     "output_type": "stream",
     "text": [
      "LaLiga|Bwin|target.ori|f3|NN DONE!!!\n",
      "\n",
      "****************************************************************************************************\n",
      "Current iterating: LaLiga|Bwin|target.alt|f4|RF\n",
      "LaLiga|Bwin|target.alt|f4|RF DONE!!!\n",
      "\n",
      "****************************************************************************************************\n",
      "Current iterating: LaLiga|Bwin|target.alt|f4|SVM\n",
      "LaLiga|Bwin|target.alt|f4|SVM DONE!!!\n",
      "\n",
      "****************************************************************************************************\n",
      "Current iterating: LaLiga|Bwin|target.alt|f4|KNN\n",
      "LaLiga|Bwin|target.alt|f4|KNN DONE!!!\n",
      "\n",
      "****************************************************************************************************\n",
      "Current iterating: LaLiga|Bwin|target.alt|f4|NN\n"
     ]
    },
    {
     "name": "stderr",
     "output_type": "stream",
     "text": [
      "C:\\Users\\kouda\\Anaconda3\\lib\\site-packages\\sklearn\\metrics\\classification.py:1143: UndefinedMetricWarning: Precision and F-score are ill-defined and being set to 0.0 in labels with no predicted samples.\n",
      "  'precision', 'predicted', average, warn_for)\n",
      "C:\\Users\\kouda\\Anaconda3\\lib\\site-packages\\sklearn\\preprocessing\\data.py:323: DataConversionWarning: Data with input dtype int64, float64 were all converted to float64 by MinMaxScaler.\n",
      "  return self.partial_fit(X, y)\n"
     ]
    },
    {
     "name": "stdout",
     "output_type": "stream",
     "text": [
      "LaLiga|Bwin|target.alt|f4|NN DONE!!!\n",
      "\n",
      "****************************************************************************************************\n",
      "Current iterating: LaLiga|Bwin|target.alt|f3|RF\n",
      "LaLiga|Bwin|target.alt|f3|RF DONE!!!\n",
      "\n",
      "****************************************************************************************************\n",
      "Current iterating: LaLiga|Bwin|target.alt|f3|SVM\n",
      "LaLiga|Bwin|target.alt|f3|SVM DONE!!!\n",
      "\n",
      "****************************************************************************************************\n",
      "Current iterating: LaLiga|Bwin|target.alt|f3|KNN\n",
      "LaLiga|Bwin|target.alt|f3|KNN DONE!!!\n",
      "\n",
      "****************************************************************************************************\n",
      "Current iterating: LaLiga|Bwin|target.alt|f3|NN\n"
     ]
    },
    {
     "name": "stderr",
     "output_type": "stream",
     "text": [
      "C:\\Users\\kouda\\Anaconda3\\lib\\site-packages\\sklearn\\metrics\\classification.py:1143: UndefinedMetricWarning: Precision and F-score are ill-defined and being set to 0.0 in labels with no predicted samples.\n",
      "  'precision', 'predicted', average, warn_for)\n",
      "C:\\Users\\kouda\\Anaconda3\\lib\\site-packages\\sklearn\\preprocessing\\data.py:323: DataConversionWarning: Data with input dtype int64, float64 were all converted to float64 by MinMaxScaler.\n",
      "  return self.partial_fit(X, y)\n"
     ]
    },
    {
     "name": "stdout",
     "output_type": "stream",
     "text": [
      "LaLiga|Bwin|target.alt|f3|NN DONE!!!\n",
      "\n",
      "****************************************************************************************************\n",
      "Current iterating: LaLiga|12Bet|target.ori|f4|RF\n",
      "LaLiga|12Bet|target.ori|f4|RF DONE!!!\n",
      "\n",
      "****************************************************************************************************\n",
      "Current iterating: LaLiga|12Bet|target.ori|f4|SVM\n",
      "LaLiga|12Bet|target.ori|f4|SVM DONE!!!\n",
      "\n",
      "****************************************************************************************************\n",
      "Current iterating: LaLiga|12Bet|target.ori|f4|KNN\n",
      "LaLiga|12Bet|target.ori|f4|KNN DONE!!!\n",
      "\n",
      "****************************************************************************************************\n",
      "Current iterating: LaLiga|12Bet|target.ori|f4|NN\n"
     ]
    },
    {
     "name": "stderr",
     "output_type": "stream",
     "text": [
      "C:\\Users\\kouda\\Anaconda3\\lib\\site-packages\\sklearn\\metrics\\classification.py:1143: UndefinedMetricWarning: Precision and F-score are ill-defined and being set to 0.0 in labels with no predicted samples.\n",
      "  'precision', 'predicted', average, warn_for)\n",
      "C:\\Users\\kouda\\Anaconda3\\lib\\site-packages\\sklearn\\preprocessing\\data.py:323: DataConversionWarning: Data with input dtype int64, float64 were all converted to float64 by MinMaxScaler.\n",
      "  return self.partial_fit(X, y)\n"
     ]
    },
    {
     "name": "stdout",
     "output_type": "stream",
     "text": [
      "LaLiga|12Bet|target.ori|f4|NN DONE!!!\n",
      "\n",
      "****************************************************************************************************\n",
      "Current iterating: LaLiga|12Bet|target.ori|f3|RF\n",
      "LaLiga|12Bet|target.ori|f3|RF DONE!!!\n",
      "\n",
      "****************************************************************************************************\n",
      "Current iterating: LaLiga|12Bet|target.ori|f3|SVM\n",
      "LaLiga|12Bet|target.ori|f3|SVM DONE!!!\n",
      "\n",
      "****************************************************************************************************\n",
      "Current iterating: LaLiga|12Bet|target.ori|f3|KNN\n",
      "LaLiga|12Bet|target.ori|f3|KNN DONE!!!\n",
      "\n",
      "****************************************************************************************************\n",
      "Current iterating: LaLiga|12Bet|target.ori|f3|NN\n"
     ]
    },
    {
     "name": "stderr",
     "output_type": "stream",
     "text": [
      "C:\\Users\\kouda\\Anaconda3\\lib\\site-packages\\sklearn\\metrics\\classification.py:1143: UndefinedMetricWarning: Precision and F-score are ill-defined and being set to 0.0 in labels with no predicted samples.\n",
      "  'precision', 'predicted', average, warn_for)\n"
     ]
    },
    {
     "name": "stdout",
     "output_type": "stream",
     "text": [
      "LaLiga|12Bet|target.ori|f3|NN DONE!!!\n",
      "\n",
      "****************************************************************************************************\n",
      "Current iterating: LaLiga|12Bet|target.alt|f4|RF\n"
     ]
    },
    {
     "name": "stderr",
     "output_type": "stream",
     "text": [
      "C:\\Users\\kouda\\Anaconda3\\lib\\site-packages\\sklearn\\preprocessing\\data.py:323: DataConversionWarning: Data with input dtype int64, float64 were all converted to float64 by MinMaxScaler.\n",
      "  return self.partial_fit(X, y)\n"
     ]
    },
    {
     "name": "stdout",
     "output_type": "stream",
     "text": [
      "LaLiga|12Bet|target.alt|f4|RF DONE!!!\n",
      "\n",
      "****************************************************************************************************\n",
      "Current iterating: LaLiga|12Bet|target.alt|f4|SVM\n",
      "LaLiga|12Bet|target.alt|f4|SVM DONE!!!\n",
      "\n",
      "****************************************************************************************************\n",
      "Current iterating: LaLiga|12Bet|target.alt|f4|KNN\n",
      "LaLiga|12Bet|target.alt|f4|KNN DONE!!!\n",
      "\n",
      "****************************************************************************************************\n",
      "Current iterating: LaLiga|12Bet|target.alt|f4|NN\n"
     ]
    },
    {
     "name": "stderr",
     "output_type": "stream",
     "text": [
      "C:\\Users\\kouda\\Anaconda3\\lib\\site-packages\\sklearn\\metrics\\classification.py:1143: UndefinedMetricWarning: Precision and F-score are ill-defined and being set to 0.0 in labels with no predicted samples.\n",
      "  'precision', 'predicted', average, warn_for)\n",
      "C:\\Users\\kouda\\Anaconda3\\lib\\site-packages\\sklearn\\preprocessing\\data.py:323: DataConversionWarning: Data with input dtype int64, float64 were all converted to float64 by MinMaxScaler.\n",
      "  return self.partial_fit(X, y)\n"
     ]
    },
    {
     "name": "stdout",
     "output_type": "stream",
     "text": [
      "LaLiga|12Bet|target.alt|f4|NN DONE!!!\n",
      "\n",
      "****************************************************************************************************\n",
      "Current iterating: LaLiga|12Bet|target.alt|f3|RF\n",
      "LaLiga|12Bet|target.alt|f3|RF DONE!!!\n",
      "\n",
      "****************************************************************************************************\n",
      "Current iterating: LaLiga|12Bet|target.alt|f3|SVM\n",
      "LaLiga|12Bet|target.alt|f3|SVM DONE!!!\n",
      "\n",
      "****************************************************************************************************\n",
      "Current iterating: LaLiga|12Bet|target.alt|f3|KNN\n",
      "LaLiga|12Bet|target.alt|f3|KNN DONE!!!\n",
      "\n",
      "****************************************************************************************************\n",
      "Current iterating: LaLiga|12Bet|target.alt|f3|NN\n",
      "LaLiga|12Bet|target.alt|f3|NN DONE!!!\n",
      "\n"
     ]
    },
    {
     "name": "stderr",
     "output_type": "stream",
     "text": [
      "C:\\Users\\kouda\\Anaconda3\\lib\\site-packages\\sklearn\\preprocessing\\data.py:323: DataConversionWarning: Data with input dtype int64, float64 were all converted to float64 by MinMaxScaler.\n",
      "  return self.partial_fit(X, y)\n"
     ]
    },
    {
     "name": "stdout",
     "output_type": "stream",
     "text": [
      "****************************************************************************************************\n",
      "Current iterating: Bundesliga|Bet365|target.ori|f4|RF\n",
      "Bundesliga|Bet365|target.ori|f4|RF DONE!!!\n",
      "\n",
      "****************************************************************************************************\n",
      "Current iterating: Bundesliga|Bet365|target.ori|f4|SVM\n"
     ]
    },
    {
     "name": "stderr",
     "output_type": "stream",
     "text": [
      "C:\\Users\\kouda\\Anaconda3\\lib\\site-packages\\sklearn\\metrics\\classification.py:1143: UndefinedMetricWarning: Precision and F-score are ill-defined and being set to 0.0 in labels with no predicted samples.\n",
      "  'precision', 'predicted', average, warn_for)\n"
     ]
    },
    {
     "name": "stdout",
     "output_type": "stream",
     "text": [
      "Bundesliga|Bet365|target.ori|f4|SVM DONE!!!\n",
      "\n",
      "****************************************************************************************************\n",
      "Current iterating: Bundesliga|Bet365|target.ori|f4|KNN\n",
      "Bundesliga|Bet365|target.ori|f4|KNN DONE!!!\n",
      "\n",
      "****************************************************************************************************\n",
      "Current iterating: Bundesliga|Bet365|target.ori|f4|NN\n"
     ]
    },
    {
     "name": "stderr",
     "output_type": "stream",
     "text": [
      "C:\\Users\\kouda\\Anaconda3\\lib\\site-packages\\sklearn\\metrics\\classification.py:1143: UndefinedMetricWarning: Precision and F-score are ill-defined and being set to 0.0 in labels with no predicted samples.\n",
      "  'precision', 'predicted', average, warn_for)\n",
      "C:\\Users\\kouda\\Anaconda3\\lib\\site-packages\\sklearn\\preprocessing\\data.py:323: DataConversionWarning: Data with input dtype int64, float64 were all converted to float64 by MinMaxScaler.\n",
      "  return self.partial_fit(X, y)\n"
     ]
    },
    {
     "name": "stdout",
     "output_type": "stream",
     "text": [
      "Bundesliga|Bet365|target.ori|f4|NN DONE!!!\n",
      "\n",
      "****************************************************************************************************\n",
      "Current iterating: Bundesliga|Bet365|target.ori|f3|RF\n",
      "Bundesliga|Bet365|target.ori|f3|RF DONE!!!\n",
      "\n",
      "****************************************************************************************************\n",
      "Current iterating: Bundesliga|Bet365|target.ori|f3|SVM\n"
     ]
    },
    {
     "name": "stderr",
     "output_type": "stream",
     "text": [
      "C:\\Users\\kouda\\Anaconda3\\lib\\site-packages\\sklearn\\metrics\\classification.py:1143: UndefinedMetricWarning: Precision and F-score are ill-defined and being set to 0.0 in labels with no predicted samples.\n",
      "  'precision', 'predicted', average, warn_for)\n"
     ]
    },
    {
     "name": "stdout",
     "output_type": "stream",
     "text": [
      "Bundesliga|Bet365|target.ori|f3|SVM DONE!!!\n",
      "\n",
      "****************************************************************************************************\n",
      "Current iterating: Bundesliga|Bet365|target.ori|f3|KNN\n",
      "Bundesliga|Bet365|target.ori|f3|KNN DONE!!!\n",
      "\n",
      "****************************************************************************************************\n",
      "Current iterating: Bundesliga|Bet365|target.ori|f3|NN\n"
     ]
    },
    {
     "name": "stderr",
     "output_type": "stream",
     "text": [
      "C:\\Users\\kouda\\Anaconda3\\lib\\site-packages\\sklearn\\metrics\\classification.py:1143: UndefinedMetricWarning: Precision and F-score are ill-defined and being set to 0.0 in labels with no predicted samples.\n",
      "  'precision', 'predicted', average, warn_for)\n",
      "C:\\Users\\kouda\\Anaconda3\\lib\\site-packages\\sklearn\\preprocessing\\data.py:323: DataConversionWarning: Data with input dtype int64, float64 were all converted to float64 by MinMaxScaler.\n",
      "  return self.partial_fit(X, y)\n"
     ]
    },
    {
     "name": "stdout",
     "output_type": "stream",
     "text": [
      "Bundesliga|Bet365|target.ori|f3|NN DONE!!!\n",
      "\n",
      "****************************************************************************************************\n",
      "Current iterating: Bundesliga|Bet365|target.alt|f4|RF\n",
      "Bundesliga|Bet365|target.alt|f4|RF DONE!!!\n",
      "\n",
      "****************************************************************************************************\n",
      "Current iterating: Bundesliga|Bet365|target.alt|f4|SVM\n"
     ]
    },
    {
     "name": "stderr",
     "output_type": "stream",
     "text": [
      "C:\\Users\\kouda\\Anaconda3\\lib\\site-packages\\sklearn\\metrics\\classification.py:1143: UndefinedMetricWarning: Precision and F-score are ill-defined and being set to 0.0 in labels with no predicted samples.\n",
      "  'precision', 'predicted', average, warn_for)\n"
     ]
    },
    {
     "name": "stdout",
     "output_type": "stream",
     "text": [
      "Bundesliga|Bet365|target.alt|f4|SVM DONE!!!\n",
      "\n",
      "****************************************************************************************************\n",
      "Current iterating: Bundesliga|Bet365|target.alt|f4|KNN\n",
      "Bundesliga|Bet365|target.alt|f4|KNN DONE!!!\n",
      "\n",
      "****************************************************************************************************\n",
      "Current iterating: Bundesliga|Bet365|target.alt|f4|NN\n"
     ]
    },
    {
     "name": "stderr",
     "output_type": "stream",
     "text": [
      "C:\\Users\\kouda\\Anaconda3\\lib\\site-packages\\sklearn\\metrics\\classification.py:1143: UndefinedMetricWarning: Precision and F-score are ill-defined and being set to 0.0 in labels with no predicted samples.\n",
      "  'precision', 'predicted', average, warn_for)\n",
      "C:\\Users\\kouda\\Anaconda3\\lib\\site-packages\\sklearn\\preprocessing\\data.py:323: DataConversionWarning: Data with input dtype int64, float64 were all converted to float64 by MinMaxScaler.\n",
      "  return self.partial_fit(X, y)\n"
     ]
    },
    {
     "name": "stdout",
     "output_type": "stream",
     "text": [
      "Bundesliga|Bet365|target.alt|f4|NN DONE!!!\n",
      "\n",
      "****************************************************************************************************\n",
      "Current iterating: Bundesliga|Bet365|target.alt|f3|RF\n",
      "Bundesliga|Bet365|target.alt|f3|RF DONE!!!\n",
      "\n",
      "****************************************************************************************************\n",
      "Current iterating: Bundesliga|Bet365|target.alt|f3|SVM\n"
     ]
    },
    {
     "name": "stderr",
     "output_type": "stream",
     "text": [
      "C:\\Users\\kouda\\Anaconda3\\lib\\site-packages\\sklearn\\metrics\\classification.py:1143: UndefinedMetricWarning: Precision and F-score are ill-defined and being set to 0.0 in labels with no predicted samples.\n",
      "  'precision', 'predicted', average, warn_for)\n"
     ]
    },
    {
     "name": "stdout",
     "output_type": "stream",
     "text": [
      "Bundesliga|Bet365|target.alt|f3|SVM DONE!!!\n",
      "\n",
      "****************************************************************************************************\n",
      "Current iterating: Bundesliga|Bet365|target.alt|f3|KNN\n",
      "Bundesliga|Bet365|target.alt|f3|KNN DONE!!!\n",
      "\n",
      "****************************************************************************************************\n",
      "Current iterating: Bundesliga|Bet365|target.alt|f3|NN\n",
      "Bundesliga|Bet365|target.alt|f3|NN DONE!!!\n",
      "\n",
      "****************************************************************************************************\n",
      "Current iterating: Bundesliga|WilliamHill|target.ori|f4|RF\n"
     ]
    },
    {
     "name": "stderr",
     "output_type": "stream",
     "text": [
      "C:\\Users\\kouda\\Anaconda3\\lib\\site-packages\\sklearn\\preprocessing\\data.py:323: DataConversionWarning: Data with input dtype int64, float64 were all converted to float64 by MinMaxScaler.\n",
      "  return self.partial_fit(X, y)\n"
     ]
    },
    {
     "name": "stdout",
     "output_type": "stream",
     "text": [
      "Bundesliga|WilliamHill|target.ori|f4|RF DONE!!!\n",
      "\n",
      "****************************************************************************************************\n",
      "Current iterating: Bundesliga|WilliamHill|target.ori|f4|SVM\n"
     ]
    },
    {
     "name": "stderr",
     "output_type": "stream",
     "text": [
      "C:\\Users\\kouda\\Anaconda3\\lib\\site-packages\\sklearn\\metrics\\classification.py:1143: UndefinedMetricWarning: Precision and F-score are ill-defined and being set to 0.0 in labels with no predicted samples.\n",
      "  'precision', 'predicted', average, warn_for)\n"
     ]
    },
    {
     "name": "stdout",
     "output_type": "stream",
     "text": [
      "Bundesliga|WilliamHill|target.ori|f4|SVM DONE!!!\n",
      "\n",
      "****************************************************************************************************\n",
      "Current iterating: Bundesliga|WilliamHill|target.ori|f4|KNN\n",
      "Bundesliga|WilliamHill|target.ori|f4|KNN DONE!!!\n",
      "\n",
      "****************************************************************************************************\n",
      "Current iterating: Bundesliga|WilliamHill|target.ori|f4|NN\n"
     ]
    },
    {
     "name": "stderr",
     "output_type": "stream",
     "text": [
      "C:\\Users\\kouda\\Anaconda3\\lib\\site-packages\\sklearn\\metrics\\classification.py:1143: UndefinedMetricWarning: Precision and F-score are ill-defined and being set to 0.0 in labels with no predicted samples.\n",
      "  'precision', 'predicted', average, warn_for)\n",
      "C:\\Users\\kouda\\Anaconda3\\lib\\site-packages\\sklearn\\preprocessing\\data.py:323: DataConversionWarning: Data with input dtype int64, float64 were all converted to float64 by MinMaxScaler.\n",
      "  return self.partial_fit(X, y)\n"
     ]
    },
    {
     "name": "stdout",
     "output_type": "stream",
     "text": [
      "Bundesliga|WilliamHill|target.ori|f4|NN DONE!!!\n",
      "\n",
      "****************************************************************************************************\n",
      "Current iterating: Bundesliga|WilliamHill|target.ori|f3|RF\n",
      "Bundesliga|WilliamHill|target.ori|f3|RF DONE!!!\n",
      "\n",
      "****************************************************************************************************\n",
      "Current iterating: Bundesliga|WilliamHill|target.ori|f3|SVM\n"
     ]
    },
    {
     "name": "stderr",
     "output_type": "stream",
     "text": [
      "C:\\Users\\kouda\\Anaconda3\\lib\\site-packages\\sklearn\\metrics\\classification.py:1143: UndefinedMetricWarning: Precision and F-score are ill-defined and being set to 0.0 in labels with no predicted samples.\n",
      "  'precision', 'predicted', average, warn_for)\n"
     ]
    },
    {
     "name": "stdout",
     "output_type": "stream",
     "text": [
      "Bundesliga|WilliamHill|target.ori|f3|SVM DONE!!!\n",
      "\n",
      "****************************************************************************************************\n",
      "Current iterating: Bundesliga|WilliamHill|target.ori|f3|KNN\n",
      "Bundesliga|WilliamHill|target.ori|f3|KNN DONE!!!\n",
      "\n",
      "****************************************************************************************************\n",
      "Current iterating: Bundesliga|WilliamHill|target.ori|f3|NN\n"
     ]
    },
    {
     "name": "stderr",
     "output_type": "stream",
     "text": [
      "C:\\Users\\kouda\\Anaconda3\\lib\\site-packages\\sklearn\\metrics\\classification.py:1143: UndefinedMetricWarning: Precision and F-score are ill-defined and being set to 0.0 in labels with no predicted samples.\n",
      "  'precision', 'predicted', average, warn_for)\n",
      "C:\\Users\\kouda\\Anaconda3\\lib\\site-packages\\sklearn\\preprocessing\\data.py:323: DataConversionWarning: Data with input dtype int64, float64 were all converted to float64 by MinMaxScaler.\n",
      "  return self.partial_fit(X, y)\n"
     ]
    },
    {
     "name": "stdout",
     "output_type": "stream",
     "text": [
      "Bundesliga|WilliamHill|target.ori|f3|NN DONE!!!\n",
      "\n",
      "****************************************************************************************************\n",
      "Current iterating: Bundesliga|WilliamHill|target.alt|f4|RF\n",
      "Bundesliga|WilliamHill|target.alt|f4|RF DONE!!!\n",
      "\n",
      "****************************************************************************************************\n",
      "Current iterating: Bundesliga|WilliamHill|target.alt|f4|SVM\n"
     ]
    },
    {
     "name": "stderr",
     "output_type": "stream",
     "text": [
      "C:\\Users\\kouda\\Anaconda3\\lib\\site-packages\\sklearn\\metrics\\classification.py:1143: UndefinedMetricWarning: Precision and F-score are ill-defined and being set to 0.0 in labels with no predicted samples.\n",
      "  'precision', 'predicted', average, warn_for)\n"
     ]
    },
    {
     "name": "stdout",
     "output_type": "stream",
     "text": [
      "Bundesliga|WilliamHill|target.alt|f4|SVM DONE!!!\n",
      "\n",
      "****************************************************************************************************\n",
      "Current iterating: Bundesliga|WilliamHill|target.alt|f4|KNN\n",
      "Bundesliga|WilliamHill|target.alt|f4|KNN DONE!!!\n",
      "\n",
      "****************************************************************************************************\n",
      "Current iterating: Bundesliga|WilliamHill|target.alt|f4|NN\n"
     ]
    },
    {
     "name": "stderr",
     "output_type": "stream",
     "text": [
      "C:\\Users\\kouda\\Anaconda3\\lib\\site-packages\\sklearn\\metrics\\classification.py:1143: UndefinedMetricWarning: Precision and F-score are ill-defined and being set to 0.0 in labels with no predicted samples.\n",
      "  'precision', 'predicted', average, warn_for)\n",
      "C:\\Users\\kouda\\Anaconda3\\lib\\site-packages\\sklearn\\preprocessing\\data.py:323: DataConversionWarning: Data with input dtype int64, float64 were all converted to float64 by MinMaxScaler.\n",
      "  return self.partial_fit(X, y)\n"
     ]
    },
    {
     "name": "stdout",
     "output_type": "stream",
     "text": [
      "Bundesliga|WilliamHill|target.alt|f4|NN DONE!!!\n",
      "\n",
      "****************************************************************************************************\n",
      "Current iterating: Bundesliga|WilliamHill|target.alt|f3|RF\n",
      "Bundesliga|WilliamHill|target.alt|f3|RF DONE!!!\n",
      "\n",
      "****************************************************************************************************\n",
      "Current iterating: Bundesliga|WilliamHill|target.alt|f3|SVM\n"
     ]
    },
    {
     "name": "stderr",
     "output_type": "stream",
     "text": [
      "C:\\Users\\kouda\\Anaconda3\\lib\\site-packages\\sklearn\\metrics\\classification.py:1143: UndefinedMetricWarning: Precision and F-score are ill-defined and being set to 0.0 in labels with no predicted samples.\n",
      "  'precision', 'predicted', average, warn_for)\n"
     ]
    },
    {
     "name": "stdout",
     "output_type": "stream",
     "text": [
      "Bundesliga|WilliamHill|target.alt|f3|SVM DONE!!!\n",
      "\n",
      "****************************************************************************************************\n",
      "Current iterating: Bundesliga|WilliamHill|target.alt|f3|KNN\n",
      "Bundesliga|WilliamHill|target.alt|f3|KNN DONE!!!\n",
      "\n",
      "****************************************************************************************************\n",
      "Current iterating: Bundesliga|WilliamHill|target.alt|f3|NN\n"
     ]
    },
    {
     "name": "stderr",
     "output_type": "stream",
     "text": [
      "C:\\Users\\kouda\\Anaconda3\\lib\\site-packages\\sklearn\\metrics\\classification.py:1143: UndefinedMetricWarning: Precision and F-score are ill-defined and being set to 0.0 in labels with no predicted samples.\n",
      "  'precision', 'predicted', average, warn_for)\n",
      "C:\\Users\\kouda\\Anaconda3\\lib\\site-packages\\sklearn\\preprocessing\\data.py:323: DataConversionWarning: Data with input dtype int64, float64 were all converted to float64 by MinMaxScaler.\n",
      "  return self.partial_fit(X, y)\n"
     ]
    },
    {
     "name": "stdout",
     "output_type": "stream",
     "text": [
      "Bundesliga|WilliamHill|target.alt|f3|NN DONE!!!\n",
      "\n",
      "****************************************************************************************************\n",
      "Current iterating: Bundesliga|Bwin|target.ori|f4|RF\n",
      "Bundesliga|Bwin|target.ori|f4|RF DONE!!!\n",
      "\n",
      "****************************************************************************************************\n",
      "Current iterating: Bundesliga|Bwin|target.ori|f4|SVM\n"
     ]
    },
    {
     "name": "stderr",
     "output_type": "stream",
     "text": [
      "C:\\Users\\kouda\\Anaconda3\\lib\\site-packages\\sklearn\\metrics\\classification.py:1143: UndefinedMetricWarning: Precision and F-score are ill-defined and being set to 0.0 in labels with no predicted samples.\n",
      "  'precision', 'predicted', average, warn_for)\n"
     ]
    },
    {
     "name": "stdout",
     "output_type": "stream",
     "text": [
      "Bundesliga|Bwin|target.ori|f4|SVM DONE!!!\n",
      "\n",
      "****************************************************************************************************\n",
      "Current iterating: Bundesliga|Bwin|target.ori|f4|KNN\n",
      "Bundesliga|Bwin|target.ori|f4|KNN DONE!!!\n",
      "\n",
      "****************************************************************************************************\n",
      "Current iterating: Bundesliga|Bwin|target.ori|f4|NN\n",
      "Bundesliga|Bwin|target.ori|f4|NN DONE!!!\n",
      "\n",
      "****************************************************************************************************\n",
      "Current iterating: Bundesliga|Bwin|target.ori|f3|RF\n"
     ]
    },
    {
     "name": "stderr",
     "output_type": "stream",
     "text": [
      "C:\\Users\\kouda\\Anaconda3\\lib\\site-packages\\sklearn\\preprocessing\\data.py:323: DataConversionWarning: Data with input dtype int64, float64 were all converted to float64 by MinMaxScaler.\n",
      "  return self.partial_fit(X, y)\n"
     ]
    },
    {
     "name": "stdout",
     "output_type": "stream",
     "text": [
      "Bundesliga|Bwin|target.ori|f3|RF DONE!!!\n",
      "\n",
      "****************************************************************************************************\n",
      "Current iterating: Bundesliga|Bwin|target.ori|f3|SVM\n"
     ]
    },
    {
     "name": "stderr",
     "output_type": "stream",
     "text": [
      "C:\\Users\\kouda\\Anaconda3\\lib\\site-packages\\sklearn\\metrics\\classification.py:1143: UndefinedMetricWarning: Precision and F-score are ill-defined and being set to 0.0 in labels with no predicted samples.\n",
      "  'precision', 'predicted', average, warn_for)\n"
     ]
    },
    {
     "name": "stdout",
     "output_type": "stream",
     "text": [
      "Bundesliga|Bwin|target.ori|f3|SVM DONE!!!\n",
      "\n",
      "****************************************************************************************************\n",
      "Current iterating: Bundesliga|Bwin|target.ori|f3|KNN\n",
      "Bundesliga|Bwin|target.ori|f3|KNN DONE!!!\n",
      "\n",
      "****************************************************************************************************\n",
      "Current iterating: Bundesliga|Bwin|target.ori|f3|NN\n",
      "Bundesliga|Bwin|target.ori|f3|NN DONE!!!\n",
      "\n",
      "****************************************************************************************************\n",
      "Current iterating: Bundesliga|Bwin|target.alt|f4|RF\n"
     ]
    },
    {
     "name": "stderr",
     "output_type": "stream",
     "text": [
      "C:\\Users\\kouda\\Anaconda3\\lib\\site-packages\\sklearn\\preprocessing\\data.py:323: DataConversionWarning: Data with input dtype int64, float64 were all converted to float64 by MinMaxScaler.\n",
      "  return self.partial_fit(X, y)\n"
     ]
    },
    {
     "name": "stdout",
     "output_type": "stream",
     "text": [
      "Bundesliga|Bwin|target.alt|f4|RF DONE!!!\n",
      "\n",
      "****************************************************************************************************\n",
      "Current iterating: Bundesliga|Bwin|target.alt|f4|SVM\n"
     ]
    },
    {
     "name": "stderr",
     "output_type": "stream",
     "text": [
      "C:\\Users\\kouda\\Anaconda3\\lib\\site-packages\\sklearn\\metrics\\classification.py:1143: UndefinedMetricWarning: Precision and F-score are ill-defined and being set to 0.0 in labels with no predicted samples.\n",
      "  'precision', 'predicted', average, warn_for)\n"
     ]
    },
    {
     "name": "stdout",
     "output_type": "stream",
     "text": [
      "Bundesliga|Bwin|target.alt|f4|SVM DONE!!!\n",
      "\n",
      "****************************************************************************************************\n",
      "Current iterating: Bundesliga|Bwin|target.alt|f4|KNN\n",
      "Bundesliga|Bwin|target.alt|f4|KNN DONE!!!\n",
      "\n",
      "****************************************************************************************************\n",
      "Current iterating: Bundesliga|Bwin|target.alt|f4|NN\n"
     ]
    },
    {
     "name": "stderr",
     "output_type": "stream",
     "text": [
      "C:\\Users\\kouda\\Anaconda3\\lib\\site-packages\\sklearn\\metrics\\classification.py:1143: UndefinedMetricWarning: Precision and F-score are ill-defined and being set to 0.0 in labels with no predicted samples.\n",
      "  'precision', 'predicted', average, warn_for)\n",
      "C:\\Users\\kouda\\Anaconda3\\lib\\site-packages\\sklearn\\preprocessing\\data.py:323: DataConversionWarning: Data with input dtype int64, float64 were all converted to float64 by MinMaxScaler.\n",
      "  return self.partial_fit(X, y)\n"
     ]
    },
    {
     "name": "stdout",
     "output_type": "stream",
     "text": [
      "Bundesliga|Bwin|target.alt|f4|NN DONE!!!\n",
      "\n",
      "****************************************************************************************************\n",
      "Current iterating: Bundesliga|Bwin|target.alt|f3|RF\n",
      "Bundesliga|Bwin|target.alt|f3|RF DONE!!!\n",
      "\n",
      "****************************************************************************************************\n",
      "Current iterating: Bundesliga|Bwin|target.alt|f3|SVM\n"
     ]
    },
    {
     "name": "stderr",
     "output_type": "stream",
     "text": [
      "C:\\Users\\kouda\\Anaconda3\\lib\\site-packages\\sklearn\\metrics\\classification.py:1143: UndefinedMetricWarning: Precision and F-score are ill-defined and being set to 0.0 in labels with no predicted samples.\n",
      "  'precision', 'predicted', average, warn_for)\n"
     ]
    },
    {
     "name": "stdout",
     "output_type": "stream",
     "text": [
      "Bundesliga|Bwin|target.alt|f3|SVM DONE!!!\n",
      "\n",
      "****************************************************************************************************\n",
      "Current iterating: Bundesliga|Bwin|target.alt|f3|KNN\n",
      "Bundesliga|Bwin|target.alt|f3|KNN DONE!!!\n",
      "\n",
      "****************************************************************************************************\n",
      "Current iterating: Bundesliga|Bwin|target.alt|f3|NN\n"
     ]
    },
    {
     "name": "stderr",
     "output_type": "stream",
     "text": [
      "C:\\Users\\kouda\\Anaconda3\\lib\\site-packages\\sklearn\\metrics\\classification.py:1143: UndefinedMetricWarning: Precision and F-score are ill-defined and being set to 0.0 in labels with no predicted samples.\n",
      "  'precision', 'predicted', average, warn_for)\n"
     ]
    },
    {
     "name": "stdout",
     "output_type": "stream",
     "text": [
      "Bundesliga|Bwin|target.alt|f3|NN DONE!!!\n",
      "\n"
     ]
    },
    {
     "name": "stderr",
     "output_type": "stream",
     "text": [
      "C:\\Users\\kouda\\Anaconda3\\lib\\site-packages\\sklearn\\preprocessing\\data.py:323: DataConversionWarning: Data with input dtype int64, float64 were all converted to float64 by MinMaxScaler.\n",
      "  return self.partial_fit(X, y)\n"
     ]
    },
    {
     "name": "stdout",
     "output_type": "stream",
     "text": [
      "****************************************************************************************************\n",
      "Current iterating: Bundesliga|12Bet|target.ori|f4|RF\n",
      "Bundesliga|12Bet|target.ori|f4|RF DONE!!!\n",
      "\n",
      "****************************************************************************************************\n",
      "Current iterating: Bundesliga|12Bet|target.ori|f4|SVM\n",
      "Bundesliga|12Bet|target.ori|f4|SVM DONE!!!\n",
      "\n",
      "****************************************************************************************************\n",
      "Current iterating: Bundesliga|12Bet|target.ori|f4|KNN\n",
      "Bundesliga|12Bet|target.ori|f4|KNN DONE!!!\n",
      "\n",
      "****************************************************************************************************\n",
      "Current iterating: Bundesliga|12Bet|target.ori|f4|NN\n"
     ]
    },
    {
     "name": "stderr",
     "output_type": "stream",
     "text": [
      "C:\\Users\\kouda\\Anaconda3\\lib\\site-packages\\sklearn\\metrics\\classification.py:1143: UndefinedMetricWarning: Precision and F-score are ill-defined and being set to 0.0 in labels with no predicted samples.\n",
      "  'precision', 'predicted', average, warn_for)\n",
      "C:\\Users\\kouda\\Anaconda3\\lib\\site-packages\\sklearn\\preprocessing\\data.py:323: DataConversionWarning: Data with input dtype int64, float64 were all converted to float64 by MinMaxScaler.\n",
      "  return self.partial_fit(X, y)\n"
     ]
    },
    {
     "name": "stdout",
     "output_type": "stream",
     "text": [
      "Bundesliga|12Bet|target.ori|f4|NN DONE!!!\n",
      "\n",
      "****************************************************************************************************\n",
      "Current iterating: Bundesliga|12Bet|target.ori|f3|RF\n",
      "Bundesliga|12Bet|target.ori|f3|RF DONE!!!\n",
      "\n",
      "****************************************************************************************************\n",
      "Current iterating: Bundesliga|12Bet|target.ori|f3|SVM\n"
     ]
    },
    {
     "name": "stderr",
     "output_type": "stream",
     "text": [
      "C:\\Users\\kouda\\Anaconda3\\lib\\site-packages\\sklearn\\metrics\\classification.py:1143: UndefinedMetricWarning: Precision and F-score are ill-defined and being set to 0.0 in labels with no predicted samples.\n",
      "  'precision', 'predicted', average, warn_for)\n"
     ]
    },
    {
     "name": "stdout",
     "output_type": "stream",
     "text": [
      "Bundesliga|12Bet|target.ori|f3|SVM DONE!!!\n",
      "\n",
      "****************************************************************************************************\n",
      "Current iterating: Bundesliga|12Bet|target.ori|f3|KNN\n",
      "Bundesliga|12Bet|target.ori|f3|KNN DONE!!!\n",
      "\n",
      "****************************************************************************************************\n",
      "Current iterating: Bundesliga|12Bet|target.ori|f3|NN\n"
     ]
    },
    {
     "name": "stderr",
     "output_type": "stream",
     "text": [
      "C:\\Users\\kouda\\Anaconda3\\lib\\site-packages\\sklearn\\metrics\\classification.py:1143: UndefinedMetricWarning: Precision and F-score are ill-defined and being set to 0.0 in labels with no predicted samples.\n",
      "  'precision', 'predicted', average, warn_for)\n",
      "C:\\Users\\kouda\\Anaconda3\\lib\\site-packages\\sklearn\\preprocessing\\data.py:323: DataConversionWarning: Data with input dtype int64, float64 were all converted to float64 by MinMaxScaler.\n",
      "  return self.partial_fit(X, y)\n"
     ]
    },
    {
     "name": "stdout",
     "output_type": "stream",
     "text": [
      "Bundesliga|12Bet|target.ori|f3|NN DONE!!!\n",
      "\n",
      "****************************************************************************************************\n",
      "Current iterating: Bundesliga|12Bet|target.alt|f4|RF\n",
      "Bundesliga|12Bet|target.alt|f4|RF DONE!!!\n",
      "\n",
      "****************************************************************************************************\n",
      "Current iterating: Bundesliga|12Bet|target.alt|f4|SVM\n"
     ]
    },
    {
     "name": "stderr",
     "output_type": "stream",
     "text": [
      "C:\\Users\\kouda\\Anaconda3\\lib\\site-packages\\sklearn\\metrics\\classification.py:1143: UndefinedMetricWarning: Precision and F-score are ill-defined and being set to 0.0 in labels with no predicted samples.\n",
      "  'precision', 'predicted', average, warn_for)\n"
     ]
    },
    {
     "name": "stdout",
     "output_type": "stream",
     "text": [
      "Bundesliga|12Bet|target.alt|f4|SVM DONE!!!\n",
      "\n",
      "****************************************************************************************************\n",
      "Current iterating: Bundesliga|12Bet|target.alt|f4|KNN\n",
      "Bundesliga|12Bet|target.alt|f4|KNN DONE!!!\n",
      "\n",
      "****************************************************************************************************\n",
      "Current iterating: Bundesliga|12Bet|target.alt|f4|NN\n"
     ]
    },
    {
     "name": "stderr",
     "output_type": "stream",
     "text": [
      "C:\\Users\\kouda\\Anaconda3\\lib\\site-packages\\sklearn\\metrics\\classification.py:1143: UndefinedMetricWarning: Precision and F-score are ill-defined and being set to 0.0 in labels with no predicted samples.\n",
      "  'precision', 'predicted', average, warn_for)\n",
      "C:\\Users\\kouda\\Anaconda3\\lib\\site-packages\\sklearn\\preprocessing\\data.py:323: DataConversionWarning: Data with input dtype int64, float64 were all converted to float64 by MinMaxScaler.\n",
      "  return self.partial_fit(X, y)\n"
     ]
    },
    {
     "name": "stdout",
     "output_type": "stream",
     "text": [
      "Bundesliga|12Bet|target.alt|f4|NN DONE!!!\n",
      "\n",
      "****************************************************************************************************\n",
      "Current iterating: Bundesliga|12Bet|target.alt|f3|RF\n",
      "Bundesliga|12Bet|target.alt|f3|RF DONE!!!\n",
      "\n",
      "****************************************************************************************************\n",
      "Current iterating: Bundesliga|12Bet|target.alt|f3|SVM\n"
     ]
    },
    {
     "name": "stderr",
     "output_type": "stream",
     "text": [
      "C:\\Users\\kouda\\Anaconda3\\lib\\site-packages\\sklearn\\metrics\\classification.py:1143: UndefinedMetricWarning: Precision and F-score are ill-defined and being set to 0.0 in labels with no predicted samples.\n",
      "  'precision', 'predicted', average, warn_for)\n"
     ]
    },
    {
     "name": "stdout",
     "output_type": "stream",
     "text": [
      "Bundesliga|12Bet|target.alt|f3|SVM DONE!!!\n",
      "\n",
      "****************************************************************************************************\n",
      "Current iterating: Bundesliga|12Bet|target.alt|f3|KNN\n",
      "Bundesliga|12Bet|target.alt|f3|KNN DONE!!!\n",
      "\n",
      "****************************************************************************************************\n",
      "Current iterating: Bundesliga|12Bet|target.alt|f3|NN\n"
     ]
    },
    {
     "name": "stderr",
     "output_type": "stream",
     "text": [
      "C:\\Users\\kouda\\Anaconda3\\lib\\site-packages\\sklearn\\metrics\\classification.py:1143: UndefinedMetricWarning: Precision and F-score are ill-defined and being set to 0.0 in labels with no predicted samples.\n",
      "  'precision', 'predicted', average, warn_for)\n"
     ]
    },
    {
     "name": "stdout",
     "output_type": "stream",
     "text": [
      "Bundesliga|12Bet|target.alt|f3|NN DONE!!!\n",
      "\n"
     ]
    },
    {
     "name": "stderr",
     "output_type": "stream",
     "text": [
      "C:\\Users\\kouda\\Anaconda3\\lib\\site-packages\\sklearn\\preprocessing\\data.py:323: DataConversionWarning: Data with input dtype int64, float64 were all converted to float64 by MinMaxScaler.\n",
      "  return self.partial_fit(X, y)\n"
     ]
    },
    {
     "name": "stdout",
     "output_type": "stream",
     "text": [
      "****************************************************************************************************\n",
      "Current iterating: Ligue1|Bet365|target.ori|f4|RF\n",
      "Ligue1|Bet365|target.ori|f4|RF DONE!!!\n",
      "\n",
      "****************************************************************************************************\n",
      "Current iterating: Ligue1|Bet365|target.ori|f4|SVM\n",
      "Ligue1|Bet365|target.ori|f4|SVM DONE!!!\n",
      "\n",
      "****************************************************************************************************\n",
      "Current iterating: Ligue1|Bet365|target.ori|f4|KNN\n",
      "Ligue1|Bet365|target.ori|f4|KNN DONE!!!\n",
      "\n",
      "****************************************************************************************************\n",
      "Current iterating: Ligue1|Bet365|target.ori|f4|NN\n"
     ]
    },
    {
     "name": "stderr",
     "output_type": "stream",
     "text": [
      "C:\\Users\\kouda\\Anaconda3\\lib\\site-packages\\sklearn\\metrics\\classification.py:1143: UndefinedMetricWarning: Precision and F-score are ill-defined and being set to 0.0 in labels with no predicted samples.\n",
      "  'precision', 'predicted', average, warn_for)\n",
      "C:\\Users\\kouda\\Anaconda3\\lib\\site-packages\\sklearn\\preprocessing\\data.py:323: DataConversionWarning: Data with input dtype int64, float64 were all converted to float64 by MinMaxScaler.\n",
      "  return self.partial_fit(X, y)\n"
     ]
    },
    {
     "name": "stdout",
     "output_type": "stream",
     "text": [
      "Ligue1|Bet365|target.ori|f4|NN DONE!!!\n",
      "\n",
      "****************************************************************************************************\n",
      "Current iterating: Ligue1|Bet365|target.ori|f3|RF\n",
      "Ligue1|Bet365|target.ori|f3|RF DONE!!!\n",
      "\n",
      "****************************************************************************************************\n",
      "Current iterating: Ligue1|Bet365|target.ori|f3|SVM\n",
      "Ligue1|Bet365|target.ori|f3|SVM DONE!!!\n",
      "\n",
      "****************************************************************************************************\n",
      "Current iterating: Ligue1|Bet365|target.ori|f3|KNN\n",
      "Ligue1|Bet365|target.ori|f3|KNN DONE!!!\n",
      "\n",
      "****************************************************************************************************\n",
      "Current iterating: Ligue1|Bet365|target.ori|f3|NN\n"
     ]
    },
    {
     "name": "stderr",
     "output_type": "stream",
     "text": [
      "C:\\Users\\kouda\\Anaconda3\\lib\\site-packages\\sklearn\\metrics\\classification.py:1143: UndefinedMetricWarning: Precision and F-score are ill-defined and being set to 0.0 in labels with no predicted samples.\n",
      "  'precision', 'predicted', average, warn_for)\n",
      "C:\\Users\\kouda\\Anaconda3\\lib\\site-packages\\sklearn\\preprocessing\\data.py:323: DataConversionWarning: Data with input dtype int64, float64 were all converted to float64 by MinMaxScaler.\n",
      "  return self.partial_fit(X, y)\n"
     ]
    },
    {
     "name": "stdout",
     "output_type": "stream",
     "text": [
      "Ligue1|Bet365|target.ori|f3|NN DONE!!!\n",
      "\n",
      "****************************************************************************************************\n",
      "Current iterating: Ligue1|Bet365|target.alt|f4|RF\n",
      "Ligue1|Bet365|target.alt|f4|RF DONE!!!\n",
      "\n",
      "****************************************************************************************************\n",
      "Current iterating: Ligue1|Bet365|target.alt|f4|SVM\n",
      "Ligue1|Bet365|target.alt|f4|SVM DONE!!!\n",
      "\n",
      "****************************************************************************************************\n",
      "Current iterating: Ligue1|Bet365|target.alt|f4|KNN\n",
      "Ligue1|Bet365|target.alt|f4|KNN DONE!!!\n",
      "\n",
      "****************************************************************************************************\n",
      "Current iterating: Ligue1|Bet365|target.alt|f4|NN\n"
     ]
    },
    {
     "name": "stderr",
     "output_type": "stream",
     "text": [
      "C:\\Users\\kouda\\Anaconda3\\lib\\site-packages\\sklearn\\metrics\\classification.py:1143: UndefinedMetricWarning: Precision and F-score are ill-defined and being set to 0.0 in labels with no predicted samples.\n",
      "  'precision', 'predicted', average, warn_for)\n",
      "C:\\Users\\kouda\\Anaconda3\\lib\\site-packages\\sklearn\\preprocessing\\data.py:323: DataConversionWarning: Data with input dtype int64, float64 were all converted to float64 by MinMaxScaler.\n",
      "  return self.partial_fit(X, y)\n"
     ]
    },
    {
     "name": "stdout",
     "output_type": "stream",
     "text": [
      "Ligue1|Bet365|target.alt|f4|NN DONE!!!\n",
      "\n",
      "****************************************************************************************************\n",
      "Current iterating: Ligue1|Bet365|target.alt|f3|RF\n",
      "Ligue1|Bet365|target.alt|f3|RF DONE!!!\n",
      "\n",
      "****************************************************************************************************\n",
      "Current iterating: Ligue1|Bet365|target.alt|f3|SVM\n",
      "Ligue1|Bet365|target.alt|f3|SVM DONE!!!\n",
      "\n",
      "****************************************************************************************************\n",
      "Current iterating: Ligue1|Bet365|target.alt|f3|KNN\n",
      "Ligue1|Bet365|target.alt|f3|KNN DONE!!!\n",
      "\n",
      "****************************************************************************************************\n",
      "Current iterating: Ligue1|Bet365|target.alt|f3|NN\n"
     ]
    },
    {
     "name": "stderr",
     "output_type": "stream",
     "text": [
      "C:\\Users\\kouda\\Anaconda3\\lib\\site-packages\\sklearn\\metrics\\classification.py:1143: UndefinedMetricWarning: Precision and F-score are ill-defined and being set to 0.0 in labels with no predicted samples.\n",
      "  'precision', 'predicted', average, warn_for)\n"
     ]
    },
    {
     "name": "stdout",
     "output_type": "stream",
     "text": [
      "Ligue1|Bet365|target.alt|f3|NN DONE!!!\n",
      "\n"
     ]
    },
    {
     "name": "stderr",
     "output_type": "stream",
     "text": [
      "C:\\Users\\kouda\\Anaconda3\\lib\\site-packages\\sklearn\\preprocessing\\data.py:323: DataConversionWarning: Data with input dtype int64, float64 were all converted to float64 by MinMaxScaler.\n",
      "  return self.partial_fit(X, y)\n"
     ]
    },
    {
     "name": "stdout",
     "output_type": "stream",
     "text": [
      "****************************************************************************************************\n",
      "Current iterating: Ligue1|WilliamHill|target.ori|f4|RF\n",
      "Ligue1|WilliamHill|target.ori|f4|RF DONE!!!\n",
      "\n",
      "****************************************************************************************************\n",
      "Current iterating: Ligue1|WilliamHill|target.ori|f4|SVM\n"
     ]
    },
    {
     "name": "stderr",
     "output_type": "stream",
     "text": [
      "C:\\Users\\kouda\\Anaconda3\\lib\\site-packages\\sklearn\\metrics\\classification.py:1143: UndefinedMetricWarning: Precision and F-score are ill-defined and being set to 0.0 in labels with no predicted samples.\n",
      "  'precision', 'predicted', average, warn_for)\n"
     ]
    },
    {
     "name": "stdout",
     "output_type": "stream",
     "text": [
      "Ligue1|WilliamHill|target.ori|f4|SVM DONE!!!\n",
      "\n",
      "****************************************************************************************************\n",
      "Current iterating: Ligue1|WilliamHill|target.ori|f4|KNN\n",
      "Ligue1|WilliamHill|target.ori|f4|KNN DONE!!!\n",
      "\n",
      "****************************************************************************************************\n",
      "Current iterating: Ligue1|WilliamHill|target.ori|f4|NN\n"
     ]
    },
    {
     "name": "stderr",
     "output_type": "stream",
     "text": [
      "C:\\Users\\kouda\\Anaconda3\\lib\\site-packages\\sklearn\\metrics\\classification.py:1143: UndefinedMetricWarning: Precision and F-score are ill-defined and being set to 0.0 in labels with no predicted samples.\n",
      "  'precision', 'predicted', average, warn_for)\n",
      "C:\\Users\\kouda\\Anaconda3\\lib\\site-packages\\sklearn\\preprocessing\\data.py:323: DataConversionWarning: Data with input dtype int64, float64 were all converted to float64 by MinMaxScaler.\n",
      "  return self.partial_fit(X, y)\n"
     ]
    },
    {
     "name": "stdout",
     "output_type": "stream",
     "text": [
      "Ligue1|WilliamHill|target.ori|f4|NN DONE!!!\n",
      "\n",
      "****************************************************************************************************\n",
      "Current iterating: Ligue1|WilliamHill|target.ori|f3|RF\n",
      "Ligue1|WilliamHill|target.ori|f3|RF DONE!!!\n",
      "\n",
      "****************************************************************************************************\n",
      "Current iterating: Ligue1|WilliamHill|target.ori|f3|SVM\n"
     ]
    },
    {
     "name": "stderr",
     "output_type": "stream",
     "text": [
      "C:\\Users\\kouda\\Anaconda3\\lib\\site-packages\\sklearn\\metrics\\classification.py:1143: UndefinedMetricWarning: Precision and F-score are ill-defined and being set to 0.0 in labels with no predicted samples.\n",
      "  'precision', 'predicted', average, warn_for)\n"
     ]
    },
    {
     "name": "stdout",
     "output_type": "stream",
     "text": [
      "Ligue1|WilliamHill|target.ori|f3|SVM DONE!!!\n",
      "\n",
      "****************************************************************************************************\n",
      "Current iterating: Ligue1|WilliamHill|target.ori|f3|KNN\n",
      "Ligue1|WilliamHill|target.ori|f3|KNN DONE!!!\n",
      "\n",
      "****************************************************************************************************\n",
      "Current iterating: Ligue1|WilliamHill|target.ori|f3|NN\n"
     ]
    },
    {
     "name": "stderr",
     "output_type": "stream",
     "text": [
      "C:\\Users\\kouda\\Anaconda3\\lib\\site-packages\\sklearn\\metrics\\classification.py:1143: UndefinedMetricWarning: Precision and F-score are ill-defined and being set to 0.0 in labels with no predicted samples.\n",
      "  'precision', 'predicted', average, warn_for)\n",
      "C:\\Users\\kouda\\Anaconda3\\lib\\site-packages\\sklearn\\preprocessing\\data.py:323: DataConversionWarning: Data with input dtype int64, float64 were all converted to float64 by MinMaxScaler.\n",
      "  return self.partial_fit(X, y)\n"
     ]
    },
    {
     "name": "stdout",
     "output_type": "stream",
     "text": [
      "Ligue1|WilliamHill|target.ori|f3|NN DONE!!!\n",
      "\n",
      "****************************************************************************************************\n",
      "Current iterating: Ligue1|WilliamHill|target.alt|f4|RF\n",
      "Ligue1|WilliamHill|target.alt|f4|RF DONE!!!\n",
      "\n",
      "****************************************************************************************************\n",
      "Current iterating: Ligue1|WilliamHill|target.alt|f4|SVM\n"
     ]
    },
    {
     "name": "stderr",
     "output_type": "stream",
     "text": [
      "C:\\Users\\kouda\\Anaconda3\\lib\\site-packages\\sklearn\\metrics\\classification.py:1143: UndefinedMetricWarning: Precision and F-score are ill-defined and being set to 0.0 in labels with no predicted samples.\n",
      "  'precision', 'predicted', average, warn_for)\n"
     ]
    },
    {
     "name": "stdout",
     "output_type": "stream",
     "text": [
      "Ligue1|WilliamHill|target.alt|f4|SVM DONE!!!\n",
      "\n",
      "****************************************************************************************************\n",
      "Current iterating: Ligue1|WilliamHill|target.alt|f4|KNN\n",
      "Ligue1|WilliamHill|target.alt|f4|KNN DONE!!!\n",
      "\n",
      "****************************************************************************************************\n",
      "Current iterating: Ligue1|WilliamHill|target.alt|f4|NN\n"
     ]
    },
    {
     "name": "stderr",
     "output_type": "stream",
     "text": [
      "C:\\Users\\kouda\\Anaconda3\\lib\\site-packages\\sklearn\\metrics\\classification.py:1143: UndefinedMetricWarning: Precision and F-score are ill-defined and being set to 0.0 in labels with no predicted samples.\n",
      "  'precision', 'predicted', average, warn_for)\n",
      "C:\\Users\\kouda\\Anaconda3\\lib\\site-packages\\sklearn\\preprocessing\\data.py:323: DataConversionWarning: Data with input dtype int64, float64 were all converted to float64 by MinMaxScaler.\n",
      "  return self.partial_fit(X, y)\n"
     ]
    },
    {
     "name": "stdout",
     "output_type": "stream",
     "text": [
      "Ligue1|WilliamHill|target.alt|f4|NN DONE!!!\n",
      "\n",
      "****************************************************************************************************\n",
      "Current iterating: Ligue1|WilliamHill|target.alt|f3|RF\n",
      "Ligue1|WilliamHill|target.alt|f3|RF DONE!!!\n",
      "\n",
      "****************************************************************************************************\n",
      "Current iterating: Ligue1|WilliamHill|target.alt|f3|SVM\n"
     ]
    },
    {
     "name": "stderr",
     "output_type": "stream",
     "text": [
      "C:\\Users\\kouda\\Anaconda3\\lib\\site-packages\\sklearn\\metrics\\classification.py:1143: UndefinedMetricWarning: Precision and F-score are ill-defined and being set to 0.0 in labels with no predicted samples.\n",
      "  'precision', 'predicted', average, warn_for)\n"
     ]
    },
    {
     "name": "stdout",
     "output_type": "stream",
     "text": [
      "Ligue1|WilliamHill|target.alt|f3|SVM DONE!!!\n",
      "\n",
      "****************************************************************************************************\n",
      "Current iterating: Ligue1|WilliamHill|target.alt|f3|KNN\n",
      "Ligue1|WilliamHill|target.alt|f3|KNN DONE!!!\n",
      "\n",
      "****************************************************************************************************\n",
      "Current iterating: Ligue1|WilliamHill|target.alt|f3|NN\n"
     ]
    },
    {
     "name": "stderr",
     "output_type": "stream",
     "text": [
      "C:\\Users\\kouda\\Anaconda3\\lib\\site-packages\\sklearn\\metrics\\classification.py:1143: UndefinedMetricWarning: Precision and F-score are ill-defined and being set to 0.0 in labels with no predicted samples.\n",
      "  'precision', 'predicted', average, warn_for)\n",
      "C:\\Users\\kouda\\Anaconda3\\lib\\site-packages\\sklearn\\preprocessing\\data.py:323: DataConversionWarning: Data with input dtype int64, float64 were all converted to float64 by MinMaxScaler.\n",
      "  return self.partial_fit(X, y)\n"
     ]
    },
    {
     "name": "stdout",
     "output_type": "stream",
     "text": [
      "Ligue1|WilliamHill|target.alt|f3|NN DONE!!!\n",
      "\n",
      "****************************************************************************************************\n",
      "Current iterating: Ligue1|Bwin|target.ori|f4|RF\n",
      "Ligue1|Bwin|target.ori|f4|RF DONE!!!\n",
      "\n",
      "****************************************************************************************************\n",
      "Current iterating: Ligue1|Bwin|target.ori|f4|SVM\n"
     ]
    },
    {
     "name": "stderr",
     "output_type": "stream",
     "text": [
      "C:\\Users\\kouda\\Anaconda3\\lib\\site-packages\\sklearn\\metrics\\classification.py:1143: UndefinedMetricWarning: Precision and F-score are ill-defined and being set to 0.0 in labels with no predicted samples.\n",
      "  'precision', 'predicted', average, warn_for)\n"
     ]
    },
    {
     "name": "stdout",
     "output_type": "stream",
     "text": [
      "Ligue1|Bwin|target.ori|f4|SVM DONE!!!\n",
      "\n",
      "****************************************************************************************************\n",
      "Current iterating: Ligue1|Bwin|target.ori|f4|KNN\n",
      "Ligue1|Bwin|target.ori|f4|KNN DONE!!!\n",
      "\n",
      "****************************************************************************************************\n",
      "Current iterating: Ligue1|Bwin|target.ori|f4|NN\n"
     ]
    },
    {
     "name": "stderr",
     "output_type": "stream",
     "text": [
      "C:\\Users\\kouda\\Anaconda3\\lib\\site-packages\\sklearn\\metrics\\classification.py:1143: UndefinedMetricWarning: Precision and F-score are ill-defined and being set to 0.0 in labels with no predicted samples.\n",
      "  'precision', 'predicted', average, warn_for)\n",
      "C:\\Users\\kouda\\Anaconda3\\lib\\site-packages\\sklearn\\preprocessing\\data.py:323: DataConversionWarning: Data with input dtype int64, float64 were all converted to float64 by MinMaxScaler.\n",
      "  return self.partial_fit(X, y)\n"
     ]
    },
    {
     "name": "stdout",
     "output_type": "stream",
     "text": [
      "Ligue1|Bwin|target.ori|f4|NN DONE!!!\n",
      "\n",
      "****************************************************************************************************\n",
      "Current iterating: Ligue1|Bwin|target.ori|f3|RF\n",
      "Ligue1|Bwin|target.ori|f3|RF DONE!!!\n",
      "\n",
      "****************************************************************************************************\n",
      "Current iterating: Ligue1|Bwin|target.ori|f3|SVM\n"
     ]
    },
    {
     "name": "stderr",
     "output_type": "stream",
     "text": [
      "C:\\Users\\kouda\\Anaconda3\\lib\\site-packages\\sklearn\\metrics\\classification.py:1143: UndefinedMetricWarning: Precision and F-score are ill-defined and being set to 0.0 in labels with no predicted samples.\n",
      "  'precision', 'predicted', average, warn_for)\n"
     ]
    },
    {
     "name": "stdout",
     "output_type": "stream",
     "text": [
      "Ligue1|Bwin|target.ori|f3|SVM DONE!!!\n",
      "\n",
      "****************************************************************************************************\n",
      "Current iterating: Ligue1|Bwin|target.ori|f3|KNN\n",
      "Ligue1|Bwin|target.ori|f3|KNN DONE!!!\n",
      "\n",
      "****************************************************************************************************\n",
      "Current iterating: Ligue1|Bwin|target.ori|f3|NN\n"
     ]
    },
    {
     "name": "stderr",
     "output_type": "stream",
     "text": [
      "C:\\Users\\kouda\\Anaconda3\\lib\\site-packages\\sklearn\\metrics\\classification.py:1143: UndefinedMetricWarning: Precision and F-score are ill-defined and being set to 0.0 in labels with no predicted samples.\n",
      "  'precision', 'predicted', average, warn_for)\n",
      "C:\\Users\\kouda\\Anaconda3\\lib\\site-packages\\sklearn\\preprocessing\\data.py:323: DataConversionWarning: Data with input dtype int64, float64 were all converted to float64 by MinMaxScaler.\n",
      "  return self.partial_fit(X, y)\n"
     ]
    },
    {
     "name": "stdout",
     "output_type": "stream",
     "text": [
      "Ligue1|Bwin|target.ori|f3|NN DONE!!!\n",
      "\n",
      "****************************************************************************************************\n",
      "Current iterating: Ligue1|Bwin|target.alt|f4|RF\n",
      "Ligue1|Bwin|target.alt|f4|RF DONE!!!\n",
      "\n",
      "****************************************************************************************************\n",
      "Current iterating: Ligue1|Bwin|target.alt|f4|SVM\n"
     ]
    },
    {
     "name": "stderr",
     "output_type": "stream",
     "text": [
      "C:\\Users\\kouda\\Anaconda3\\lib\\site-packages\\sklearn\\metrics\\classification.py:1143: UndefinedMetricWarning: Precision and F-score are ill-defined and being set to 0.0 in labels with no predicted samples.\n",
      "  'precision', 'predicted', average, warn_for)\n"
     ]
    },
    {
     "name": "stdout",
     "output_type": "stream",
     "text": [
      "Ligue1|Bwin|target.alt|f4|SVM DONE!!!\n",
      "\n",
      "****************************************************************************************************\n",
      "Current iterating: Ligue1|Bwin|target.alt|f4|KNN\n",
      "Ligue1|Bwin|target.alt|f4|KNN DONE!!!\n",
      "\n",
      "****************************************************************************************************\n",
      "Current iterating: Ligue1|Bwin|target.alt|f4|NN\n",
      "Ligue1|Bwin|target.alt|f4|NN DONE!!!\n",
      "\n",
      "****************************************************************************************************\n",
      "Current iterating: Ligue1|Bwin|target.alt|f3|RF\n",
      "Ligue1|Bwin|target.alt|f3|RF DONE!!!\n",
      "\n",
      "****************************************************************************************************\n",
      "Current iterating: Ligue1|Bwin|target.alt|f3|SVM\n"
     ]
    },
    {
     "name": "stderr",
     "output_type": "stream",
     "text": [
      "C:\\Users\\kouda\\Anaconda3\\lib\\site-packages\\sklearn\\metrics\\classification.py:1143: UndefinedMetricWarning: Precision and F-score are ill-defined and being set to 0.0 in labels with no predicted samples.\n",
      "  'precision', 'predicted', average, warn_for)\n",
      "C:\\Users\\kouda\\Anaconda3\\lib\\site-packages\\sklearn\\preprocessing\\data.py:323: DataConversionWarning: Data with input dtype int64, float64 were all converted to float64 by MinMaxScaler.\n",
      "  return self.partial_fit(X, y)\n",
      "C:\\Users\\kouda\\Anaconda3\\lib\\site-packages\\sklearn\\metrics\\classification.py:1143: UndefinedMetricWarning: Precision and F-score are ill-defined and being set to 0.0 in labels with no predicted samples.\n",
      "  'precision', 'predicted', average, warn_for)\n"
     ]
    },
    {
     "name": "stdout",
     "output_type": "stream",
     "text": [
      "Ligue1|Bwin|target.alt|f3|SVM DONE!!!\n",
      "\n",
      "****************************************************************************************************\n",
      "Current iterating: Ligue1|Bwin|target.alt|f3|KNN\n",
      "Ligue1|Bwin|target.alt|f3|KNN DONE!!!\n",
      "\n",
      "****************************************************************************************************\n",
      "Current iterating: Ligue1|Bwin|target.alt|f3|NN\n"
     ]
    },
    {
     "name": "stderr",
     "output_type": "stream",
     "text": [
      "C:\\Users\\kouda\\Anaconda3\\lib\\site-packages\\sklearn\\metrics\\classification.py:1143: UndefinedMetricWarning: Precision and F-score are ill-defined and being set to 0.0 in labels with no predicted samples.\n",
      "  'precision', 'predicted', average, warn_for)\n"
     ]
    },
    {
     "name": "stdout",
     "output_type": "stream",
     "text": [
      "Ligue1|Bwin|target.alt|f3|NN DONE!!!\n",
      "\n"
     ]
    },
    {
     "name": "stderr",
     "output_type": "stream",
     "text": [
      "C:\\Users\\kouda\\Anaconda3\\lib\\site-packages\\sklearn\\preprocessing\\data.py:323: DataConversionWarning: Data with input dtype int64, float64 were all converted to float64 by MinMaxScaler.\n",
      "  return self.partial_fit(X, y)\n"
     ]
    },
    {
     "name": "stdout",
     "output_type": "stream",
     "text": [
      "****************************************************************************************************\n",
      "Current iterating: Ligue1|12Bet|target.ori|f4|RF\n",
      "Ligue1|12Bet|target.ori|f4|RF DONE!!!\n",
      "\n",
      "****************************************************************************************************\n",
      "Current iterating: Ligue1|12Bet|target.ori|f4|SVM\n",
      "Ligue1|12Bet|target.ori|f4|SVM DONE!!!\n",
      "\n",
      "****************************************************************************************************\n",
      "Current iterating: Ligue1|12Bet|target.ori|f4|KNN\n",
      "Ligue1|12Bet|target.ori|f4|KNN DONE!!!\n",
      "\n",
      "****************************************************************************************************\n",
      "Current iterating: Ligue1|12Bet|target.ori|f4|NN\n"
     ]
    },
    {
     "name": "stderr",
     "output_type": "stream",
     "text": [
      "C:\\Users\\kouda\\Anaconda3\\lib\\site-packages\\sklearn\\metrics\\classification.py:1143: UndefinedMetricWarning: Precision and F-score are ill-defined and being set to 0.0 in labels with no predicted samples.\n",
      "  'precision', 'predicted', average, warn_for)\n",
      "C:\\Users\\kouda\\Anaconda3\\lib\\site-packages\\sklearn\\preprocessing\\data.py:323: DataConversionWarning: Data with input dtype int64, float64 were all converted to float64 by MinMaxScaler.\n",
      "  return self.partial_fit(X, y)\n"
     ]
    },
    {
     "name": "stdout",
     "output_type": "stream",
     "text": [
      "Ligue1|12Bet|target.ori|f4|NN DONE!!!\n",
      "\n",
      "****************************************************************************************************\n",
      "Current iterating: Ligue1|12Bet|target.ori|f3|RF\n",
      "Ligue1|12Bet|target.ori|f3|RF DONE!!!\n",
      "\n",
      "****************************************************************************************************\n",
      "Current iterating: Ligue1|12Bet|target.ori|f3|SVM\n",
      "Ligue1|12Bet|target.ori|f3|SVM DONE!!!\n",
      "\n",
      "****************************************************************************************************\n",
      "Current iterating: Ligue1|12Bet|target.ori|f3|KNN\n",
      "Ligue1|12Bet|target.ori|f3|KNN DONE!!!\n",
      "\n",
      "****************************************************************************************************\n",
      "Current iterating: Ligue1|12Bet|target.ori|f3|NN\n"
     ]
    },
    {
     "name": "stderr",
     "output_type": "stream",
     "text": [
      "C:\\Users\\kouda\\Anaconda3\\lib\\site-packages\\sklearn\\metrics\\classification.py:1143: UndefinedMetricWarning: Precision and F-score are ill-defined and being set to 0.0 in labels with no predicted samples.\n",
      "  'precision', 'predicted', average, warn_for)\n",
      "C:\\Users\\kouda\\Anaconda3\\lib\\site-packages\\sklearn\\preprocessing\\data.py:323: DataConversionWarning: Data with input dtype int64, float64 were all converted to float64 by MinMaxScaler.\n",
      "  return self.partial_fit(X, y)\n"
     ]
    },
    {
     "name": "stdout",
     "output_type": "stream",
     "text": [
      "Ligue1|12Bet|target.ori|f3|NN DONE!!!\n",
      "\n",
      "****************************************************************************************************\n",
      "Current iterating: Ligue1|12Bet|target.alt|f4|RF\n",
      "Ligue1|12Bet|target.alt|f4|RF DONE!!!\n",
      "\n",
      "****************************************************************************************************\n",
      "Current iterating: Ligue1|12Bet|target.alt|f4|SVM\n",
      "Ligue1|12Bet|target.alt|f4|SVM DONE!!!\n",
      "\n",
      "****************************************************************************************************\n",
      "Current iterating: Ligue1|12Bet|target.alt|f4|KNN\n",
      "Ligue1|12Bet|target.alt|f4|KNN DONE!!!\n",
      "\n",
      "****************************************************************************************************\n",
      "Current iterating: Ligue1|12Bet|target.alt|f4|NN\n"
     ]
    },
    {
     "name": "stderr",
     "output_type": "stream",
     "text": [
      "C:\\Users\\kouda\\Anaconda3\\lib\\site-packages\\sklearn\\metrics\\classification.py:1143: UndefinedMetricWarning: Precision and F-score are ill-defined and being set to 0.0 in labels with no predicted samples.\n",
      "  'precision', 'predicted', average, warn_for)\n",
      "C:\\Users\\kouda\\Anaconda3\\lib\\site-packages\\sklearn\\preprocessing\\data.py:323: DataConversionWarning: Data with input dtype int64, float64 were all converted to float64 by MinMaxScaler.\n",
      "  return self.partial_fit(X, y)\n"
     ]
    },
    {
     "name": "stdout",
     "output_type": "stream",
     "text": [
      "Ligue1|12Bet|target.alt|f4|NN DONE!!!\n",
      "\n",
      "****************************************************************************************************\n",
      "Current iterating: Ligue1|12Bet|target.alt|f3|RF\n",
      "Ligue1|12Bet|target.alt|f3|RF DONE!!!\n",
      "\n",
      "****************************************************************************************************\n",
      "Current iterating: Ligue1|12Bet|target.alt|f3|SVM\n",
      "Ligue1|12Bet|target.alt|f3|SVM DONE!!!\n",
      "\n",
      "****************************************************************************************************\n",
      "Current iterating: Ligue1|12Bet|target.alt|f3|KNN\n",
      "Ligue1|12Bet|target.alt|f3|KNN DONE!!!\n",
      "\n",
      "****************************************************************************************************\n",
      "Current iterating: Ligue1|12Bet|target.alt|f3|NN\n",
      "Ligue1|12Bet|target.alt|f3|NN DONE!!!\n",
      "\n"
     ]
    },
    {
     "name": "stderr",
     "output_type": "stream",
     "text": [
      "C:\\Users\\kouda\\Anaconda3\\lib\\site-packages\\sklearn\\metrics\\classification.py:1143: UndefinedMetricWarning: Precision and F-score are ill-defined and being set to 0.0 in labels with no predicted samples.\n",
      "  'precision', 'predicted', average, warn_for)\n"
     ]
    }
   ],
   "source": [
    "from sklearn.preprocessing import LabelEncoder\n",
    "from tensorflow.keras.utils import to_categorical\n",
    "from sklearn.model_selection import train_test_split\n",
    "from sklearn.preprocessing import MinMaxScaler\n",
    "\n",
    "from sklearn.ensemble import RandomForestClassifier    # Random Forest (RF) model\n",
    "from sklearn.svm import SVC    # Support Vector Machine (SVM) model\n",
    "from sklearn.neighbors import KNeighborsClassifier    # K Nearest Neighbors (KNN) model\n",
    "from tensorflow.keras.models import Sequential   # Neural Network model\n",
    "from tensorflow.keras.layers import Dense\n",
    "from keras.wrappers.scikit_learn import KerasClassifier\n",
    "\n",
    "from sklearn.model_selection import GridSearchCV\n",
    "from sklearn.metrics import classification_report\n",
    "\n",
    "from numpy.random import seed\n",
    "import pickle\n",
    "\n",
    "# DataFrame to store data distribution for viz\n",
    "distr_df = pd.DataFrame(columns=[\"league\", \"win_odds_s\", \"win_odds_k\", \"draw_odds_s\", \"draw_odds_k\",\n",
    "                                \"lose_odds_s\", \"lose_odds_k\", \"odds_delta_time_s\", \"odds_delta_time_k\"])\n",
    "\n",
    "# Dict to store established model info. before comparison\n",
    "model_estb = {}\n",
    "# Initialize \"model_estb\" structure\n",
    "for league in league_dict[\"league\"]:\n",
    "    model_estb[league] = {}\n",
    "    for company in company_list:\n",
    "        model_estb[league][company] = {}\n",
    "        for tgt in [\"ori\", \"alt\"]:\n",
    "            model_estb[league][company][tgt] = {}\n",
    "            for f in [\"f4\", \"f3\"]:\n",
    "                model_estb[league][company][tgt][f] = {}\n",
    "                for model in [\"rf\", \"svm\", \"knn\", \"nn\"]:\n",
    "                    model_estb[league][company][tgt][f][model] = {}\n",
    "                    \n",
    "                    model_estb[league][company][tgt][f][model][\"precision\"] = {}\n",
    "                    model_estb[league][company][tgt][f][model][\"recall\"] = {}\n",
    "                    model_estb[league][company][tgt][f][model][\"f1-score\"] = {}\n",
    "\n",
    "# Loop through leagues\n",
    "for i in range(len(league_dict[\"league\"])):\n",
    "    \n",
    "    # Read csv data\n",
    "    data = pd.read_csv(f'../data/{league_dict[\"league\"][i]}{csv_concat}') \n",
    "\n",
    "    # Index of \"distr_df\" used to append new data\n",
    "    distr_index = len(distr_df)\n",
    "    # Append league info. to \"distr_index\"\n",
    "    distr_df.loc[distr_index, \"league\"] = league_dict[\"league\"][i]\n",
    "\n",
    "    # Loop through companies\n",
    "    for company in company_list:\n",
    "                       \n",
    "        # Dict to store data divided by company\n",
    "        data_company = {}\n",
    "        # Divide data by company\n",
    "        data_company[\"ori\"] = data.loc[data[\"company\"] == company, :]\n",
    "        # Generate altenative company-divided data with odds time under the limit determined in Tableau\n",
    "        data_company[\"alt\"] = data_company[\"ori\"].loc[data_company[\"ori\"][\"odds_delta_time\"] <=\\\n",
    "            league_dict[\"odds_limit\"][i], :]\n",
    "                       \n",
    "        # .......... Data Distribution .......... #\n",
    "        # Dict for features\n",
    "        feature_dict = {}\n",
    "        # Columns to be considered as features for machine learning models\n",
    "        feature_dict[\"f4\"] = [\"win_odds\", \"draw_odds\", \"lose_odds\", \"odds_delta_time\"]\n",
    "        # \"According to corr analysis in Tableau, \"lose_odds\" might be redundant to serve as feature             \n",
    "        feature_dict[\"f3\"] = [\"win_odds\", \"draw_odds\", \"odds_delta_time\"]\n",
    "        # Determine data distribution for features to be used to generate machine learning (ML) models\n",
    "        for feature in feature_dict[\"f4\"]:\n",
    "            skewness = stats.describe(data_company[\"ori\"][feature])[4]\n",
    "            kurtosis = stats.describe(data_company[\"ori\"][feature])[5]\n",
    "            # Save skewness and kurtosis to \"distr_df\"           \n",
    "            distr_df.loc[distr_index, f\"{feature}_s\"] = skewness\n",
    "            distr_df.loc[distr_index, f\"{feature}_k\"] = kurtosis\n",
    "                       \n",
    "        ########################################################################################\n",
    "        # BASED ON SKEWNESS AND KURTOSIS, THERE IS SELDOM FEATUER THAT IS NORMALLY DISTRIBUTED.#\n",
    "        # WE WILL USE RANDOM FOREST, SVM, KNN, AND NEURAL NETWORK MODELS THEREAFTER            #\n",
    "        ########################################################################################\n",
    "                       \n",
    "        # .......... Prep. for ML .......... #\n",
    "        # Column to be used as label(target) of ML model\n",
    "        for tgt in [\"ori\", \"alt\"]:\n",
    "            target = data_company[tgt][\"result\"]\n",
    "            # Target encoder\n",
    "            t_encoder = LabelEncoder().fit(target.values)\n",
    "            # Transform categorical labels to numerical\n",
    "            target_encd = t_encoder.transform(target.values)\n",
    "            # One-hot encoding labels\n",
    "            target_encd_categ = to_categorical(target_encd)\n",
    "        \n",
    "            # Columns to be used as fetures of ML model\n",
    "            for f in [\"f4\", \"f3\"]:\n",
    "                features = data_company[tgt][feature_dict[f]]\n",
    "                       \n",
    "                # Set up train and test data for all machine learning models to be built in this project\n",
    "                X_train, X_test, y_train, y_test = train_test_split(features, target_encd_categ, random_state =8)\n",
    "                       \n",
    "                # MinMaxScaler is preferred over StandardScaler for scaling features\n",
    "                X_scaler = MinMaxScaler().fit(X_train)\n",
    "\n",
    "                X_train_scaled = X_scaler.transform(X_train)\n",
    "                X_test_scaled = X_scaler.transform(X_test)                               \n",
    "\n",
    "                seed(8)  \n",
    "                       \n",
    "                # Dict to hold all info. with regard to machine learning models (RF, SVM, KNN, NN)\n",
    "                model_dict = {\n",
    "                    \"rf\": {},\n",
    "                    \"svm\": {},\n",
    "                    \"knn\": {},\n",
    "                    \"nn\": {}\n",
    "                }\n",
    "                    \n",
    "                # Classifier for RF, SVM, and KNN models\n",
    "                model_dict[\"rf\"][\"classifier\"] = RandomForestClassifier(random_state=8)\n",
    "                model_dict[\"svm\"][\"classifier\"] = SVC(random_state=8)\n",
    "                model_dict[\"knn\"][\"classifier\"] = KNeighborsClassifier()                       \n",
    "\n",
    "                # Wrap Keras model so it can be used by scikit-learn\n",
    "                model_dict[\"nn\"][\"classifier\"] = KerasClassifier(build_fn=build_classifier, verbose=0)                            \n",
    "                       \n",
    "                # **************************************************************** #\n",
    "                # Use default setting of classifiers for the first round screening #\n",
    "                # For KNN, set k as even numbers that are less than 20             #\n",
    "                # **************************************************************** #\n",
    "                       \n",
    "                # Default parameter for each classifier\n",
    "                model_dict[\"rf\"][\"param_grid\"] = {\n",
    "                    'n_estimators': [10]\n",
    "                }\n",
    "\n",
    "                model_dict[\"svm\"][\"param_grid\"] = {\n",
    "                    'kernel': [\"linear\"]\n",
    "                }\n",
    "\n",
    "                model_dict[\"knn\"][\"param_grid\"] = {\n",
    "                    'n_neighbors': list(range(1, 20, 2))\n",
    "                }\n",
    "\n",
    "\n",
    "                model_dict[\"nn\"][\"param_grid\"] = {\n",
    "                    'optimizer': [\"adam\"]\n",
    "                }                                              \n",
    "                       \n",
    "                # Loop through models             \n",
    "                for model in list(model_dict.keys()):\n",
    "\n",
    "                    # Print current iterating model\n",
    "                    print(\"*\" * 100)\n",
    "                    print(f'Current iterating: {league_dict[\"league\"][i]}|{company}|target.{tgt}|{f}|{model.upper()}')\n",
    "\n",
    "                    # Create GridSearch estimator (unnecessary in this step as we are using default settings)\n",
    "                    # Use it to pass \"k\" to KNN model under model iteration\n",
    "                    model_dict[model][\"estimator\"] = GridSearchCV(\n",
    "                        model_dict[model][\"classifier\"], \n",
    "                        model_dict[model][\"param_grid\"]\n",
    "                    )\n",
    "\n",
    "                    # SVM model can not take One-Hot-encoding label\n",
    "                    if model == \"svm\":\n",
    "                        y_train_im = np.argmax(y_train, axis=-1) # Tempprary y_train and y_test used for model fitting\n",
    "                        y_test_im = np.argmax(y_test, axis=-1) \n",
    "                    else:\n",
    "                        y_train_im = y_train \n",
    "                        y_test_im = y_test    \n",
    "\n",
    "                    # Fit model using grid search estimator\n",
    "                    if model == \"nn\":\n",
    "                        # Shuffling is recommended for neural network model\n",
    "                        model_dict[model][\"estimator\"].fit(X_train_scaled, y_train_im, shuffle=True)\n",
    "                    else:\n",
    "                        model_dict[model][\"estimator\"].fit(X_train_scaled, y_train_im)\n",
    "\n",
    "                    # Inverse labels in \"y_test\"\n",
    "                    # https://stackoverflow.com/questions/54143458/convert-categorical-data-back-to-numbers-using-keras-utils-to-categorical\n",
    "                    y_test_invr = t_encoder.inverse_transform(np.argmax(y_test, axis=-1))\n",
    "\n",
    "                    # Predict \"y_pred\"\n",
    "                    y_pred = model_dict[model][\"estimator\"].predict(X_test_scaled)\n",
    "\n",
    "                    # Inverse labels in \"y_pred\"\n",
    "                    # Note that different from Sequential predict, which always returns the same datatype of \"y_train_im\"\n",
    "                    # \"predict\" for KerasClassifier(\"nn\") returns CLASS prediction for given test data (like \"predict_classes for Sequential\")\n",
    "                    if (model == \"svm\") or (model == \"nn\"):\n",
    "                        y_pred_invr = t_encoder.inverse_transform(y_pred)\n",
    "                    else:\n",
    "                        y_pred_invr = t_encoder.inverse_transform(np.argmax(y_pred, axis=-1))\n",
    "\n",
    "                    # Append inversed \"y_test\" and \"y_pred\"\n",
    "                    model_estb[league_dict[\"league\"][i]][company][tgt][f][model][\"result_test\"] = y_test_invr\n",
    "                    model_estb[league_dict[\"league\"][i]][company][tgt][f][model][\"result_pred\"] = y_pred_invr\n",
    "\n",
    "                    # Scores\n",
    "                    # Note that KerasClassifier also has \"score\" (mean accuracy)\n",
    "                    model_estb[league_dict[\"league\"][i]][company][tgt][f][model][\"training_score\"] =\\\n",
    "                       model_dict[model][\"estimator\"].score(X_train_scaled, y_train_im)\n",
    "                    model_estb[league_dict[\"league\"][i]][company][tgt][f][model][\"testing_score\"] =\\\n",
    "                       model_dict[model][\"estimator\"].score(X_test_scaled, y_test_im)\n",
    "                       \n",
    "                    # Classification report\n",
    "                    classif = classification_report(y_test_invr, y_pred_invr).split(\" \")\n",
    "                    while \"\" in classif:\n",
    "                       classif.remove(\"\")                    \n",
    "                                      \n",
    "                    # Store \"precision\", \"recall\", and \"f1-score\" info for \"DRAW\", \"LOSE\", and \"WIN\"\n",
    "                    model_estb[league_dict[\"league\"][i]][company][tgt][f][model][\"precision\"][\"DRAW\"] = float(classif[5])\n",
    "                    model_estb[league_dict[\"league\"][i]][company][tgt][f][model][\"recall\"][\"DRAW\"] = float(classif[6])\n",
    "                    model_estb[league_dict[\"league\"][i]][company][tgt][f][model][\"f1-score\"][\"DRAW\"] = float(classif[7])\n",
    "                    model_estb[league_dict[\"league\"][i]][company][tgt][f][model][\"precision\"][\"LOSE\"] = float(classif[10])\n",
    "                    model_estb[league_dict[\"league\"][i]][company][tgt][f][model][\"recall\"][\"LOSE\"] = float(classif[11])\n",
    "                    model_estb[league_dict[\"league\"][i]][company][tgt][f][model][\"f1-score\"][\"LOSE\"] = float(classif[12])                          \n",
    "                    model_estb[league_dict[\"league\"][i]][company][tgt][f][model][\"precision\"][\"WIN\"] = float(classif[15])\n",
    "                    model_estb[league_dict[\"league\"][i]][company][tgt][f][model][\"recall\"][\"WIN\"] = float(classif[16])\n",
    "                    model_estb[league_dict[\"league\"][i]][company][tgt][f][model][\"f1-score\"][\"WIN\"] = float(classif[17])                                              \n",
    "                       \n",
    "                    # Store models \n",
    "                    if model == \"nn\":\n",
    "                       model_estb[league_dict[\"league\"][i]][company][tgt][f][model][\"model\"] =\\\n",
    "                           model_dict[model][\"estimator\"].best_estimator_.model\n",
    "                    else:\n",
    "                       model_estb[league_dict[\"league\"][i]][company][tgt][f][model][\"model\"] =\\\n",
    "                           model_dict[model][\"estimator\"]\n",
    "                       \n",
    "                    # Print complete information\n",
    "                    print(f'{league_dict[\"league\"][i]}|{company}|target.{tgt}|{f}|{model.upper()} DONE!!!\\n')                       \n",
    "                                              \n",
    "# Save feature distribution data as csv file\n",
    "distr_df.to_csv(f\"../data/data_for_viz/data_distribution.csv\", index=False, header=True)"
   ]
  },
  {
   "cell_type": "code",
   "execution_count": 61,
   "metadata": {},
   "outputs": [],
   "source": [
    "# Dicts to transfer corresponding data\n",
    "training_score = {}\n",
    "testing_score = {}\n",
    "\n",
    "precision_draw = {}\n",
    "precision_lose = {}\n",
    "precision_win = {}\n",
    "recall_draw = {}\n",
    "recall_lose = {}\n",
    "recall_win = {}\n",
    "f1_draw = {}\n",
    "f1_lose = {}\n",
    "f1_win = {}\n",
    "\n",
    "# Save corresponding data to dicts\n",
    "for league in league_dict[\"league\"]:\n",
    "    for company in company_list:\n",
    "        for tgt in [\"ori\", \"alt\"]:\n",
    "            for f in [\"f4\", \"f3\"]:\n",
    "                for model in list(model_dict.keys()):\n",
    "                    training_score[f'{league}_{company}_{tgt}_{f}_{model}'] =\\\n",
    "                        model_estb[league][company][tgt][f][model][\"training_score\"]\n",
    "                    testing_score[f'{league}_{company}_{tgt}_{f}_{model}'] =\\\n",
    "                        model_estb[league][company][tgt][f][model][\"testing_score\"]\n",
    "\n",
    "                    precision_draw[f'{league}_{company}_{tgt}_{f}_{model}'] =\\\n",
    "                        model_estb[league][company][tgt][f][model][\"precision\"][\"DRAW\"]\n",
    "                    precision_lose[f'{league}_{company}_{tgt}_{f}_{model}'] =\\\n",
    "                        model_estb[league][company][tgt][f][model][\"precision\"][\"LOSE\"]\n",
    "                    precision_win[f'{league}_{company}_{tgt}_{f}_{model}'] =\\\n",
    "                        model_estb[league][company][tgt][f][model][\"precision\"][\"WIN\"] \n",
    "                    recall_draw[f'{league}_{company}_{tgt}_{f}_{model}'] =\\\n",
    "                        model_estb[league][company][tgt][f][model][\"recall\"][\"DRAW\"]\n",
    "                    recall_lose[f'{league}_{company}_{tgt}_{f}_{model}'] =\\\n",
    "                        model_estb[league][company][tgt][f][model][\"recall\"][\"LOSE\"]\n",
    "                    recall_win[f'{league}_{company}_{tgt}_{f}_{model}'] =\\\n",
    "                        model_estb[league][company][tgt][f][model][\"recall\"][\"WIN\"]  \n",
    "                    f1_draw[f'{league}_{company}_{tgt}_{f}_{model}'] =\\\n",
    "                        model_estb[league][company][tgt][f][model][\"f1-score\"][\"DRAW\"]\n",
    "                    f1_lose[f'{league}_{company}_{tgt}_{f}_{model}'] =\\\n",
    "                        model_estb[league][company][tgt][f][model][\"f1-score\"][\"LOSE\"]\n",
    "                    f1_win[f'{league}_{company}_{tgt}_{f}_{model}'] =\\\n",
    "                        model_estb[league][company][tgt][f][model][\"f1-score\"][\"WIN\"]                 "
   ]
  },
  {
   "cell_type": "code",
   "execution_count": 12,
   "metadata": {
    "collapsed": true
   },
   "outputs": [
    {
     "data": {
      "text/html": [
       "<div>\n",
       "<style scoped>\n",
       "    .dataframe tbody tr th:only-of-type {\n",
       "        vertical-align: middle;\n",
       "    }\n",
       "\n",
       "    .dataframe tbody tr th {\n",
       "        vertical-align: top;\n",
       "    }\n",
       "\n",
       "    .dataframe thead th {\n",
       "        text-align: right;\n",
       "    }\n",
       "</style>\n",
       "<table border=\"1\" class=\"dataframe\">\n",
       "  <thead>\n",
       "    <tr style=\"text-align: right;\">\n",
       "      <th></th>\n",
       "      <th>param</th>\n",
       "      <th>training_score</th>\n",
       "      <th>testing_score</th>\n",
       "      <th>precision_draw</th>\n",
       "      <th>precision_lose</th>\n",
       "      <th>precision_win</th>\n",
       "      <th>recall_draw</th>\n",
       "      <th>recall_lose</th>\n",
       "      <th>recall_win</th>\n",
       "      <th>f1_draw</th>\n",
       "      <th>f1_lose</th>\n",
       "      <th>f1_win</th>\n",
       "    </tr>\n",
       "  </thead>\n",
       "  <tbody>\n",
       "    <tr>\n",
       "      <th>0</th>\n",
       "      <td>PremierLeague_Bet365_ori_f4_rf</td>\n",
       "      <td>0.949299</td>\n",
       "      <td>0.540825</td>\n",
       "      <td>0.35</td>\n",
       "      <td>0.64</td>\n",
       "      <td>0.71</td>\n",
       "      <td>0.48</td>\n",
       "      <td>0.61</td>\n",
       "      <td>0.61</td>\n",
       "      <td>0.41</td>\n",
       "      <td>0.62</td>\n",
       "      <td>0.66</td>\n",
       "    </tr>\n",
       "    <tr>\n",
       "      <th>1</th>\n",
       "      <td>PremierLeague_Bet365_ori_f4_svm</td>\n",
       "      <td>0.574973</td>\n",
       "      <td>0.552142</td>\n",
       "      <td>0.00</td>\n",
       "      <td>0.64</td>\n",
       "      <td>0.52</td>\n",
       "      <td>0.00</td>\n",
       "      <td>0.46</td>\n",
       "      <td>0.88</td>\n",
       "      <td>0.00</td>\n",
       "      <td>0.53</td>\n",
       "      <td>0.66</td>\n",
       "    </tr>\n",
       "    <tr>\n",
       "      <th>2</th>\n",
       "      <td>PremierLeague_Bet365_ori_f4_knn</td>\n",
       "      <td>0.999191</td>\n",
       "      <td>0.616006</td>\n",
       "      <td>0.45</td>\n",
       "      <td>0.61</td>\n",
       "      <td>0.70</td>\n",
       "      <td>0.42</td>\n",
       "      <td>0.68</td>\n",
       "      <td>0.66</td>\n",
       "      <td>0.44</td>\n",
       "      <td>0.64</td>\n",
       "      <td>0.68</td>\n",
       "    </tr>\n",
       "    <tr>\n",
       "      <th>3</th>\n",
       "      <td>PremierLeague_Bet365_ori_f4_nn</td>\n",
       "      <td>0.426915</td>\n",
       "      <td>0.425222</td>\n",
       "      <td>0.00</td>\n",
       "      <td>0.26</td>\n",
       "      <td>0.44</td>\n",
       "      <td>0.00</td>\n",
       "      <td>0.05</td>\n",
       "      <td>0.91</td>\n",
       "      <td>0.00</td>\n",
       "      <td>0.08</td>\n",
       "      <td>0.59</td>\n",
       "    </tr>\n",
       "    <tr>\n",
       "      <th>4</th>\n",
       "      <td>PremierLeague_Bet365_ori_f3_rf</td>\n",
       "      <td>0.948490</td>\n",
       "      <td>0.529507</td>\n",
       "      <td>0.34</td>\n",
       "      <td>0.64</td>\n",
       "      <td>0.70</td>\n",
       "      <td>0.47</td>\n",
       "      <td>0.62</td>\n",
       "      <td>0.60</td>\n",
       "      <td>0.39</td>\n",
       "      <td>0.63</td>\n",
       "      <td>0.64</td>\n",
       "    </tr>\n",
       "    <tr>\n",
       "      <th>5</th>\n",
       "      <td>PremierLeague_Bet365_ori_f3_svm</td>\n",
       "      <td>0.574434</td>\n",
       "      <td>0.552142</td>\n",
       "      <td>0.00</td>\n",
       "      <td>0.64</td>\n",
       "      <td>0.52</td>\n",
       "      <td>0.00</td>\n",
       "      <td>0.46</td>\n",
       "      <td>0.88</td>\n",
       "      <td>0.00</td>\n",
       "      <td>0.54</td>\n",
       "      <td>0.66</td>\n",
       "    </tr>\n",
       "    <tr>\n",
       "      <th>6</th>\n",
       "      <td>PremierLeague_Bet365_ori_f3_knn</td>\n",
       "      <td>0.998921</td>\n",
       "      <td>0.619240</td>\n",
       "      <td>0.46</td>\n",
       "      <td>0.61</td>\n",
       "      <td>0.70</td>\n",
       "      <td>0.42</td>\n",
       "      <td>0.68</td>\n",
       "      <td>0.67</td>\n",
       "      <td>0.44</td>\n",
       "      <td>0.64</td>\n",
       "      <td>0.68</td>\n",
       "    </tr>\n",
       "    <tr>\n",
       "      <th>7</th>\n",
       "      <td>PremierLeague_Bet365_ori_f3_nn</td>\n",
       "      <td>0.464401</td>\n",
       "      <td>0.451900</td>\n",
       "      <td>0.00</td>\n",
       "      <td>0.00</td>\n",
       "      <td>0.45</td>\n",
       "      <td>0.00</td>\n",
       "      <td>0.00</td>\n",
       "      <td>1.00</td>\n",
       "      <td>0.00</td>\n",
       "      <td>0.00</td>\n",
       "      <td>0.62</td>\n",
       "    </tr>\n",
       "    <tr>\n",
       "      <th>8</th>\n",
       "      <td>PremierLeague_Bet365_alt_f4_rf</td>\n",
       "      <td>0.951459</td>\n",
       "      <td>0.564186</td>\n",
       "      <td>0.37</td>\n",
       "      <td>0.68</td>\n",
       "      <td>0.73</td>\n",
       "      <td>0.55</td>\n",
       "      <td>0.56</td>\n",
       "      <td>0.67</td>\n",
       "      <td>0.44</td>\n",
       "      <td>0.61</td>\n",
       "      <td>0.70</td>\n",
       "    </tr>\n",
       "    <tr>\n",
       "      <th>9</th>\n",
       "      <td>PremierLeague_Bet365_alt_f4_svm</td>\n",
       "      <td>0.564767</td>\n",
       "      <td>0.581357</td>\n",
       "      <td>0.00</td>\n",
       "      <td>0.66</td>\n",
       "      <td>0.56</td>\n",
       "      <td>0.00</td>\n",
       "      <td>0.45</td>\n",
       "      <td>0.89</td>\n",
       "      <td>0.00</td>\n",
       "      <td>0.53</td>\n",
       "      <td>0.69</td>\n",
       "    </tr>\n",
       "    <tr>\n",
       "      <th>10</th>\n",
       "      <td>PremierLeague_Bet365_alt_f4_knn</td>\n",
       "      <td>0.998909</td>\n",
       "      <td>0.605887</td>\n",
       "      <td>0.41</td>\n",
       "      <td>0.58</td>\n",
       "      <td>0.70</td>\n",
       "      <td>0.39</td>\n",
       "      <td>0.62</td>\n",
       "      <td>0.68</td>\n",
       "      <td>0.40</td>\n",
       "      <td>0.60</td>\n",
       "      <td>0.69</td>\n",
       "    </tr>\n",
       "    <tr>\n",
       "      <th>11</th>\n",
       "      <td>PremierLeague_Bet365_alt_f4_nn</td>\n",
       "      <td>0.486229</td>\n",
       "      <td>0.515944</td>\n",
       "      <td>0.00</td>\n",
       "      <td>0.48</td>\n",
       "      <td>0.53</td>\n",
       "      <td>0.00</td>\n",
       "      <td>0.29</td>\n",
       "      <td>0.86</td>\n",
       "      <td>0.00</td>\n",
       "      <td>0.36</td>\n",
       "      <td>0.65</td>\n",
       "    </tr>\n",
       "    <tr>\n",
       "      <th>12</th>\n",
       "      <td>PremierLeague_Bet365_alt_f3_rf</td>\n",
       "      <td>0.947641</td>\n",
       "      <td>0.531480</td>\n",
       "      <td>0.36</td>\n",
       "      <td>0.65</td>\n",
       "      <td>0.71</td>\n",
       "      <td>0.56</td>\n",
       "      <td>0.57</td>\n",
       "      <td>0.61</td>\n",
       "      <td>0.43</td>\n",
       "      <td>0.61</td>\n",
       "      <td>0.66</td>\n",
       "    </tr>\n",
       "    <tr>\n",
       "      <th>13</th>\n",
       "      <td>PremierLeague_Bet365_alt_f3_svm</td>\n",
       "      <td>0.563949</td>\n",
       "      <td>0.581357</td>\n",
       "      <td>0.00</td>\n",
       "      <td>0.66</td>\n",
       "      <td>0.56</td>\n",
       "      <td>0.00</td>\n",
       "      <td>0.45</td>\n",
       "      <td>0.89</td>\n",
       "      <td>0.00</td>\n",
       "      <td>0.53</td>\n",
       "      <td>0.69</td>\n",
       "    </tr>\n",
       "    <tr>\n",
       "      <th>14</th>\n",
       "      <td>PremierLeague_Bet365_alt_f3_knn</td>\n",
       "      <td>0.998909</td>\n",
       "      <td>0.590352</td>\n",
       "      <td>0.38</td>\n",
       "      <td>0.58</td>\n",
       "      <td>0.69</td>\n",
       "      <td>0.39</td>\n",
       "      <td>0.62</td>\n",
       "      <td>0.65</td>\n",
       "      <td>0.38</td>\n",
       "      <td>0.60</td>\n",
       "      <td>0.67</td>\n",
       "    </tr>\n",
       "    <tr>\n",
       "      <th>15</th>\n",
       "      <td>PremierLeague_Bet365_alt_f3_nn</td>\n",
       "      <td>0.511317</td>\n",
       "      <td>0.537204</td>\n",
       "      <td>0.00</td>\n",
       "      <td>0.58</td>\n",
       "      <td>0.53</td>\n",
       "      <td>0.00</td>\n",
       "      <td>0.28</td>\n",
       "      <td>0.91</td>\n",
       "      <td>0.00</td>\n",
       "      <td>0.37</td>\n",
       "      <td>0.67</td>\n",
       "    </tr>\n",
       "    <tr>\n",
       "      <th>16</th>\n",
       "      <td>PremierLeague_WilliamHill_ori_f4_rf</td>\n",
       "      <td>0.974088</td>\n",
       "      <td>0.788522</td>\n",
       "      <td>0.62</td>\n",
       "      <td>0.86</td>\n",
       "      <td>0.85</td>\n",
       "      <td>0.73</td>\n",
       "      <td>0.81</td>\n",
       "      <td>0.83</td>\n",
       "      <td>0.67</td>\n",
       "      <td>0.84</td>\n",
       "      <td>0.84</td>\n",
       "    </tr>\n",
       "    <tr>\n",
       "      <th>17</th>\n",
       "      <td>PremierLeague_WilliamHill_ori_f4_svm</td>\n",
       "      <td>0.612112</td>\n",
       "      <td>0.615097</td>\n",
       "      <td>0.00</td>\n",
       "      <td>0.75</td>\n",
       "      <td>0.56</td>\n",
       "      <td>0.00</td>\n",
       "      <td>0.58</td>\n",
       "      <td>0.90</td>\n",
       "      <td>0.00</td>\n",
       "      <td>0.65</td>\n",
       "      <td>0.69</td>\n",
       "    </tr>\n",
       "    <tr>\n",
       "      <th>18</th>\n",
       "      <td>PremierLeague_WilliamHill_ori_f4_knn</td>\n",
       "      <td>0.999085</td>\n",
       "      <td>0.795508</td>\n",
       "      <td>0.68</td>\n",
       "      <td>0.83</td>\n",
       "      <td>0.82</td>\n",
       "      <td>0.69</td>\n",
       "      <td>0.81</td>\n",
       "      <td>0.83</td>\n",
       "      <td>0.68</td>\n",
       "      <td>0.82</td>\n",
       "      <td>0.83</td>\n",
       "    </tr>\n",
       "    <tr>\n",
       "      <th>19</th>\n",
       "      <td>PremierLeague_WilliamHill_ori_f4_nn</td>\n",
       "      <td>0.446824</td>\n",
       "      <td>0.450031</td>\n",
       "      <td>0.00</td>\n",
       "      <td>0.00</td>\n",
       "      <td>0.45</td>\n",
       "      <td>0.00</td>\n",
       "      <td>0.00</td>\n",
       "      <td>1.00</td>\n",
       "      <td>0.00</td>\n",
       "      <td>0.00</td>\n",
       "      <td>0.62</td>\n",
       "    </tr>\n",
       "    <tr>\n",
       "      <th>20</th>\n",
       "      <td>PremierLeague_WilliamHill_ori_f3_rf</td>\n",
       "      <td>0.968057</td>\n",
       "      <td>0.760699</td>\n",
       "      <td>0.58</td>\n",
       "      <td>0.84</td>\n",
       "      <td>0.84</td>\n",
       "      <td>0.71</td>\n",
       "      <td>0.78</td>\n",
       "      <td>0.81</td>\n",
       "      <td>0.63</td>\n",
       "      <td>0.81</td>\n",
       "      <td>0.82</td>\n",
       "    </tr>\n",
       "    <tr>\n",
       "      <th>21</th>\n",
       "      <td>PremierLeague_WilliamHill_ori_f3_svm</td>\n",
       "      <td>0.611862</td>\n",
       "      <td>0.614847</td>\n",
       "      <td>0.00</td>\n",
       "      <td>0.75</td>\n",
       "      <td>0.56</td>\n",
       "      <td>0.00</td>\n",
       "      <td>0.57</td>\n",
       "      <td>0.90</td>\n",
       "      <td>0.00</td>\n",
       "      <td>0.65</td>\n",
       "      <td>0.69</td>\n",
       "    </tr>\n",
       "    <tr>\n",
       "      <th>22</th>\n",
       "      <td>PremierLeague_WilliamHill_ori_f3_knn</td>\n",
       "      <td>0.998295</td>\n",
       "      <td>0.771803</td>\n",
       "      <td>0.64</td>\n",
       "      <td>0.80</td>\n",
       "      <td>0.80</td>\n",
       "      <td>0.65</td>\n",
       "      <td>0.79</td>\n",
       "      <td>0.81</td>\n",
       "      <td>0.65</td>\n",
       "      <td>0.79</td>\n",
       "      <td>0.81</td>\n",
       "    </tr>\n",
       "    <tr>\n",
       "      <th>23</th>\n",
       "      <td>PremierLeague_WilliamHill_ori_f3_nn</td>\n",
       "      <td>0.598802</td>\n",
       "      <td>0.596382</td>\n",
       "      <td>0.00</td>\n",
       "      <td>0.77</td>\n",
       "      <td>0.54</td>\n",
       "      <td>0.00</td>\n",
       "      <td>0.49</td>\n",
       "      <td>0.93</td>\n",
       "      <td>0.00</td>\n",
       "      <td>0.60</td>\n",
       "      <td>0.69</td>\n",
       "    </tr>\n",
       "    <tr>\n",
       "      <th>24</th>\n",
       "      <td>PremierLeague_WilliamHill_alt_f4_rf</td>\n",
       "      <td>0.975292</td>\n",
       "      <td>0.790946</td>\n",
       "      <td>0.64</td>\n",
       "      <td>0.86</td>\n",
       "      <td>0.86</td>\n",
       "      <td>0.76</td>\n",
       "      <td>0.81</td>\n",
       "      <td>0.83</td>\n",
       "      <td>0.69</td>\n",
       "      <td>0.83</td>\n",
       "      <td>0.84</td>\n",
       "    </tr>\n",
       "    <tr>\n",
       "      <th>25</th>\n",
       "      <td>PremierLeague_WilliamHill_alt_f4_svm</td>\n",
       "      <td>0.613153</td>\n",
       "      <td>0.609982</td>\n",
       "      <td>0.00</td>\n",
       "      <td>0.74</td>\n",
       "      <td>0.56</td>\n",
       "      <td>0.00</td>\n",
       "      <td>0.58</td>\n",
       "      <td>0.89</td>\n",
       "      <td>0.00</td>\n",
       "      <td>0.65</td>\n",
       "      <td>0.69</td>\n",
       "    </tr>\n",
       "    <tr>\n",
       "      <th>26</th>\n",
       "      <td>PremierLeague_WilliamHill_alt_f4_knn</td>\n",
       "      <td>0.999164</td>\n",
       "      <td>0.790569</td>\n",
       "      <td>0.68</td>\n",
       "      <td>0.81</td>\n",
       "      <td>0.82</td>\n",
       "      <td>0.67</td>\n",
       "      <td>0.82</td>\n",
       "      <td>0.82</td>\n",
       "      <td>0.67</td>\n",
       "      <td>0.81</td>\n",
       "      <td>0.82</td>\n",
       "    </tr>\n",
       "    <tr>\n",
       "      <th>27</th>\n",
       "      <td>PremierLeague_WilliamHill_alt_f4_nn</td>\n",
       "      <td>0.497262</td>\n",
       "      <td>0.508779</td>\n",
       "      <td>0.00</td>\n",
       "      <td>0.63</td>\n",
       "      <td>0.49</td>\n",
       "      <td>0.00</td>\n",
       "      <td>0.24</td>\n",
       "      <td>0.94</td>\n",
       "      <td>0.00</td>\n",
       "      <td>0.34</td>\n",
       "      <td>0.64</td>\n",
       "    </tr>\n",
       "    <tr>\n",
       "      <th>28</th>\n",
       "      <td>PremierLeague_WilliamHill_alt_f3_rf</td>\n",
       "      <td>0.968059</td>\n",
       "      <td>0.751317</td>\n",
       "      <td>0.58</td>\n",
       "      <td>0.83</td>\n",
       "      <td>0.84</td>\n",
       "      <td>0.70</td>\n",
       "      <td>0.79</td>\n",
       "      <td>0.80</td>\n",
       "      <td>0.63</td>\n",
       "      <td>0.81</td>\n",
       "      <td>0.82</td>\n",
       "    </tr>\n",
       "    <tr>\n",
       "      <th>29</th>\n",
       "      <td>PremierLeague_WilliamHill_alt_f3_svm</td>\n",
       "      <td>0.613069</td>\n",
       "      <td>0.609481</td>\n",
       "      <td>0.00</td>\n",
       "      <td>0.74</td>\n",
       "      <td>0.56</td>\n",
       "      <td>0.00</td>\n",
       "      <td>0.57</td>\n",
       "      <td>0.89</td>\n",
       "      <td>0.00</td>\n",
       "      <td>0.65</td>\n",
       "      <td>0.69</td>\n",
       "    </tr>\n",
       "    <tr>\n",
       "      <th>...</th>\n",
       "      <td>...</td>\n",
       "      <td>...</td>\n",
       "      <td>...</td>\n",
       "      <td>...</td>\n",
       "      <td>...</td>\n",
       "      <td>...</td>\n",
       "      <td>...</td>\n",
       "      <td>...</td>\n",
       "      <td>...</td>\n",
       "      <td>...</td>\n",
       "      <td>...</td>\n",
       "      <td>...</td>\n",
       "    </tr>\n",
       "    <tr>\n",
       "      <th>354</th>\n",
       "      <td>Ligue1_Bwin_ori_f4_knn</td>\n",
       "      <td>0.999501</td>\n",
       "      <td>0.459581</td>\n",
       "      <td>0.34</td>\n",
       "      <td>0.43</td>\n",
       "      <td>0.57</td>\n",
       "      <td>0.36</td>\n",
       "      <td>0.44</td>\n",
       "      <td>0.54</td>\n",
       "      <td>0.35</td>\n",
       "      <td>0.43</td>\n",
       "      <td>0.55</td>\n",
       "    </tr>\n",
       "    <tr>\n",
       "      <th>355</th>\n",
       "      <td>Ligue1_Bwin_ori_f4_nn</td>\n",
       "      <td>0.477284</td>\n",
       "      <td>0.491018</td>\n",
       "      <td>0.00</td>\n",
       "      <td>0.53</td>\n",
       "      <td>0.48</td>\n",
       "      <td>0.00</td>\n",
       "      <td>0.34</td>\n",
       "      <td>0.91</td>\n",
       "      <td>0.00</td>\n",
       "      <td>0.41</td>\n",
       "      <td>0.63</td>\n",
       "    </tr>\n",
       "    <tr>\n",
       "      <th>356</th>\n",
       "      <td>Ligue1_Bwin_ori_f3_rf</td>\n",
       "      <td>0.922117</td>\n",
       "      <td>0.356287</td>\n",
       "      <td>0.33</td>\n",
       "      <td>0.49</td>\n",
       "      <td>0.60</td>\n",
       "      <td>0.53</td>\n",
       "      <td>0.32</td>\n",
       "      <td>0.49</td>\n",
       "      <td>0.40</td>\n",
       "      <td>0.39</td>\n",
       "      <td>0.54</td>\n",
       "    </tr>\n",
       "    <tr>\n",
       "      <th>357</th>\n",
       "      <td>Ligue1_Bwin_ori_f3_svm</td>\n",
       "      <td>0.459311</td>\n",
       "      <td>0.479042</td>\n",
       "      <td>0.00</td>\n",
       "      <td>0.89</td>\n",
       "      <td>0.46</td>\n",
       "      <td>0.00</td>\n",
       "      <td>0.17</td>\n",
       "      <td>0.99</td>\n",
       "      <td>0.00</td>\n",
       "      <td>0.29</td>\n",
       "      <td>0.62</td>\n",
       "    </tr>\n",
       "    <tr>\n",
       "      <th>358</th>\n",
       "      <td>Ligue1_Bwin_ori_f3_knn</td>\n",
       "      <td>0.999501</td>\n",
       "      <td>0.458084</td>\n",
       "      <td>0.35</td>\n",
       "      <td>0.41</td>\n",
       "      <td>0.56</td>\n",
       "      <td>0.35</td>\n",
       "      <td>0.42</td>\n",
       "      <td>0.56</td>\n",
       "      <td>0.35</td>\n",
       "      <td>0.42</td>\n",
       "      <td>0.56</td>\n",
       "    </tr>\n",
       "    <tr>\n",
       "      <th>359</th>\n",
       "      <td>Ligue1_Bwin_ori_f3_nn</td>\n",
       "      <td>0.432351</td>\n",
       "      <td>0.434132</td>\n",
       "      <td>0.00</td>\n",
       "      <td>0.00</td>\n",
       "      <td>0.43</td>\n",
       "      <td>0.00</td>\n",
       "      <td>0.00</td>\n",
       "      <td>1.00</td>\n",
       "      <td>0.00</td>\n",
       "      <td>0.00</td>\n",
       "      <td>0.61</td>\n",
       "    </tr>\n",
       "    <tr>\n",
       "      <th>360</th>\n",
       "      <td>Ligue1_Bwin_alt_f4_rf</td>\n",
       "      <td>0.929260</td>\n",
       "      <td>0.341894</td>\n",
       "      <td>0.33</td>\n",
       "      <td>0.44</td>\n",
       "      <td>0.56</td>\n",
       "      <td>0.52</td>\n",
       "      <td>0.32</td>\n",
       "      <td>0.45</td>\n",
       "      <td>0.41</td>\n",
       "      <td>0.37</td>\n",
       "      <td>0.50</td>\n",
       "    </tr>\n",
       "    <tr>\n",
       "      <th>361</th>\n",
       "      <td>Ligue1_Bwin_alt_f4_svm</td>\n",
       "      <td>0.464630</td>\n",
       "      <td>0.475120</td>\n",
       "      <td>0.00</td>\n",
       "      <td>0.89</td>\n",
       "      <td>0.46</td>\n",
       "      <td>0.00</td>\n",
       "      <td>0.15</td>\n",
       "      <td>1.00</td>\n",
       "      <td>0.00</td>\n",
       "      <td>0.25</td>\n",
       "      <td>0.63</td>\n",
       "    </tr>\n",
       "    <tr>\n",
       "      <th>362</th>\n",
       "      <td>Ligue1_Bwin_alt_f4_knn</td>\n",
       "      <td>1.000000</td>\n",
       "      <td>0.441413</td>\n",
       "      <td>0.32</td>\n",
       "      <td>0.39</td>\n",
       "      <td>0.55</td>\n",
       "      <td>0.31</td>\n",
       "      <td>0.38</td>\n",
       "      <td>0.57</td>\n",
       "      <td>0.31</td>\n",
       "      <td>0.38</td>\n",
       "      <td>0.56</td>\n",
       "    </tr>\n",
       "    <tr>\n",
       "      <th>363</th>\n",
       "      <td>Ligue1_Bwin_alt_f4_nn</td>\n",
       "      <td>0.409968</td>\n",
       "      <td>0.398074</td>\n",
       "      <td>0.00</td>\n",
       "      <td>0.32</td>\n",
       "      <td>0.46</td>\n",
       "      <td>0.00</td>\n",
       "      <td>0.51</td>\n",
       "      <td>0.59</td>\n",
       "      <td>0.00</td>\n",
       "      <td>0.39</td>\n",
       "      <td>0.52</td>\n",
       "    </tr>\n",
       "    <tr>\n",
       "      <th>364</th>\n",
       "      <td>Ligue1_Bwin_alt_f3_rf</td>\n",
       "      <td>0.927653</td>\n",
       "      <td>0.345104</td>\n",
       "      <td>0.34</td>\n",
       "      <td>0.44</td>\n",
       "      <td>0.56</td>\n",
       "      <td>0.53</td>\n",
       "      <td>0.30</td>\n",
       "      <td>0.46</td>\n",
       "      <td>0.41</td>\n",
       "      <td>0.36</td>\n",
       "      <td>0.51</td>\n",
       "    </tr>\n",
       "    <tr>\n",
       "      <th>365</th>\n",
       "      <td>Ligue1_Bwin_alt_f3_svm</td>\n",
       "      <td>0.464094</td>\n",
       "      <td>0.475120</td>\n",
       "      <td>0.00</td>\n",
       "      <td>0.89</td>\n",
       "      <td>0.46</td>\n",
       "      <td>0.00</td>\n",
       "      <td>0.15</td>\n",
       "      <td>1.00</td>\n",
       "      <td>0.00</td>\n",
       "      <td>0.25</td>\n",
       "      <td>0.63</td>\n",
       "    </tr>\n",
       "    <tr>\n",
       "      <th>366</th>\n",
       "      <td>Ligue1_Bwin_alt_f3_knn</td>\n",
       "      <td>0.999464</td>\n",
       "      <td>0.443018</td>\n",
       "      <td>0.31</td>\n",
       "      <td>0.40</td>\n",
       "      <td>0.55</td>\n",
       "      <td>0.30</td>\n",
       "      <td>0.40</td>\n",
       "      <td>0.57</td>\n",
       "      <td>0.30</td>\n",
       "      <td>0.40</td>\n",
       "      <td>0.56</td>\n",
       "    </tr>\n",
       "    <tr>\n",
       "      <th>367</th>\n",
       "      <td>Ligue1_Bwin_alt_f3_nn</td>\n",
       "      <td>0.387460</td>\n",
       "      <td>0.375602</td>\n",
       "      <td>0.00</td>\n",
       "      <td>0.30</td>\n",
       "      <td>0.43</td>\n",
       "      <td>0.00</td>\n",
       "      <td>0.43</td>\n",
       "      <td>0.59</td>\n",
       "      <td>0.00</td>\n",
       "      <td>0.35</td>\n",
       "      <td>0.49</td>\n",
       "    </tr>\n",
       "    <tr>\n",
       "      <th>368</th>\n",
       "      <td>Ligue1_12Bet_ori_f4_rf</td>\n",
       "      <td>0.972170</td>\n",
       "      <td>0.733164</td>\n",
       "      <td>0.64</td>\n",
       "      <td>0.82</td>\n",
       "      <td>0.86</td>\n",
       "      <td>0.82</td>\n",
       "      <td>0.69</td>\n",
       "      <td>0.79</td>\n",
       "      <td>0.72</td>\n",
       "      <td>0.75</td>\n",
       "      <td>0.82</td>\n",
       "    </tr>\n",
       "    <tr>\n",
       "      <th>369</th>\n",
       "      <td>Ligue1_12Bet_ori_f4_svm</td>\n",
       "      <td>0.498088</td>\n",
       "      <td>0.503534</td>\n",
       "      <td>0.39</td>\n",
       "      <td>0.67</td>\n",
       "      <td>0.48</td>\n",
       "      <td>0.00</td>\n",
       "      <td>0.26</td>\n",
       "      <td>0.96</td>\n",
       "      <td>0.01</td>\n",
       "      <td>0.37</td>\n",
       "      <td>0.64</td>\n",
       "    </tr>\n",
       "    <tr>\n",
       "      <th>370</th>\n",
       "      <td>Ligue1_12Bet_ori_f4_knn</td>\n",
       "      <td>0.999289</td>\n",
       "      <td>0.782104</td>\n",
       "      <td>0.75</td>\n",
       "      <td>0.75</td>\n",
       "      <td>0.83</td>\n",
       "      <td>0.73</td>\n",
       "      <td>0.77</td>\n",
       "      <td>0.82</td>\n",
       "      <td>0.74</td>\n",
       "      <td>0.76</td>\n",
       "      <td>0.82</td>\n",
       "    </tr>\n",
       "    <tr>\n",
       "      <th>371</th>\n",
       "      <td>Ligue1_12Bet_ori_f4_nn</td>\n",
       "      <td>0.495866</td>\n",
       "      <td>0.500333</td>\n",
       "      <td>0.00</td>\n",
       "      <td>0.64</td>\n",
       "      <td>0.48</td>\n",
       "      <td>0.00</td>\n",
       "      <td>0.28</td>\n",
       "      <td>0.95</td>\n",
       "      <td>0.00</td>\n",
       "      <td>0.39</td>\n",
       "      <td>0.64</td>\n",
       "    </tr>\n",
       "    <tr>\n",
       "      <th>372</th>\n",
       "      <td>Ligue1_12Bet_ori_f3_rf</td>\n",
       "      <td>0.971904</td>\n",
       "      <td>0.693692</td>\n",
       "      <td>0.59</td>\n",
       "      <td>0.81</td>\n",
       "      <td>0.84</td>\n",
       "      <td>0.80</td>\n",
       "      <td>0.65</td>\n",
       "      <td>0.77</td>\n",
       "      <td>0.68</td>\n",
       "      <td>0.72</td>\n",
       "      <td>0.80</td>\n",
       "    </tr>\n",
       "    <tr>\n",
       "      <th>373</th>\n",
       "      <td>Ligue1_12Bet_ori_f3_svm</td>\n",
       "      <td>0.495510</td>\n",
       "      <td>0.500733</td>\n",
       "      <td>0.05</td>\n",
       "      <td>0.68</td>\n",
       "      <td>0.48</td>\n",
       "      <td>0.00</td>\n",
       "      <td>0.25</td>\n",
       "      <td>0.96</td>\n",
       "      <td>0.00</td>\n",
       "      <td>0.36</td>\n",
       "      <td>0.64</td>\n",
       "    </tr>\n",
       "    <tr>\n",
       "      <th>374</th>\n",
       "      <td>Ligue1_12Bet_ori_f3_knn</td>\n",
       "      <td>0.997644</td>\n",
       "      <td>0.771836</td>\n",
       "      <td>0.73</td>\n",
       "      <td>0.74</td>\n",
       "      <td>0.82</td>\n",
       "      <td>0.72</td>\n",
       "      <td>0.75</td>\n",
       "      <td>0.82</td>\n",
       "      <td>0.72</td>\n",
       "      <td>0.75</td>\n",
       "      <td>0.82</td>\n",
       "    </tr>\n",
       "    <tr>\n",
       "      <th>375</th>\n",
       "      <td>Ligue1_12Bet_ori_f3_nn</td>\n",
       "      <td>0.497999</td>\n",
       "      <td>0.504334</td>\n",
       "      <td>0.00</td>\n",
       "      <td>0.73</td>\n",
       "      <td>0.48</td>\n",
       "      <td>0.00</td>\n",
       "      <td>0.23</td>\n",
       "      <td>0.99</td>\n",
       "      <td>0.00</td>\n",
       "      <td>0.35</td>\n",
       "      <td>0.65</td>\n",
       "    </tr>\n",
       "    <tr>\n",
       "      <th>376</th>\n",
       "      <td>Ligue1_12Bet_alt_f4_rf</td>\n",
       "      <td>0.974489</td>\n",
       "      <td>0.736382</td>\n",
       "      <td>0.65</td>\n",
       "      <td>0.82</td>\n",
       "      <td>0.87</td>\n",
       "      <td>0.81</td>\n",
       "      <td>0.72</td>\n",
       "      <td>0.80</td>\n",
       "      <td>0.72</td>\n",
       "      <td>0.76</td>\n",
       "      <td>0.83</td>\n",
       "    </tr>\n",
       "    <tr>\n",
       "      <th>377</th>\n",
       "      <td>Ligue1_12Bet_alt_f4_svm</td>\n",
       "      <td>0.500807</td>\n",
       "      <td>0.503161</td>\n",
       "      <td>0.29</td>\n",
       "      <td>0.65</td>\n",
       "      <td>0.49</td>\n",
       "      <td>0.00</td>\n",
       "      <td>0.25</td>\n",
       "      <td>0.97</td>\n",
       "      <td>0.00</td>\n",
       "      <td>0.36</td>\n",
       "      <td>0.65</td>\n",
       "    </tr>\n",
       "    <tr>\n",
       "      <th>378</th>\n",
       "      <td>Ligue1_12Bet_alt_f4_knn</td>\n",
       "      <td>0.999148</td>\n",
       "      <td>0.784667</td>\n",
       "      <td>0.74</td>\n",
       "      <td>0.76</td>\n",
       "      <td>0.83</td>\n",
       "      <td>0.73</td>\n",
       "      <td>0.78</td>\n",
       "      <td>0.82</td>\n",
       "      <td>0.73</td>\n",
       "      <td>0.77</td>\n",
       "      <td>0.83</td>\n",
       "    </tr>\n",
       "    <tr>\n",
       "      <th>379</th>\n",
       "      <td>Ligue1_12Bet_alt_f4_nn</td>\n",
       "      <td>0.499552</td>\n",
       "      <td>0.500874</td>\n",
       "      <td>0.00</td>\n",
       "      <td>0.58</td>\n",
       "      <td>0.49</td>\n",
       "      <td>0.00</td>\n",
       "      <td>0.30</td>\n",
       "      <td>0.93</td>\n",
       "      <td>0.00</td>\n",
       "      <td>0.39</td>\n",
       "      <td>0.64</td>\n",
       "    </tr>\n",
       "    <tr>\n",
       "      <th>380</th>\n",
       "      <td>Ligue1_12Bet_alt_f3_rf</td>\n",
       "      <td>0.970499</td>\n",
       "      <td>0.699395</td>\n",
       "      <td>0.60</td>\n",
       "      <td>0.81</td>\n",
       "      <td>0.86</td>\n",
       "      <td>0.81</td>\n",
       "      <td>0.67</td>\n",
       "      <td>0.77</td>\n",
       "      <td>0.69</td>\n",
       "      <td>0.73</td>\n",
       "      <td>0.81</td>\n",
       "    </tr>\n",
       "    <tr>\n",
       "      <th>381</th>\n",
       "      <td>Ligue1_12Bet_alt_f3_svm</td>\n",
       "      <td>0.498251</td>\n",
       "      <td>0.501009</td>\n",
       "      <td>0.12</td>\n",
       "      <td>0.66</td>\n",
       "      <td>0.49</td>\n",
       "      <td>0.00</td>\n",
       "      <td>0.24</td>\n",
       "      <td>0.96</td>\n",
       "      <td>0.00</td>\n",
       "      <td>0.35</td>\n",
       "      <td>0.65</td>\n",
       "    </tr>\n",
       "    <tr>\n",
       "      <th>382</th>\n",
       "      <td>Ligue1_12Bet_alt_f3_knn</td>\n",
       "      <td>0.997444</td>\n",
       "      <td>0.772831</td>\n",
       "      <td>0.74</td>\n",
       "      <td>0.74</td>\n",
       "      <td>0.82</td>\n",
       "      <td>0.72</td>\n",
       "      <td>0.75</td>\n",
       "      <td>0.82</td>\n",
       "      <td>0.73</td>\n",
       "      <td>0.75</td>\n",
       "      <td>0.82</td>\n",
       "    </tr>\n",
       "    <tr>\n",
       "      <th>383</th>\n",
       "      <td>Ligue1_12Bet_alt_f3_nn</td>\n",
       "      <td>0.444898</td>\n",
       "      <td>0.450437</td>\n",
       "      <td>0.00</td>\n",
       "      <td>0.00</td>\n",
       "      <td>0.45</td>\n",
       "      <td>0.00</td>\n",
       "      <td>0.00</td>\n",
       "      <td>1.00</td>\n",
       "      <td>0.00</td>\n",
       "      <td>0.00</td>\n",
       "      <td>0.62</td>\n",
       "    </tr>\n",
       "  </tbody>\n",
       "</table>\n",
       "<p>384 rows × 12 columns</p>\n",
       "</div>"
      ],
      "text/plain": [
       "                                    param  training_score  testing_score  \\\n",
       "0          PremierLeague_Bet365_ori_f4_rf        0.949299       0.540825   \n",
       "1         PremierLeague_Bet365_ori_f4_svm        0.574973       0.552142   \n",
       "2         PremierLeague_Bet365_ori_f4_knn        0.999191       0.616006   \n",
       "3          PremierLeague_Bet365_ori_f4_nn        0.426915       0.425222   \n",
       "4          PremierLeague_Bet365_ori_f3_rf        0.948490       0.529507   \n",
       "5         PremierLeague_Bet365_ori_f3_svm        0.574434       0.552142   \n",
       "6         PremierLeague_Bet365_ori_f3_knn        0.998921       0.619240   \n",
       "7          PremierLeague_Bet365_ori_f3_nn        0.464401       0.451900   \n",
       "8          PremierLeague_Bet365_alt_f4_rf        0.951459       0.564186   \n",
       "9         PremierLeague_Bet365_alt_f4_svm        0.564767       0.581357   \n",
       "10        PremierLeague_Bet365_alt_f4_knn        0.998909       0.605887   \n",
       "11         PremierLeague_Bet365_alt_f4_nn        0.486229       0.515944   \n",
       "12         PremierLeague_Bet365_alt_f3_rf        0.947641       0.531480   \n",
       "13        PremierLeague_Bet365_alt_f3_svm        0.563949       0.581357   \n",
       "14        PremierLeague_Bet365_alt_f3_knn        0.998909       0.590352   \n",
       "15         PremierLeague_Bet365_alt_f3_nn        0.511317       0.537204   \n",
       "16    PremierLeague_WilliamHill_ori_f4_rf        0.974088       0.788522   \n",
       "17   PremierLeague_WilliamHill_ori_f4_svm        0.612112       0.615097   \n",
       "18   PremierLeague_WilliamHill_ori_f4_knn        0.999085       0.795508   \n",
       "19    PremierLeague_WilliamHill_ori_f4_nn        0.446824       0.450031   \n",
       "20    PremierLeague_WilliamHill_ori_f3_rf        0.968057       0.760699   \n",
       "21   PremierLeague_WilliamHill_ori_f3_svm        0.611862       0.614847   \n",
       "22   PremierLeague_WilliamHill_ori_f3_knn        0.998295       0.771803   \n",
       "23    PremierLeague_WilliamHill_ori_f3_nn        0.598802       0.596382   \n",
       "24    PremierLeague_WilliamHill_alt_f4_rf        0.975292       0.790946   \n",
       "25   PremierLeague_WilliamHill_alt_f4_svm        0.613153       0.609982   \n",
       "26   PremierLeague_WilliamHill_alt_f4_knn        0.999164       0.790569   \n",
       "27    PremierLeague_WilliamHill_alt_f4_nn        0.497262       0.508779   \n",
       "28    PremierLeague_WilliamHill_alt_f3_rf        0.968059       0.751317   \n",
       "29   PremierLeague_WilliamHill_alt_f3_svm        0.613069       0.609481   \n",
       "..                                    ...             ...            ...   \n",
       "354                Ligue1_Bwin_ori_f4_knn        0.999501       0.459581   \n",
       "355                 Ligue1_Bwin_ori_f4_nn        0.477284       0.491018   \n",
       "356                 Ligue1_Bwin_ori_f3_rf        0.922117       0.356287   \n",
       "357                Ligue1_Bwin_ori_f3_svm        0.459311       0.479042   \n",
       "358                Ligue1_Bwin_ori_f3_knn        0.999501       0.458084   \n",
       "359                 Ligue1_Bwin_ori_f3_nn        0.432351       0.434132   \n",
       "360                 Ligue1_Bwin_alt_f4_rf        0.929260       0.341894   \n",
       "361                Ligue1_Bwin_alt_f4_svm        0.464630       0.475120   \n",
       "362                Ligue1_Bwin_alt_f4_knn        1.000000       0.441413   \n",
       "363                 Ligue1_Bwin_alt_f4_nn        0.409968       0.398074   \n",
       "364                 Ligue1_Bwin_alt_f3_rf        0.927653       0.345104   \n",
       "365                Ligue1_Bwin_alt_f3_svm        0.464094       0.475120   \n",
       "366                Ligue1_Bwin_alt_f3_knn        0.999464       0.443018   \n",
       "367                 Ligue1_Bwin_alt_f3_nn        0.387460       0.375602   \n",
       "368                Ligue1_12Bet_ori_f4_rf        0.972170       0.733164   \n",
       "369               Ligue1_12Bet_ori_f4_svm        0.498088       0.503534   \n",
       "370               Ligue1_12Bet_ori_f4_knn        0.999289       0.782104   \n",
       "371                Ligue1_12Bet_ori_f4_nn        0.495866       0.500333   \n",
       "372                Ligue1_12Bet_ori_f3_rf        0.971904       0.693692   \n",
       "373               Ligue1_12Bet_ori_f3_svm        0.495510       0.500733   \n",
       "374               Ligue1_12Bet_ori_f3_knn        0.997644       0.771836   \n",
       "375                Ligue1_12Bet_ori_f3_nn        0.497999       0.504334   \n",
       "376                Ligue1_12Bet_alt_f4_rf        0.974489       0.736382   \n",
       "377               Ligue1_12Bet_alt_f4_svm        0.500807       0.503161   \n",
       "378               Ligue1_12Bet_alt_f4_knn        0.999148       0.784667   \n",
       "379                Ligue1_12Bet_alt_f4_nn        0.499552       0.500874   \n",
       "380                Ligue1_12Bet_alt_f3_rf        0.970499       0.699395   \n",
       "381               Ligue1_12Bet_alt_f3_svm        0.498251       0.501009   \n",
       "382               Ligue1_12Bet_alt_f3_knn        0.997444       0.772831   \n",
       "383                Ligue1_12Bet_alt_f3_nn        0.444898       0.450437   \n",
       "\n",
       "     precision_draw  precision_lose  precision_win  recall_draw  recall_lose  \\\n",
       "0              0.35            0.64           0.71         0.48         0.61   \n",
       "1              0.00            0.64           0.52         0.00         0.46   \n",
       "2              0.45            0.61           0.70         0.42         0.68   \n",
       "3              0.00            0.26           0.44         0.00         0.05   \n",
       "4              0.34            0.64           0.70         0.47         0.62   \n",
       "5              0.00            0.64           0.52         0.00         0.46   \n",
       "6              0.46            0.61           0.70         0.42         0.68   \n",
       "7              0.00            0.00           0.45         0.00         0.00   \n",
       "8              0.37            0.68           0.73         0.55         0.56   \n",
       "9              0.00            0.66           0.56         0.00         0.45   \n",
       "10             0.41            0.58           0.70         0.39         0.62   \n",
       "11             0.00            0.48           0.53         0.00         0.29   \n",
       "12             0.36            0.65           0.71         0.56         0.57   \n",
       "13             0.00            0.66           0.56         0.00         0.45   \n",
       "14             0.38            0.58           0.69         0.39         0.62   \n",
       "15             0.00            0.58           0.53         0.00         0.28   \n",
       "16             0.62            0.86           0.85         0.73         0.81   \n",
       "17             0.00            0.75           0.56         0.00         0.58   \n",
       "18             0.68            0.83           0.82         0.69         0.81   \n",
       "19             0.00            0.00           0.45         0.00         0.00   \n",
       "20             0.58            0.84           0.84         0.71         0.78   \n",
       "21             0.00            0.75           0.56         0.00         0.57   \n",
       "22             0.64            0.80           0.80         0.65         0.79   \n",
       "23             0.00            0.77           0.54         0.00         0.49   \n",
       "24             0.64            0.86           0.86         0.76         0.81   \n",
       "25             0.00            0.74           0.56         0.00         0.58   \n",
       "26             0.68            0.81           0.82         0.67         0.82   \n",
       "27             0.00            0.63           0.49         0.00         0.24   \n",
       "28             0.58            0.83           0.84         0.70         0.79   \n",
       "29             0.00            0.74           0.56         0.00         0.57   \n",
       "..              ...             ...            ...          ...          ...   \n",
       "354            0.34            0.43           0.57         0.36         0.44   \n",
       "355            0.00            0.53           0.48         0.00         0.34   \n",
       "356            0.33            0.49           0.60         0.53         0.32   \n",
       "357            0.00            0.89           0.46         0.00         0.17   \n",
       "358            0.35            0.41           0.56         0.35         0.42   \n",
       "359            0.00            0.00           0.43         0.00         0.00   \n",
       "360            0.33            0.44           0.56         0.52         0.32   \n",
       "361            0.00            0.89           0.46         0.00         0.15   \n",
       "362            0.32            0.39           0.55         0.31         0.38   \n",
       "363            0.00            0.32           0.46         0.00         0.51   \n",
       "364            0.34            0.44           0.56         0.53         0.30   \n",
       "365            0.00            0.89           0.46         0.00         0.15   \n",
       "366            0.31            0.40           0.55         0.30         0.40   \n",
       "367            0.00            0.30           0.43         0.00         0.43   \n",
       "368            0.64            0.82           0.86         0.82         0.69   \n",
       "369            0.39            0.67           0.48         0.00         0.26   \n",
       "370            0.75            0.75           0.83         0.73         0.77   \n",
       "371            0.00            0.64           0.48         0.00         0.28   \n",
       "372            0.59            0.81           0.84         0.80         0.65   \n",
       "373            0.05            0.68           0.48         0.00         0.25   \n",
       "374            0.73            0.74           0.82         0.72         0.75   \n",
       "375            0.00            0.73           0.48         0.00         0.23   \n",
       "376            0.65            0.82           0.87         0.81         0.72   \n",
       "377            0.29            0.65           0.49         0.00         0.25   \n",
       "378            0.74            0.76           0.83         0.73         0.78   \n",
       "379            0.00            0.58           0.49         0.00         0.30   \n",
       "380            0.60            0.81           0.86         0.81         0.67   \n",
       "381            0.12            0.66           0.49         0.00         0.24   \n",
       "382            0.74            0.74           0.82         0.72         0.75   \n",
       "383            0.00            0.00           0.45         0.00         0.00   \n",
       "\n",
       "     recall_win  f1_draw  f1_lose  f1_win  \n",
       "0          0.61     0.41     0.62    0.66  \n",
       "1          0.88     0.00     0.53    0.66  \n",
       "2          0.66     0.44     0.64    0.68  \n",
       "3          0.91     0.00     0.08    0.59  \n",
       "4          0.60     0.39     0.63    0.64  \n",
       "5          0.88     0.00     0.54    0.66  \n",
       "6          0.67     0.44     0.64    0.68  \n",
       "7          1.00     0.00     0.00    0.62  \n",
       "8          0.67     0.44     0.61    0.70  \n",
       "9          0.89     0.00     0.53    0.69  \n",
       "10         0.68     0.40     0.60    0.69  \n",
       "11         0.86     0.00     0.36    0.65  \n",
       "12         0.61     0.43     0.61    0.66  \n",
       "13         0.89     0.00     0.53    0.69  \n",
       "14         0.65     0.38     0.60    0.67  \n",
       "15         0.91     0.00     0.37    0.67  \n",
       "16         0.83     0.67     0.84    0.84  \n",
       "17         0.90     0.00     0.65    0.69  \n",
       "18         0.83     0.68     0.82    0.83  \n",
       "19         1.00     0.00     0.00    0.62  \n",
       "20         0.81     0.63     0.81    0.82  \n",
       "21         0.90     0.00     0.65    0.69  \n",
       "22         0.81     0.65     0.79    0.81  \n",
       "23         0.93     0.00     0.60    0.69  \n",
       "24         0.83     0.69     0.83    0.84  \n",
       "25         0.89     0.00     0.65    0.69  \n",
       "26         0.82     0.67     0.81    0.82  \n",
       "27         0.94     0.00     0.34    0.64  \n",
       "28         0.80     0.63     0.81    0.82  \n",
       "29         0.89     0.00     0.65    0.69  \n",
       "..          ...      ...      ...     ...  \n",
       "354        0.54     0.35     0.43    0.55  \n",
       "355        0.91     0.00     0.41    0.63  \n",
       "356        0.49     0.40     0.39    0.54  \n",
       "357        0.99     0.00     0.29    0.62  \n",
       "358        0.56     0.35     0.42    0.56  \n",
       "359        1.00     0.00     0.00    0.61  \n",
       "360        0.45     0.41     0.37    0.50  \n",
       "361        1.00     0.00     0.25    0.63  \n",
       "362        0.57     0.31     0.38    0.56  \n",
       "363        0.59     0.00     0.39    0.52  \n",
       "364        0.46     0.41     0.36    0.51  \n",
       "365        1.00     0.00     0.25    0.63  \n",
       "366        0.57     0.30     0.40    0.56  \n",
       "367        0.59     0.00     0.35    0.49  \n",
       "368        0.79     0.72     0.75    0.82  \n",
       "369        0.96     0.01     0.37    0.64  \n",
       "370        0.82     0.74     0.76    0.82  \n",
       "371        0.95     0.00     0.39    0.64  \n",
       "372        0.77     0.68     0.72    0.80  \n",
       "373        0.96     0.00     0.36    0.64  \n",
       "374        0.82     0.72     0.75    0.82  \n",
       "375        0.99     0.00     0.35    0.65  \n",
       "376        0.80     0.72     0.76    0.83  \n",
       "377        0.97     0.00     0.36    0.65  \n",
       "378        0.82     0.73     0.77    0.83  \n",
       "379        0.93     0.00     0.39    0.64  \n",
       "380        0.77     0.69     0.73    0.81  \n",
       "381        0.96     0.00     0.35    0.65  \n",
       "382        0.82     0.73     0.75    0.82  \n",
       "383        1.00     0.00     0.00    0.62  \n",
       "\n",
       "[384 rows x 12 columns]"
      ]
     },
     "execution_count": 12,
     "metadata": {},
     "output_type": "execute_result"
    }
   ],
   "source": [
    "# Convert score data into pandas DataFrame\n",
    "score_df = pd.DataFrame()\n",
    "score_df[\"param\"] = list(training_score.keys())\n",
    "score_df[\"training_score\"] = list(training_score.values())\n",
    "score_df[\"testing_score\"] = list(testing_score.values())\n",
    "score_df[\"precision_draw\"] = list(precision_draw.values())\n",
    "score_df[\"precision_lose\"] = list(precision_lose.values())\n",
    "score_df[\"precision_win\"] = list(precision_win.values())\n",
    "score_df[\"recall_draw\"] = list(recall_draw.values())\n",
    "score_df[\"recall_lose\"] = list(recall_lose.values())\n",
    "score_df[\"recall_win\"] = list(recall_win.values())\n",
    "score_df[\"f1_draw\"] = list(f1_draw.values())\n",
    "score_df[\"f1_lose\"] = list(f1_lose.values())\n",
    "score_df[\"f1_win\"] = list(f1_win.values())\n",
    "# View the shape of \"score_df\"\n",
    "score_df"
   ]
  },
  {
   "cell_type": "code",
   "execution_count": 13,
   "metadata": {},
   "outputs": [],
   "source": [
    "# Save score data as csv file\n",
    "score_df.to_csv(f\"../data/data_for_viz/ml_scores.csv\", index=False, header=True)"
   ]
  },
  {
   "cell_type": "markdown",
   "metadata": {},
   "source": [
    "##### After viz and analysed in Tableau, the following models were selected for further fine tuning:\n",
    "    PremierLeague_12Bet_ori_f4_knn\n",
    "    LaLiga_12Bet_ori_f4_knn\n",
    "    Bundesliga_12Bet_alt_f4_knn\n",
    "    Serie-A_12Bet_alt_f4_knn\n",
    "    Ligue1_12Bet_alt_f4_knn\n",
    "    MLS_12Bet_alt_f4_knn\n",
    "    PremierLeague_WilliamHill_ori_f4_knn (Alternative model from another betting company other than 12Bet)\n",
    "    \n",
    "    From the results:\n",
    "    1. 12Bet is the best betting company we might want to retrieve odds-movement data from\n",
    "    2. All selected models were KNN with n_neighbors=5\n",
    "    3. Removal of odds that were too \"old\" facilitates for two thirds of leagues in building up ML models\n",
    "    4. Despite a high correlation with \"draw_odds\" (and \"win_odds\" to some point), retaining \"lose_odds\" as feature is benefitial in building up ML models"
   ]
  },
  {
   "cell_type": "code",
   "execution_count": 30,
   "metadata": {},
   "outputs": [],
   "source": [
    "# List to hold selected ML model params\n",
    "model_sel = [\n",
    "    \"PremierLeague_12Bet_ori_f4_knn\",\n",
    "    \"LaLiga_12Bet_ori_f4_knn\",\n",
    "    \"Bundesliga_12Bet_alt_f4_knn\",\n",
    "    \"Serie-A_12Bet_alt_f4_knn\",\n",
    "    \"Ligue1_12Bet_alt_f4_knn\",\n",
    "    \"MLS_12Bet_alt_f4_knn\",\n",
    "    \"PremierLeague_WilliamHill_ori_f4_knn\"\n",
    "]"
   ]
  },
  {
   "cell_type": "code",
   "execution_count": 56,
   "metadata": {},
   "outputs": [],
   "source": [
    "# Set up tuning parameters for each classifier\n",
    "param_grid = {\n",
    "    'weights': [\"uniform\", \"distance\"],\n",
    "    'algorithm': [\"ball_tree\", \"kd_tree\", \"brute\", \"auto\"],\n",
    "    'leaf_size': [30, 300]\n",
    "}"
   ]
  },
  {
   "cell_type": "code",
   "execution_count": 66,
   "metadata": {},
   "outputs": [
    {
     "name": "stderr",
     "output_type": "stream",
     "text": [
      "C:\\Users\\kouda\\Anaconda3\\lib\\site-packages\\sklearn\\preprocessing\\data.py:323: DataConversionWarning: Data with input dtype int64, float64 were all converted to float64 by MinMaxScaler.\n",
      "  return self.partial_fit(X, y)\n"
     ]
    },
    {
     "name": "stdout",
     "output_type": "stream",
     "text": [
      "****************************************************************************************************\n",
      "Current iterating: PremierLeague_12Bet_ML_model\n",
      "Current iterating: PremierLeague_12Bet_ML_model DONE!!!\n",
      "\n"
     ]
    },
    {
     "name": "stderr",
     "output_type": "stream",
     "text": [
      "C:\\Users\\kouda\\Anaconda3\\lib\\site-packages\\sklearn\\preprocessing\\data.py:323: DataConversionWarning: Data with input dtype int64, float64 were all converted to float64 by MinMaxScaler.\n",
      "  return self.partial_fit(X, y)\n"
     ]
    },
    {
     "name": "stdout",
     "output_type": "stream",
     "text": [
      "****************************************************************************************************\n",
      "Current iterating: LaLiga_12Bet_ML_model\n",
      "Current iterating: LaLiga_12Bet_ML_model DONE!!!\n",
      "\n"
     ]
    },
    {
     "name": "stderr",
     "output_type": "stream",
     "text": [
      "C:\\Users\\kouda\\Anaconda3\\lib\\site-packages\\sklearn\\preprocessing\\data.py:323: DataConversionWarning: Data with input dtype int64, float64 were all converted to float64 by MinMaxScaler.\n",
      "  return self.partial_fit(X, y)\n"
     ]
    },
    {
     "name": "stdout",
     "output_type": "stream",
     "text": [
      "****************************************************************************************************\n",
      "Current iterating: Bundesliga_12Bet_ML_model\n",
      "Current iterating: Bundesliga_12Bet_ML_model DONE!!!\n",
      "\n"
     ]
    },
    {
     "name": "stderr",
     "output_type": "stream",
     "text": [
      "C:\\Users\\kouda\\Anaconda3\\lib\\site-packages\\sklearn\\preprocessing\\data.py:323: DataConversionWarning: Data with input dtype int64, float64 were all converted to float64 by MinMaxScaler.\n",
      "  return self.partial_fit(X, y)\n"
     ]
    },
    {
     "name": "stdout",
     "output_type": "stream",
     "text": [
      "****************************************************************************************************\n",
      "Current iterating: Serie-A_12Bet_ML_model\n",
      "Current iterating: Serie-A_12Bet_ML_model DONE!!!\n",
      "\n"
     ]
    },
    {
     "name": "stderr",
     "output_type": "stream",
     "text": [
      "C:\\Users\\kouda\\Anaconda3\\lib\\site-packages\\sklearn\\preprocessing\\data.py:323: DataConversionWarning: Data with input dtype int64, float64 were all converted to float64 by MinMaxScaler.\n",
      "  return self.partial_fit(X, y)\n"
     ]
    },
    {
     "name": "stdout",
     "output_type": "stream",
     "text": [
      "****************************************************************************************************\n",
      "Current iterating: Ligue1_12Bet_ML_model\n",
      "Current iterating: Ligue1_12Bet_ML_model DONE!!!\n",
      "\n",
      "****************************************************************************************************\n",
      "Current iterating: MLS_12Bet_ML_model\n",
      "Current iterating: MLS_12Bet_ML_model DONE!!!\n",
      "\n"
     ]
    },
    {
     "name": "stderr",
     "output_type": "stream",
     "text": [
      "C:\\Users\\kouda\\Anaconda3\\lib\\site-packages\\sklearn\\preprocessing\\data.py:323: DataConversionWarning: Data with input dtype int64, float64 were all converted to float64 by MinMaxScaler.\n",
      "  return self.partial_fit(X, y)\n"
     ]
    },
    {
     "name": "stdout",
     "output_type": "stream",
     "text": [
      "****************************************************************************************************\n",
      "Current iterating: PremierLeague_WilliamHill_ML_model\n",
      "Current iterating: PremierLeague_WilliamHill_ML_model DONE!!!\n",
      "\n"
     ]
    }
   ],
   "source": [
    "# Dict to hold tuning info.\n",
    "tuning_dict = {}\n",
    "\n",
    "# Loop through names in \"model_sel\"\n",
    "for name in model_sel:\n",
    "    \n",
    "    # Retrieve params from iterated name\n",
    "    [league, company, tgt, f, model] = name.split(\"_\")\n",
    "    # Retrieve corresponding model from \"model_estb\"\n",
    "    knn_classifier = KNeighborsClassifier(n_neighbors=5)\n",
    "    \n",
    "    # Prep. \"tuning_dict\" to store tuning results\n",
    "    tuning_dict[f\"{league}_{company}\"] = {}\n",
    "    tuning_dict[f\"{league}_{company}\"][\"precision\"] = {}    \n",
    "    tuning_dict[f\"{league}_{company}\"][\"recall\"] = {}\n",
    "    tuning_dict[f\"{league}_{company}\"][\"f1-score\"] = {}    \n",
    "    \n",
    "    # Retrieve the position of league from \"league_dict['league']\"\n",
    "    for idx in range(len(league_dict[\"league\"])):\n",
    "        if league_dict[\"league\"][idx] == league:\n",
    "            break\n",
    "    \n",
    "    # Read csv data\n",
    "    data = pd.read_csv(f'../data/{league}{csv_concat}')    \n",
    "    # Retrieve data from company indicated in model\n",
    "    data_co = data.loc[data[\"company\"] == company, :]\n",
    "    \n",
    "    # Determine data used for fine tuning our machine models\n",
    "    if league == \"PremierLeague\" or league == \"LaLiga\":        \n",
    "        data_tuning = data_co        \n",
    "    else:\n",
    "        data_tuning = data_co.loc[data_co[\"odds_delta_time\"] <= league_dict[\"odds_limit\"][idx], :]\n",
    "    \n",
    "    # Column to be used as label(target)\n",
    "    target_tuning = data_tuning[\"result\"]\n",
    "\n",
    "    # Target encoder\n",
    "    t_encoder_tuning = LabelEncoder().fit(target_tuning.values)\n",
    "    # Transform categorical labels to numerical\n",
    "    target_tuning_encd = t_encoder_tuning.transform(target_tuning.values)       \n",
    "    # One-hot encoding labels\n",
    "    target_tuning_encd_categ = to_categorical(target_tuning_encd)\n",
    "\n",
    "    # Columns to be used as fetures of ML model\n",
    "    features_tuning = data_tuning[feature_dict[\"f4\"]]\n",
    "    \n",
    "    # Set up train and test data for all machine learning models to be built in this project\n",
    "    X_train, X_test, y_train, y_test = train_test_split(features_tuning, target_tuning_encd_categ, random_state =8)\n",
    "\n",
    "    # MinMaxScaler is preferred over StandardScaler for scaling features\n",
    "    X_scaler = MinMaxScaler().fit(X_train)\n",
    "\n",
    "    X_train_scaled = X_scaler.transform(X_train)\n",
    "    X_test_scaled = X_scaler.transform(X_test)    \n",
    "    \n",
    "    # Print current iterating model\n",
    "    print(\"*\" * 100)\n",
    "    print(f'Current iterating: {league}_{company}_ML_model')\n",
    "    \n",
    "    # Create GridSearch estimator\n",
    "    model_estimator = GridSearchCV(knn_classifier, param_grid)\n",
    "    \n",
    "    # Fit model using grid search estimator\n",
    "    model_estimator.fit(X_train_scaled, y_train)\n",
    "    \n",
    "    # Inverse labels in \"y_test\"\n",
    "    y_test_invr = t_encoder_tuning.inverse_transform(np.argmax(y_test, axis=-1))\n",
    "    \n",
    "    # Predict \"y_pred\"\n",
    "    y_pred = model_estimator.predict(X_test_scaled)\n",
    "    # Inverse labels in \"y_pred\"\n",
    "    y_pred_invr = t_encoder_tuning.inverse_transform(np.argmax(y_pred, axis=-1))\n",
    "    \n",
    "    # Append inversed \"y_test\" and \"y_pred\"\n",
    "    tuning_dict[f\"{league}_{company}\"][\"result_test\"] = y_test_invr\n",
    "    tuning_dict[f\"{league}_{company}\"][\"result_pred\"] = y_pred_invr\n",
    "    \n",
    "    # Scores\n",
    "    tuning_dict[f\"{league}_{company}\"][\"training_score\"] = model_estimator.score(X_train_scaled, y_train)\n",
    "    tuning_dict[f\"{league}_{company}\"][\"testing_score\"] = model_estimator.score(X_test_scaled, y_test)\n",
    "    \n",
    "    # Classification report\n",
    "    classif = classification_report(y_test_invr, y_pred_invr).split(\" \")\n",
    "    while \"\" in classif:\n",
    "        classif.remove(\"\")\n",
    "        \n",
    "    # Store \"precision\", \"recall\", and \"f1-score\" info for \"DRAW\", \"LOSE\", and \"WIN\"\n",
    "    tuning_dict[f\"{league}_{company}\"][\"precision\"][\"DRAW\"] = float(classif[5])\n",
    "    tuning_dict[f\"{league}_{company}\"][\"recall\"][\"DRAW\"] = float(classif[6])\n",
    "    tuning_dict[f\"{league}_{company}\"][\"f1-score\"][\"DRAW\"] = float(classif[7])\n",
    "    tuning_dict[f\"{league}_{company}\"][\"precision\"][\"LOSE\"] = float(classif[10])\n",
    "    tuning_dict[f\"{league}_{company}\"][\"recall\"][\"LOSE\"] = float(classif[11])\n",
    "    tuning_dict[f\"{league}_{company}\"][\"f1-score\"][\"LOSE\"] = float(classif[12])                          \n",
    "    tuning_dict[f\"{league}_{company}\"][\"precision\"][\"WIN\"] = float(classif[15])\n",
    "    tuning_dict[f\"{league}_{company}\"][\"recall\"][\"WIN\"] = float(classif[16])\n",
    "    tuning_dict[f\"{league}_{company}\"][\"f1-score\"][\"WIN\"] = float(classif[17])\n",
    "    \n",
    "    # Save model as .pkl file (documentation)\n",
    "    with open(f\"../models/{league}_{company}_ML_model.pkl\", 'wb') as fid:\n",
    "        pickle.dump(model_estimator, fid)\n",
    "\n",
    "    # Print complete information\n",
    "    print(f'Current iterating: {league}_{company}_ML_model DONE!!!\\n')     \n",
    "        "
   ]
  },
  {
   "cell_type": "code",
   "execution_count": 26,
   "metadata": {},
   "outputs": [],
   "source": [
    "# Save X-scaler and target_encoder\n",
    "x_scalerfile = '../models/X-scaler.sav'\n",
    "pickle.dump(X_scaler, open(x_scalerfile, 'wb'))\n",
    "\n",
    "y_scalerfile = '../models/target-encoder.sav'\n",
    "pickle.dump(t_encoder_tuning, open(y_scalerfile, 'wb'))"
   ]
  },
  {
   "cell_type": "code",
   "execution_count": 76,
   "metadata": {},
   "outputs": [
    {
     "name": "stdout",
     "output_type": "stream",
     "text": [
      "**************************************************\n",
      "PremierLeague_12Bet_test: ['L' 'W' 'W' ... 'D' 'L' 'D']\n",
      "PremierLeague_12Bet_pred: ['L' 'W' 'W' ... 'D' 'L' 'D']\n",
      "\n",
      "**************************************************\n",
      "LaLiga_12Bet_test: ['L' 'D' 'L' ... 'W' 'W' 'W']\n",
      "LaLiga_12Bet_pred: ['L' 'D' 'L' ... 'W' 'D' 'W']\n",
      "\n",
      "**************************************************\n",
      "Bundesliga_12Bet_test: ['W' 'W' 'D' ... 'L' 'D' 'L']\n",
      "Bundesliga_12Bet_pred: ['W' 'W' 'W' ... 'L' 'D' 'D']\n",
      "\n",
      "**************************************************\n",
      "Serie-A_12Bet_test: ['D' 'L' 'W' ... 'W' 'L' 'L']\n",
      "Serie-A_12Bet_pred: ['D' 'D' 'W' ... 'W' 'L' 'L']\n",
      "\n",
      "**************************************************\n",
      "Ligue1_12Bet_test: ['W' 'W' 'D' ... 'D' 'L' 'W']\n",
      "Ligue1_12Bet_pred: ['W' 'W' 'D' ... 'D' 'L' 'D']\n",
      "\n",
      "**************************************************\n",
      "MLS_12Bet_test: ['D' 'W' 'D' ... 'W' 'W' 'W']\n",
      "MLS_12Bet_pred: ['D' 'W' 'D' ... 'W' 'W' 'W']\n",
      "\n",
      "**************************************************\n",
      "PremierLeague_WilliamHill_test: ['L' 'W' 'L' ... 'D' 'W' 'D']\n",
      "PremierLeague_WilliamHill_pred: ['L' 'W' 'L' ... 'W' 'W' 'D']\n",
      "\n"
     ]
    },
    {
     "data": {
      "text/html": [
       "<div>\n",
       "<style scoped>\n",
       "    .dataframe tbody tr th:only-of-type {\n",
       "        vertical-align: middle;\n",
       "    }\n",
       "\n",
       "    .dataframe tbody tr th {\n",
       "        vertical-align: top;\n",
       "    }\n",
       "\n",
       "    .dataframe thead th {\n",
       "        text-align: right;\n",
       "    }\n",
       "</style>\n",
       "<table border=\"1\" class=\"dataframe\">\n",
       "  <thead>\n",
       "    <tr style=\"text-align: right;\">\n",
       "      <th></th>\n",
       "      <th>param</th>\n",
       "      <th>training_score</th>\n",
       "      <th>testing_score</th>\n",
       "      <th>precision_win</th>\n",
       "      <th>precision_draw</th>\n",
       "      <th>precision_lose</th>\n",
       "      <th>recall_win</th>\n",
       "      <th>recall_draw</th>\n",
       "      <th>recall_lose</th>\n",
       "      <th>f1_win</th>\n",
       "      <th>f1_draw</th>\n",
       "      <th>f1_lose</th>\n",
       "    </tr>\n",
       "  </thead>\n",
       "  <tbody>\n",
       "    <tr>\n",
       "      <th>0</th>\n",
       "      <td>PremierLeague_12Bet</td>\n",
       "      <td>0.998752</td>\n",
       "      <td>0.831877</td>\n",
       "      <td>0.87</td>\n",
       "      <td>0.71</td>\n",
       "      <td>0.86</td>\n",
       "      <td>0.88</td>\n",
       "      <td>0.73</td>\n",
       "      <td>0.83</td>\n",
       "      <td>0.88</td>\n",
       "      <td>0.72</td>\n",
       "      <td>0.85</td>\n",
       "    </tr>\n",
       "    <tr>\n",
       "      <th>1</th>\n",
       "      <td>LaLiga_12Bet</td>\n",
       "      <td>0.997878</td>\n",
       "      <td>0.811596</td>\n",
       "      <td>0.87</td>\n",
       "      <td>0.77</td>\n",
       "      <td>0.82</td>\n",
       "      <td>0.84</td>\n",
       "      <td>0.82</td>\n",
       "      <td>0.79</td>\n",
       "      <td>0.85</td>\n",
       "      <td>0.80</td>\n",
       "      <td>0.81</td>\n",
       "    </tr>\n",
       "    <tr>\n",
       "      <th>2</th>\n",
       "      <td>Bundesliga_12Bet</td>\n",
       "      <td>0.998576</td>\n",
       "      <td>0.811635</td>\n",
       "      <td>0.86</td>\n",
       "      <td>0.74</td>\n",
       "      <td>0.84</td>\n",
       "      <td>0.85</td>\n",
       "      <td>0.79</td>\n",
       "      <td>0.81</td>\n",
       "      <td>0.85</td>\n",
       "      <td>0.77</td>\n",
       "      <td>0.83</td>\n",
       "    </tr>\n",
       "    <tr>\n",
       "      <th>3</th>\n",
       "      <td>Serie-A_12Bet</td>\n",
       "      <td>0.998332</td>\n",
       "      <td>0.801112</td>\n",
       "      <td>0.85</td>\n",
       "      <td>0.75</td>\n",
       "      <td>0.81</td>\n",
       "      <td>0.84</td>\n",
       "      <td>0.79</td>\n",
       "      <td>0.78</td>\n",
       "      <td>0.85</td>\n",
       "      <td>0.77</td>\n",
       "      <td>0.79</td>\n",
       "    </tr>\n",
       "    <tr>\n",
       "      <th>4</th>\n",
       "      <td>Ligue1_12Bet</td>\n",
       "      <td>0.998386</td>\n",
       "      <td>0.760323</td>\n",
       "      <td>0.83</td>\n",
       "      <td>0.69</td>\n",
       "      <td>0.78</td>\n",
       "      <td>0.81</td>\n",
       "      <td>0.75</td>\n",
       "      <td>0.74</td>\n",
       "      <td>0.82</td>\n",
       "      <td>0.72</td>\n",
       "      <td>0.76</td>\n",
       "    </tr>\n",
       "    <tr>\n",
       "      <th>5</th>\n",
       "      <td>MLS_12Bet</td>\n",
       "      <td>0.997033</td>\n",
       "      <td>0.746306</td>\n",
       "      <td>0.81</td>\n",
       "      <td>0.64</td>\n",
       "      <td>0.74</td>\n",
       "      <td>0.83</td>\n",
       "      <td>0.65</td>\n",
       "      <td>0.69</td>\n",
       "      <td>0.82</td>\n",
       "      <td>0.65</td>\n",
       "      <td>0.71</td>\n",
       "    </tr>\n",
       "    <tr>\n",
       "      <th>6</th>\n",
       "      <td>PremierLeague_WilliamHill</td>\n",
       "      <td>0.998170</td>\n",
       "      <td>0.791641</td>\n",
       "      <td>0.83</td>\n",
       "      <td>0.67</td>\n",
       "      <td>0.84</td>\n",
       "      <td>0.83</td>\n",
       "      <td>0.70</td>\n",
       "      <td>0.81</td>\n",
       "      <td>0.83</td>\n",
       "      <td>0.68</td>\n",
       "      <td>0.82</td>\n",
       "    </tr>\n",
       "  </tbody>\n",
       "</table>\n",
       "</div>"
      ],
      "text/plain": [
       "                       param  training_score  testing_score  precision_win  \\\n",
       "0        PremierLeague_12Bet        0.998752       0.831877           0.87   \n",
       "1               LaLiga_12Bet        0.997878       0.811596           0.87   \n",
       "2           Bundesliga_12Bet        0.998576       0.811635           0.86   \n",
       "3              Serie-A_12Bet        0.998332       0.801112           0.85   \n",
       "4               Ligue1_12Bet        0.998386       0.760323           0.83   \n",
       "5                  MLS_12Bet        0.997033       0.746306           0.81   \n",
       "6  PremierLeague_WilliamHill        0.998170       0.791641           0.83   \n",
       "\n",
       "   precision_draw  precision_lose  recall_win  recall_draw  recall_lose  \\\n",
       "0            0.71            0.86        0.88         0.73         0.83   \n",
       "1            0.77            0.82        0.84         0.82         0.79   \n",
       "2            0.74            0.84        0.85         0.79         0.81   \n",
       "3            0.75            0.81        0.84         0.79         0.78   \n",
       "4            0.69            0.78        0.81         0.75         0.74   \n",
       "5            0.64            0.74        0.83         0.65         0.69   \n",
       "6            0.67            0.84        0.83         0.70         0.81   \n",
       "\n",
       "   f1_win  f1_draw  f1_lose  \n",
       "0    0.88     0.72     0.85  \n",
       "1    0.85     0.80     0.81  \n",
       "2    0.85     0.77     0.83  \n",
       "3    0.85     0.77     0.79  \n",
       "4    0.82     0.72     0.76  \n",
       "5    0.82     0.65     0.71  \n",
       "6    0.83     0.68     0.82  "
      ]
     },
     "execution_count": 76,
     "metadata": {},
     "output_type": "execute_result"
    }
   ],
   "source": [
    "# Convert score data into pandas DataFrame\n",
    "final_score_df = pd.DataFrame()\n",
    "\n",
    "# Dict to show comparison results between test and pred\n",
    "comparison = {}\n",
    "# Loop through \"tuning_dict\"\n",
    "for i in range(len(tuning_dict)):\n",
    "    final_score_df.loc[i, \"param\"] = list(tuning_dict.keys())[i]\n",
    "    final_score_df.loc[i, \"training_score\"] = list(tuning_dict.values())[i][\"training_score\"]\n",
    "    final_score_df.loc[i, \"testing_score\"] = list(tuning_dict.values())[i][\"testing_score\"]\n",
    "    \n",
    "    final_score_df.loc[i, \"precision_win\"] = list(tuning_dict.values())[i][\"precision\"][\"WIN\"]    \n",
    "    final_score_df.loc[i, \"precision_draw\"] = list(tuning_dict.values())[i][\"precision\"][\"DRAW\"]\n",
    "    final_score_df.loc[i, \"precision_lose\"] = list(tuning_dict.values())[i][\"precision\"][\"LOSE\"]    \n",
    "    final_score_df.loc[i, \"recall_win\"] = list(tuning_dict.values())[i][\"recall\"][\"WIN\"]    \n",
    "    final_score_df.loc[i, \"recall_draw\"] = list(tuning_dict.values())[i][\"recall\"][\"DRAW\"]\n",
    "    final_score_df.loc[i, \"recall_lose\"] = list(tuning_dict.values())[i][\"recall\"][\"LOSE\"]    \n",
    "    final_score_df.loc[i, \"f1_win\"] = list(tuning_dict.values())[i][\"f1-score\"][\"WIN\"]    \n",
    "    final_score_df.loc[i, \"f1_draw\"] = list(tuning_dict.values())[i][\"f1-score\"][\"DRAW\"]\n",
    "    final_score_df.loc[i, \"f1_lose\"] = list(tuning_dict.values())[i][\"f1-score\"][\"LOSE\"]\n",
    "    \n",
    "    # Print the comparison between \"test\" and \"pred\" for every model\n",
    "    print(\"*\" * 50)\n",
    "    print(f'{list(tuning_dict.keys())[i]}_test: {list(tuning_dict.values())[i][\"result_test\"]}')\n",
    "    print(f'{list(tuning_dict.keys())[i]}_pred: {list(tuning_dict.values())[i][\"result_pred\"]}\\n')          \n",
    "\n",
    "\n",
    "# View \"final_score_df\"\n",
    "final_score_df"
   ]
  },
  {
   "cell_type": "code",
   "execution_count": 77,
   "metadata": {},
   "outputs": [],
   "source": [
    "# Save score data as csv file\n",
    "final_score_df.to_csv(f\"../data/data_for_viz/ml_scores_final.csv\", index=False, header=True)"
   ]
  },
  {
   "cell_type": "code",
   "execution_count": null,
   "metadata": {},
   "outputs": [],
   "source": []
  }
 ],
 "metadata": {
  "kernelspec": {
   "display_name": "Python 3",
   "language": "python",
   "name": "python3"
  },
  "language_info": {
   "codemirror_mode": {
    "name": "ipython",
    "version": 3
   },
   "file_extension": ".py",
   "mimetype": "text/x-python",
   "name": "python",
   "nbconvert_exporter": "python",
   "pygments_lexer": "ipython3",
   "version": "3.7.1"
  }
 },
 "nbformat": 4,
 "nbformat_minor": 2
}
