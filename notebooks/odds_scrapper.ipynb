{
 "cells": [
  {
   "cell_type": "code",
   "execution_count": 1,
   "metadata": {},
   "outputs": [],
   "source": [
    "# Dependencies for Selenium\n",
    "from selenium import webdriver\n",
    "from selenium.webdriver.common.by import By\n",
    "from selenium.webdriver.support.ui import WebDriverWait\n",
    "from selenium.webdriver.support import expected_conditions as EC\n",
    "\n",
    "import pandas as pd\n",
    "import glob\n",
    "import os\n",
    "\n",
    "# Import external file\n",
    "from odds_scrapper import scrapper\n",
    "from config import league_info, companies_training"
   ]
  },
  {
   "cell_type": "code",
   "execution_count": 2,
   "metadata": {
    "scrolled": true
   },
   "outputs": [
    {
     "name": "stdout",
     "output_type": "stream",
     "text": [
      "************************************************************\n",
      "ODDS-MOVEMENT SCRAPING STARTS FOR Serie-A_S2018-2019\n",
      "............................................................\n",
      "Matches from week1 is under scrapping ...\n",
      "Matches from week2 is under scrapping ...\n",
      "Matches from week3 is under scrapping ...\n",
      "Matches from week4 is under scrapping ...\n",
      "Matches from week5 is under scrapping ...\n",
      "Matches from week6 is under scrapping ...\n",
      "Matches from week7 is under scrapping ...\n",
      "Matches from week8 is under scrapping ...\n",
      "Matches from week9 is under scrapping ...\n",
      "Matches from week10 is under scrapping ...\n",
      "Matches from week11 is under scrapping ...\n",
      "Matches from week12 is under scrapping ...\n",
      "Matches from week13 is under scrapping ...\n",
      "Matches from week14 is under scrapping ...\n",
      "Matches from week15 is under scrapping ...\n",
      "Matches from week16 is under scrapping ...\n",
      "Matches from week17 is under scrapping ...\n",
      "Matches from week18 is under scrapping ...\n",
      "Matches from week19 is under scrapping ...\n",
      "Matches from week20 is under scrapping ...\n",
      "Matches from week21 is under scrapping ...\n",
      "Matches from week22 is under scrapping ...\n",
      "Matches from week23 is under scrapping ...\n",
      "Matches from week24 is under scrapping ...\n",
      "Matches from week25 is under scrapping ...\n",
      "Matches from week26 is under scrapping ...\n",
      "Matches from week27 is under scrapping ...\n",
      "Matches from week28 is under scrapping ...\n",
      "Matches from week29 is under scrapping ...\n",
      "Matches from week30 is under scrapping ...\n",
      "Matches from week31 is under scrapping ...\n",
      "Matches from week32 is under scrapping ...\n",
      "Matches from week33 is under scrapping ...\n",
      "Matches from week34 is under scrapping ...\n",
      "Matches from week35 is under scrapping ...\n",
      "Matches from week36 is under scrapping ...\n",
      "Matches from week37 is under scrapping ...\n",
      "Matches from week38 is under scrapping ...\n",
      "............................................................\n",
      "SCRAPING COMPLETE FOR Serie-A_S2018-2019\n",
      "************************************************************\n",
      "\n"
     ]
    }
   ],
   "source": [
    "# Scrape data\n",
    "scrapper(\"Serie-A\")"
   ]
  },
  {
   "cell_type": "code",
   "execution_count": null,
   "metadata": {},
   "outputs": [],
   "source": []
  },
  {
   "cell_type": "code",
   "execution_count": null,
   "metadata": {},
   "outputs": [],
   "source": []
  }
 ],
 "metadata": {
  "kernelspec": {
   "display_name": "Python 3",
   "language": "python",
   "name": "python3"
  },
  "language_info": {
   "codemirror_mode": {
    "name": "ipython",
    "version": 3
   },
   "file_extension": ".py",
   "mimetype": "text/x-python",
   "name": "python",
   "nbconvert_exporter": "python",
   "pygments_lexer": "ipython3",
   "version": "3.7.3"
  }
 },
 "nbformat": 4,
 "nbformat_minor": 2
}
