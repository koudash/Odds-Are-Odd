{
 "cells": [
  {
   "cell_type": "code",
   "execution_count": null,
   "metadata": {},
   "outputs": [],
   "source": [
    "# Dependencies for Selenium\n",
    "from selenium import webdriver\n",
    "from selenium.webdriver.common.by import By\n",
    "from selenium.webdriver.support.ui import WebDriverWait\n",
    "from selenium.webdriver.support import expected_conditions as EC\n",
    "\n",
    "import pandas as pd\n",
    "\n",
    "# Import external file\n",
    "from odds_scrapper import scrapper\n",
    "from name_translator import companies, seria_a"
   ]
  },
  {
   "cell_type": "code",
   "execution_count": null,
   "metadata": {},
   "outputs": [],
   "source": [
    "# Leagues to be scrapped\n",
    "league_dict = {\n",
    "    \"Seria-A\": {\n",
    "        \"Season\": \"2018-2019\",\n",
    "        \"name_translator\": seria_a,\n",
    "        \"url\": \"http://info.310win.com/cn/League/2018-2019/34.html/\",\n",
    "        \"team_ct\": 20\n",
    "    }\n",
    "}"
   ]
  },
  {
   "cell_type": "code",
   "execution_count": null,
   "metadata": {
    "scrolled": true
   },
   "outputs": [],
   "source": [
    "# Loop through leagues to scrape odds data\n",
    "for key in list(league_dict.keys()):\n",
    "    \n",
    "    # Parameters for \"scrapper\" function\n",
    "    season = league_dict[key][\"Season\"]\n",
    "    name_translator = league_dict[key][\"name_translator\"]\n",
    "    url = league_dict[key][\"url\"]\n",
    "    team_ct = league_dict[key][\"team_ct\"]\n",
    "\n",
    "    # Scrape data\n",
    "    scrapper(key, season, name_translator, url, team_ct)"
   ]
  },
  {
   "cell_type": "code",
   "execution_count": null,
   "metadata": {},
   "outputs": [],
   "source": []
  }
 ],
 "metadata": {
  "kernelspec": {
   "display_name": "Python 3",
   "language": "python",
   "name": "python3"
  },
  "language_info": {
   "codemirror_mode": {
    "name": "ipython",
    "version": 3
   },
   "file_extension": ".py",
   "mimetype": "text/x-python",
   "name": "python",
   "nbconvert_exporter": "python",
   "pygments_lexer": "ipython3",
   "version": "3.7.1"
  }
 },
 "nbformat": 4,
 "nbformat_minor": 2
}
