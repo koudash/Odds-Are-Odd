{
 "cells": [
  {
   "cell_type": "code",
   "execution_count": 1,
   "metadata": {},
   "outputs": [],
   "source": [
    "# Dependencies\n",
    "from splinter import Browser\n",
    "from bs4 import BeautifulSoup\n",
    "import requests\n",
    "import pandas as pd\n",
    "\n",
    "from team_names import seria_a"
   ]
  },
  {
   "cell_type": "code",
   "execution_count": 2,
   "metadata": {},
   "outputs": [],
   "source": [
    "# Use Chrome to scrape the following url\n",
    "executable_path = {'executable_path': 'chromedriver.exe'}\n",
    "browser = Browser('chrome', **executable_path, headless=False)"
   ]
  },
  {
   "cell_type": "code",
   "execution_count": 3,
   "metadata": {},
   "outputs": [],
   "source": [
    "# Url for match historical odds-movements from Bet365\n",
    "url= 'http://www.310win.com/info/oddshistory.aspx?id=87215245&r1=%u5F17%u6D1B%u897F%u8BFA%u5C3C&r2=%u5207%u6C83&Company=Bet%20365'\n",
    "\n",
    "# Navigate to url\n",
    "browser.visit(url)"
   ]
  },
  {
   "cell_type": "code",
   "execution_count": 4,
   "metadata": {},
   "outputs": [],
   "source": [
    "week = 38\n",
    "year = 2019\n",
    "match_time = \"05-25 10:59\"\n",
    "gc = \"Bet365\""
   ]
  },
  {
   "cell_type": "code",
   "execution_count": 5,
   "metadata": {},
   "outputs": [
    {
     "data": {
      "text/plain": [
       "[0, 1, 2, -1]"
      ]
     },
     "execution_count": 5,
     "metadata": {},
     "output_type": "execute_result"
    }
   ],
   "source": [
    "# dict to store columns of win, draw, loss odds for home team as well as update time\n",
    "dict_im = {0:[], 1:[], 2:[], -1:[]}\n",
    "\n",
    "# View the keys for \"dict_im\"\n",
    "list(dict_im.keys())"
   ]
  },
  {
   "cell_type": "code",
   "execution_count": 6,
   "metadata": {
    "scrolled": true
   },
   "outputs": [
    {
     "data": {
      "text/plain": [
       "{0: ['2.00',\n",
       "  '2.05',\n",
       "  '2.10',\n",
       "  '2.20',\n",
       "  '2.30',\n",
       "  '2.20',\n",
       "  '2.37',\n",
       "  '2.30',\n",
       "  '2.40',\n",
       "  '2.40',\n",
       "  '2.30',\n",
       "  '2.45',\n",
       "  '2.30',\n",
       "  '2.25',\n",
       "  '2.30'],\n",
       " 1: ['3.75',\n",
       "  '3.75',\n",
       "  '3.75',\n",
       "  '3.80',\n",
       "  '3.75',\n",
       "  '3.60',\n",
       "  '3.60',\n",
       "  '3.75',\n",
       "  '3.75',\n",
       "  '3.75',\n",
       "  '3.75',\n",
       "  '3.75',\n",
       "  '3.75',\n",
       "  '3.75',\n",
       "  '3.75'],\n",
       " 2: ['3.40',\n",
       "  '3.30',\n",
       "  '3.25',\n",
       "  '3.00',\n",
       "  '2.80',\n",
       "  '3.00',\n",
       "  '2.80',\n",
       "  '2.87',\n",
       "  '2.70',\n",
       "  '2.62',\n",
       "  '2.80',\n",
       "  '2.62',\n",
       "  '2.80',\n",
       "  '2.87',\n",
       "  '2.75'],\n",
       " -1: ['\\xa0 05-25 23:35',\n",
       "  '\\xa0 05-25 22:16',\n",
       "  '\\xa0 05-25 19:25',\n",
       "  '\\xa0 05-24 17:53',\n",
       "  '\\xa0 05-23 23:10',\n",
       "  '\\xa0 05-23 22:17',\n",
       "  '\\xa0 05-23 18:01',\n",
       "  '\\xa0 05-23 16:06',\n",
       "  '\\xa0 05-23 12:02',\n",
       "  '\\xa0 05-23 04:45',\n",
       "  '\\xa0 05-23 01:37',\n",
       "  '\\xa0 05-21 22:33',\n",
       "  '\\xa0 05-21 21:37',\n",
       "  '\\xa0 05-21 19:19',\n",
       "  '\\xa0 05-21 08:26(初盘)']}"
      ]
     },
     "execution_count": 6,
     "metadata": {},
     "output_type": "execute_result"
    }
   ],
   "source": [
    "# Parse HTML with BeautifulSoup\n",
    "soup = BeautifulSoup(browser.html, 'html.parser')\n",
    "\n",
    "# Find the table\n",
    "table = soup.find('table')\n",
    "\n",
    "# Retrieve all rows from tbody\n",
    "rows = table.tbody.find_all('tr')\n",
    "\n",
    "# Loop through each row (except the header)\n",
    "# Note that there is no \"th\" in the table\n",
    "for i in range(len(rows)):      \n",
    "    \n",
    "    # Find all \"td\"\n",
    "    tds = rows[i].find_all('td')\n",
    "    \n",
    "    # Retrieve the names of home and away teams from the \"header\" line\n",
    "    if i == 0:\n",
    "        home = tds[0].text\n",
    "        away = tds[2].text\n",
    "    # Scrape odds as well as time features and append to corresponding keys of \"dict_im\"    \n",
    "    else:           \n",
    "        [dict_im[key].append(tds[key].text) for key in list(dict_im.keys())]\n",
    "        \n",
    "# View \"dict_im\"\n",
    "dict_im"
   ]
  },
  {
   "cell_type": "code",
   "execution_count": 7,
   "metadata": {},
   "outputs": [
    {
     "data": {
      "text/plain": [
       "['05-25 23:35',\n",
       " '05-25 22:16',\n",
       " '05-25 19:25',\n",
       " '05-24 17:53',\n",
       " '05-23 23:10',\n",
       " '05-23 22:17',\n",
       " '05-23 18:01',\n",
       " '05-23 16:06',\n",
       " '05-23 12:02',\n",
       " '05-23 04:45',\n",
       " '05-23 01:37',\n",
       " '05-21 22:33',\n",
       " '05-21 21:37',\n",
       " '05-21 19:19',\n",
       " '05-21 08:26']"
      ]
     },
     "execution_count": 7,
     "metadata": {},
     "output_type": "execute_result"
    }
   ],
   "source": [
    "# Remove \"\\xa\" in \"dict_im[-1]\" list\n",
    "for i in range(len(dict_im[-1])):\n",
    "    dict_im[-1][i] = dict_im[-1][i][2:]\n",
    "\n",
    "# Remove unnecessary Chinese character for the last date in \"dict_im[-1]\" (date of the original odds)\n",
    "dict_im[-1][-1] = dict_im[-1][-1][:-4]\n",
    "\n",
    "# View \"dict_im[-1]\"\n",
    "dict_im[-1]"
   ]
  },
  {
   "cell_type": "code",
   "execution_count": 8,
   "metadata": {},
   "outputs": [],
   "source": [
    "# Convert \"match_time\" to timestamps\n",
    "match_time = pd.to_datetime(str(year) + \"-\" + match_time, format=\"%Y-%m-%d %H:%M\", errors=\"ignore\")"
   ]
  },
  {
   "cell_type": "code",
   "execution_count": 9,
   "metadata": {},
   "outputs": [],
   "source": [
    "# List to store time towards the start of match for each odds record\n",
    "odds_time_list = []"
   ]
  },
  {
   "cell_type": "code",
   "execution_count": 10,
   "metadata": {},
   "outputs": [
    {
     "data": {
      "text/plain": [
       "[24.0,\n",
       " 103.0,\n",
       " 274.0,\n",
       " 1806.0,\n",
       " 2929.0,\n",
       " 2982.0,\n",
       " 3238.0,\n",
       " 3353.0,\n",
       " 3597.0,\n",
       " 4034.0,\n",
       " 4222.0,\n",
       " 5846.0,\n",
       " 5902.0,\n",
       " 6040.0,\n",
       " 6693.0]"
      ]
     },
     "execution_count": 10,
     "metadata": {},
     "output_type": "execute_result"
    }
   ],
   "source": [
    "# Loop through all times in \"dict_im[-1]\"\n",
    "for dt in dict_im[-1]:\n",
    "    \n",
    "    # Convert odds time to timestamps\n",
    "    odds_time = pd.to_datetime(str(year) + \"-\" + dt, format=\"%Y-%m-%d %H:%M\", errors=\"ignore\")\n",
    "    \n",
    "    # Note that \"match_time\" is scrapped as Central (Daylight/Standard) Time (GMT-5 for CDT or GMT-6 for CST)\n",
    "    # Also note that \"odds_time\" is scarpped as China Standard Time (GMT+8)\n",
    "    delta_min = (match_time - odds_time + pd.Timedelta(hours=13)).total_seconds() / 60\n",
    "    \n",
    "    # Append minutes for odds towards starting of the match to \"odds_time_list\"\n",
    "    odds_time_list.append(delta_min)\n",
    "\n",
    "# View \"odds_time_list\"\n",
    "odds_time_list    "
   ]
  },
  {
   "cell_type": "code",
   "execution_count": 11,
   "metadata": {},
   "outputs": [
    {
     "data": {
      "text/html": [
       "<div>\n",
       "<style scoped>\n",
       "    .dataframe tbody tr th:only-of-type {\n",
       "        vertical-align: middle;\n",
       "    }\n",
       "\n",
       "    .dataframe tbody tr th {\n",
       "        vertical-align: top;\n",
       "    }\n",
       "\n",
       "    .dataframe thead th {\n",
       "        text-align: right;\n",
       "    }\n",
       "</style>\n",
       "<table border=\"1\" class=\"dataframe\">\n",
       "  <thead>\n",
       "    <tr style=\"text-align: right;\">\n",
       "      <th></th>\n",
       "      <th>win</th>\n",
       "      <th>draw</th>\n",
       "      <th>lose</th>\n",
       "      <th>odds_time_minutes</th>\n",
       "    </tr>\n",
       "  </thead>\n",
       "  <tbody>\n",
       "    <tr>\n",
       "      <th>0</th>\n",
       "      <td>2.00</td>\n",
       "      <td>3.75</td>\n",
       "      <td>3.40</td>\n",
       "      <td>24.0</td>\n",
       "    </tr>\n",
       "    <tr>\n",
       "      <th>1</th>\n",
       "      <td>2.05</td>\n",
       "      <td>3.75</td>\n",
       "      <td>3.30</td>\n",
       "      <td>103.0</td>\n",
       "    </tr>\n",
       "    <tr>\n",
       "      <th>2</th>\n",
       "      <td>2.10</td>\n",
       "      <td>3.75</td>\n",
       "      <td>3.25</td>\n",
       "      <td>274.0</td>\n",
       "    </tr>\n",
       "    <tr>\n",
       "      <th>3</th>\n",
       "      <td>2.20</td>\n",
       "      <td>3.80</td>\n",
       "      <td>3.00</td>\n",
       "      <td>1806.0</td>\n",
       "    </tr>\n",
       "    <tr>\n",
       "      <th>4</th>\n",
       "      <td>2.30</td>\n",
       "      <td>3.75</td>\n",
       "      <td>2.80</td>\n",
       "      <td>2929.0</td>\n",
       "    </tr>\n",
       "  </tbody>\n",
       "</table>\n",
       "</div>"
      ],
      "text/plain": [
       "    win  draw  lose  odds_time_minutes\n",
       "0  2.00  3.75  3.40               24.0\n",
       "1  2.05  3.75  3.30              103.0\n",
       "2  2.10  3.75  3.25              274.0\n",
       "3  2.20  3.80  3.00             1806.0\n",
       "4  2.30  3.75  2.80             2929.0"
      ]
     },
     "execution_count": 11,
     "metadata": {},
     "output_type": "execute_result"
    }
   ],
   "source": [
    "# Pandas DataFrame for scrapped data\n",
    "match = pd.DataFrame({\n",
    "    \"win\": dict_im[0],\n",
    "    \"draw\": dict_im[1],\n",
    "    \"lose\": dict_im[2],\n",
    "    \"odds_time_minutes\": odds_time_list\n",
    "})\n",
    "\n",
    "# Preview \"match\"\n",
    "match.head()"
   ]
  },
  {
   "cell_type": "code",
   "execution_count": 12,
   "metadata": {},
   "outputs": [],
   "source": [
    "# Close the browser\n",
    "browser.quit()"
   ]
  },
  {
   "cell_type": "code",
   "execution_count": 13,
   "metadata": {},
   "outputs": [],
   "source": [
    "# Save \"match\" as csv file\n",
    "match.to_csv(f\"../data/wk{week}_{seria_a[home]}_{seria_a[away]}_{gc}.csv\", index=False, header=True)"
   ]
  },
  {
   "cell_type": "code",
   "execution_count": null,
   "metadata": {},
   "outputs": [],
   "source": []
  }
 ],
 "metadata": {
  "kernelspec": {
   "display_name": "Python 3",
   "language": "python",
   "name": "python3"
  },
  "language_info": {
   "codemirror_mode": {
    "name": "ipython",
    "version": 3
   },
   "file_extension": ".py",
   "mimetype": "text/x-python",
   "name": "python",
   "nbconvert_exporter": "python",
   "pygments_lexer": "ipython3",
   "version": "3.7.1"
  }
 },
 "nbformat": 4,
 "nbformat_minor": 2
}
